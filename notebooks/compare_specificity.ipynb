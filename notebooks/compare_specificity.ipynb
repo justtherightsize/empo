{
 "cells": [
  {
   "cell_type": "code",
   "execution_count": 1,
   "metadata": {},
   "outputs": [],
   "source": [
    "import pandas as pd\n",
    "import os\n",
    "from scipy import stats\n",
    "import numpy as np\n",
    "from collections import defaultdict\n",
    "from tabulate import tabulate\n",
    "\n",
    "\n",
    "results_dir = '../data/results/empathy_eval_results/'\n",
    "files = ['preds_dlrxxx_zephyr-7b-sft-full122_specificity.txt', 'preds_dlr1e6_zephyr-7b-sft-full122_d211_specificity.txt', 'preds_dlrxxx_zephyr-7b-sft-full_specificity.txt']"
   ]
  },
  {
   "cell_type": "code",
   "execution_count": 4,
   "metadata": {},
   "outputs": [],
   "source": [
    "df1 = pd.read_csv(os.path.join(results_dir, 'preds_dlrxxx_zephyr-7b-sft-full122_specificity.txt'), sep='~')\n",
    "df2 = pd.read_csv(os.path.join(results_dir, 'preds_dlr1e6_zephyr-7b-sft-full122_d211_specificity.txt'), sep='~')\n",
    "df3 = pd.read_csv(os.path.join(results_dir, 'preds_dlrxxx_zephyr-7b-sft-full_specificity.txt'), sep='~')\n",
    "df5 = pd.read_csv(os.path.join(results_dir, 'preds_dlr1e6_zephyr-7b-sft-full122_d230_specificity.txt'), sep='~')\n",
    "df6 = pd.read_csv(os.path.join(results_dir, 'preds_dlr1e6_zephyr-7b-sft-full122_d231_specificity.txt'), sep='~')\n",
    "df7 = pd.read_csv(os.path.join(results_dir, 'preds_dlrxxx30x_zephyr-7b-sft-full_specificity.txt'), sep='~')\n",
    "human_df = pd.read_csv(os.path.join(results_dir, \"human_specificity.txt\"), sep='~')"
   ]
  },
  {
   "cell_type": "code",
   "execution_count": 5,
   "metadata": {},
   "outputs": [
    {
     "data": {
      "text/html": [
       "<div>\n",
       "<style scoped>\n",
       "    .dataframe tbody tr th:only-of-type {\n",
       "        vertical-align: middle;\n",
       "    }\n",
       "\n",
       "    .dataframe tbody tr th {\n",
       "        vertical-align: top;\n",
       "    }\n",
       "\n",
       "    .dataframe thead th {\n",
       "        text-align: right;\n",
       "    }\n",
       "</style>\n",
       "<table border=\"1\" class=\"dataframe\">\n",
       "  <thead>\n",
       "    <tr style=\"text-align: right;\">\n",
       "      <th></th>\n",
       "      <th>df1</th>\n",
       "      <th>df2</th>\n",
       "      <th>df3</th>\n",
       "      <th>df4</th>\n",
       "      <th>df5</th>\n",
       "      <th>df6</th>\n",
       "      <th>df7</th>\n",
       "    </tr>\n",
       "  </thead>\n",
       "  <tbody>\n",
       "    <tr>\n",
       "      <th>0</th>\n",
       "      <td>0.183983</td>\n",
       "      <td>0.374588</td>\n",
       "      <td>0.329744</td>\n",
       "      <td>0.303654</td>\n",
       "      <td>0.410977</td>\n",
       "      <td>0.363432</td>\n",
       "      <td>0.276462</td>\n",
       "    </tr>\n",
       "    <tr>\n",
       "      <th>1</th>\n",
       "      <td>0.198119</td>\n",
       "      <td>0.247147</td>\n",
       "      <td>0.258448</td>\n",
       "      <td>0.220178</td>\n",
       "      <td>0.197989</td>\n",
       "      <td>0.247147</td>\n",
       "      <td>0.202111</td>\n",
       "    </tr>\n",
       "    <tr>\n",
       "      <th>2</th>\n",
       "      <td>0.244100</td>\n",
       "      <td>0.298339</td>\n",
       "      <td>0.325729</td>\n",
       "      <td>0.349959</td>\n",
       "      <td>0.247932</td>\n",
       "      <td>0.276742</td>\n",
       "      <td>0.322940</td>\n",
       "    </tr>\n",
       "    <tr>\n",
       "      <th>3</th>\n",
       "      <td>0.215458</td>\n",
       "      <td>0.294622</td>\n",
       "      <td>0.266352</td>\n",
       "      <td>0.305621</td>\n",
       "      <td>0.215020</td>\n",
       "      <td>0.215020</td>\n",
       "      <td>0.375627</td>\n",
       "    </tr>\n",
       "    <tr>\n",
       "      <th>4</th>\n",
       "      <td>0.217794</td>\n",
       "      <td>0.218387</td>\n",
       "      <td>0.273491</td>\n",
       "      <td>0.340205</td>\n",
       "      <td>0.238918</td>\n",
       "      <td>0.198017</td>\n",
       "      <td>0.224087</td>\n",
       "    </tr>\n",
       "    <tr>\n",
       "      <th>...</th>\n",
       "      <td>...</td>\n",
       "      <td>...</td>\n",
       "      <td>...</td>\n",
       "      <td>...</td>\n",
       "      <td>...</td>\n",
       "      <td>...</td>\n",
       "      <td>...</td>\n",
       "    </tr>\n",
       "    <tr>\n",
       "      <th>2535</th>\n",
       "      <td>0.216682</td>\n",
       "      <td>0.278673</td>\n",
       "      <td>0.227164</td>\n",
       "      <td>0.187269</td>\n",
       "      <td>0.278673</td>\n",
       "      <td>0.294309</td>\n",
       "      <td>0.151312</td>\n",
       "    </tr>\n",
       "    <tr>\n",
       "      <th>2536</th>\n",
       "      <td>0.243179</td>\n",
       "      <td>0.366589</td>\n",
       "      <td>0.362967</td>\n",
       "      <td>0.280253</td>\n",
       "      <td>0.294557</td>\n",
       "      <td>0.359552</td>\n",
       "      <td>0.284353</td>\n",
       "    </tr>\n",
       "    <tr>\n",
       "      <th>2537</th>\n",
       "      <td>0.247419</td>\n",
       "      <td>0.259978</td>\n",
       "      <td>0.298492</td>\n",
       "      <td>0.409763</td>\n",
       "      <td>0.314200</td>\n",
       "      <td>0.314200</td>\n",
       "      <td>0.151312</td>\n",
       "    </tr>\n",
       "    <tr>\n",
       "      <th>2538</th>\n",
       "      <td>0.245652</td>\n",
       "      <td>0.369529</td>\n",
       "      <td>0.207603</td>\n",
       "      <td>0.347666</td>\n",
       "      <td>0.329340</td>\n",
       "      <td>0.326431</td>\n",
       "      <td>0.233939</td>\n",
       "    </tr>\n",
       "    <tr>\n",
       "      <th>2539</th>\n",
       "      <td>0.375508</td>\n",
       "      <td>0.289049</td>\n",
       "      <td>0.375508</td>\n",
       "      <td>0.249721</td>\n",
       "      <td>0.289049</td>\n",
       "      <td>0.289049</td>\n",
       "      <td>0.300406</td>\n",
       "    </tr>\n",
       "  </tbody>\n",
       "</table>\n",
       "<p>2540 rows × 7 columns</p>\n",
       "</div>"
      ],
      "text/plain": [
       "           df1       df2       df3       df4       df5       df6       df7\n",
       "0     0.183983  0.374588  0.329744  0.303654  0.410977  0.363432  0.276462\n",
       "1     0.198119  0.247147  0.258448  0.220178  0.197989  0.247147  0.202111\n",
       "2     0.244100  0.298339  0.325729  0.349959  0.247932  0.276742  0.322940\n",
       "3     0.215458  0.294622  0.266352  0.305621  0.215020  0.215020  0.375627\n",
       "4     0.217794  0.218387  0.273491  0.340205  0.238918  0.198017  0.224087\n",
       "...        ...       ...       ...       ...       ...       ...       ...\n",
       "2535  0.216682  0.278673  0.227164  0.187269  0.278673  0.294309  0.151312\n",
       "2536  0.243179  0.366589  0.362967  0.280253  0.294557  0.359552  0.284353\n",
       "2537  0.247419  0.259978  0.298492  0.409763  0.314200  0.314200  0.151312\n",
       "2538  0.245652  0.369529  0.207603  0.347666  0.329340  0.326431  0.233939\n",
       "2539  0.375508  0.289049  0.375508  0.249721  0.289049  0.289049  0.300406\n",
       "\n",
       "[2540 rows x 7 columns]"
      ]
     },
     "execution_count": 5,
     "metadata": {},
     "output_type": "execute_result"
    }
   ],
   "source": [
    "specificity_df = pd.concat([df[['specificity']].rename(columns={'specificity':f\"df{i+1}\"}) for i, df in enumerate([df1,df2,df3,human_df,df5,df6,df7])], axis=1)\n",
    "specificity_df"
   ]
  },
  {
   "cell_type": "code",
   "execution_count": 8,
   "metadata": {},
   "outputs": [
    {
     "data": {
      "text/plain": [
       "count    2540.000000\n",
       "mean        0.262050\n",
       "std         0.052124\n",
       "min         0.126446\n",
       "25%         0.227877\n",
       "50%         0.260629\n",
       "75%         0.292014\n",
       "max         0.480480\n",
       "Name: specificity, dtype: float64"
      ]
     },
     "execution_count": 8,
     "metadata": {},
     "output_type": "execute_result"
    }
   ],
   "source": [
    "df7.specificity.describe()"
   ]
  },
  {
   "cell_type": "code",
   "execution_count": 7,
   "metadata": {},
   "outputs": [
    {
     "data": {
      "text/html": [
       "<div>\n",
       "<style scoped>\n",
       "    .dataframe tbody tr th:only-of-type {\n",
       "        vertical-align: middle;\n",
       "    }\n",
       "\n",
       "    .dataframe tbody tr th {\n",
       "        vertical-align: top;\n",
       "    }\n",
       "\n",
       "    .dataframe thead th {\n",
       "        text-align: right;\n",
       "    }\n",
       "</style>\n",
       "<table border=\"1\" class=\"dataframe\">\n",
       "  <thead>\n",
       "    <tr style=\"text-align: right;\">\n",
       "      <th></th>\n",
       "      <th>Unnamed: 0</th>\n",
       "      <th>chat_templates</th>\n",
       "      <th>gen_targets</th>\n",
       "      <th>prevs</th>\n",
       "      <th>emotions</th>\n",
       "      <th>gens</th>\n",
       "      <th>specificity</th>\n",
       "    </tr>\n",
       "  </thead>\n",
       "  <tbody>\n",
       "    <tr>\n",
       "      <th>951</th>\n",
       "      <td>951</td>\n",
       "      <td>&lt;|system|&gt;\\nYou are a friendly assistant, who ...</td>\n",
       "      <td>Woah plot twist. She brought him along to meet...</td>\n",
       "      <td>Well, right after she gave me a big hug, she i...</td>\n",
       "      <td>jealous</td>\n",
       "      <td>OHHHHHHHHHHHHHHHHHHHHHHHHHHHHHHHHHHHHHHHHHHHHH...</td>\n",
       "      <td>1.0</td>\n",
       "    </tr>\n",
       "  </tbody>\n",
       "</table>\n",
       "</div>"
      ],
      "text/plain": [
       "     Unnamed: 0                                     chat_templates  \\\n",
       "951         951  <|system|>\\nYou are a friendly assistant, who ...   \n",
       "\n",
       "                                           gen_targets  \\\n",
       "951  Woah plot twist. She brought him along to meet...   \n",
       "\n",
       "                                                 prevs emotions  \\\n",
       "951  Well, right after she gave me a big hug, she i...  jealous   \n",
       "\n",
       "                                                  gens  specificity  \n",
       "951  OHHHHHHHHHHHHHHHHHHHHHHHHHHHHHHHHHHHHHHHHHHHHH...          1.0  "
      ]
     },
     "execution_count": 7,
     "metadata": {},
     "output_type": "execute_result"
    }
   ],
   "source": [
    "df2[df2.specificity == 1]"
   ]
  },
  {
   "cell_type": "code",
   "execution_count": 30,
   "metadata": {},
   "outputs": [
    {
     "data": {
      "text/html": [
       "<div>\n",
       "<style scoped>\n",
       "    .dataframe tbody tr th:only-of-type {\n",
       "        vertical-align: middle;\n",
       "    }\n",
       "\n",
       "    .dataframe tbody tr th {\n",
       "        vertical-align: top;\n",
       "    }\n",
       "\n",
       "    .dataframe thead th {\n",
       "        text-align: right;\n",
       "    }\n",
       "</style>\n",
       "<table border=\"1\" class=\"dataframe\">\n",
       "  <thead>\n",
       "    <tr style=\"text-align: right;\">\n",
       "      <th></th>\n",
       "      <th>Unnamed: 0</th>\n",
       "      <th>chat_templates</th>\n",
       "      <th>gen_targets</th>\n",
       "      <th>prevs</th>\n",
       "      <th>emotions</th>\n",
       "      <th>gens</th>\n",
       "      <th>specificity</th>\n",
       "    </tr>\n",
       "  </thead>\n",
       "  <tbody>\n",
       "    <tr>\n",
       "      <th>824</th>\n",
       "      <td>824</td>\n",
       "      <td>&lt;|system|&gt;\\nYou are a friendly assistant, who ...</td>\n",
       "      <td>Please tell me who she is!!!!!</td>\n",
       "      <td>She's a female singer. It sort of burns me up ...</td>\n",
       "      <td>jealous</td>\n",
       "      <td>Ohhhhhhhhhhhhhhhhhhhhhhhhhhhhhhhhhhhhhhhhhhhhh...</td>\n",
       "      <td>1.0</td>\n",
       "    </tr>\n",
       "  </tbody>\n",
       "</table>\n",
       "</div>"
      ],
      "text/plain": [
       "     Unnamed: 0                                     chat_templates  \\\n",
       "824         824  <|system|>\\nYou are a friendly assistant, who ...   \n",
       "\n",
       "                        gen_targets  \\\n",
       "824  Please tell me who she is!!!!!   \n",
       "\n",
       "                                                 prevs emotions  \\\n",
       "824  She's a female singer. It sort of burns me up ...  jealous   \n",
       "\n",
       "                                                  gens  specificity  \n",
       "824  Ohhhhhhhhhhhhhhhhhhhhhhhhhhhhhhhhhhhhhhhhhhhhh...          1.0  "
      ]
     },
     "execution_count": 30,
     "metadata": {},
     "output_type": "execute_result"
    }
   ],
   "source": [
    "df6[df6.specificity == 1]"
   ]
  },
  {
   "cell_type": "code",
   "execution_count": 4,
   "metadata": {},
   "outputs": [],
   "source": [
    "# from tabulate import tabulate\n",
    "\n",
    "# print(tabulate(specificity_df.var(), headers=['model', 'var'], floatfmt=\".3f\", showindex=False, tablefmt='outline'))"
   ]
  },
  {
   "cell_type": "code",
   "execution_count": 9,
   "metadata": {},
   "outputs": [
    {
     "name": "stdout",
     "output_type": "stream",
     "text": [
      "+---------+---------+--------+\n",
      "| model   |       t |   pval |\n",
      "+=========+=========+========+\n",
      "| df1     | -46.746 |  0.000 |\n",
      "| df2     |  -1.950 |  0.052 |\n",
      "| df3     |   1.712 |  0.087 |\n",
      "| df5     |  -7.136 |  0.000 |\n",
      "| df6     |  -9.264 |  0.000 |\n",
      "| df7     | -20.604 |  0.000 |\n",
      "+---------+---------+--------+\n"
     ]
    }
   ],
   "source": [
    "sig_thresh = .05\n",
    "sig_table = defaultdict(lambda:[])\n",
    "\n",
    "for col in ['df1','df2','df3', 'df5', 'df6', 'df7']:\n",
    "    sig_table['model'].append(col)\n",
    "    res = stats.ttest_ind(specificity_df[col], specificity_df['df4'], equal_var=False, permutations=10000, random_state=34)\n",
    "    sig_table['t'].append(res.statistic)\n",
    "    sig_table['pval'].append(res.pvalue)\n",
    "\n",
    "sig_table = pd.DataFrame(sig_table)\n",
    "print(tabulate(sig_table, headers=sig_table.columns, floatfmt=\".3f\", showindex=False, tablefmt='outline'))"
   ]
  },
  {
   "cell_type": "code",
   "execution_count": 26,
   "metadata": {},
   "outputs": [
    {
     "data": {
      "text/plain": [
       "count    2540.000000\n",
       "mean        0.284065\n",
       "std         0.058103\n",
       "min         0.128985\n",
       "25%         0.245555\n",
       "50%         0.278594\n",
       "75%         0.314243\n",
       "max         0.902201\n",
       "Name: specificity, dtype: float64"
      ]
     },
     "execution_count": 26,
     "metadata": {},
     "output_type": "execute_result"
    }
   ],
   "source": [
    "df5['specificity'].describe()"
   ]
  },
  {
   "cell_type": "code",
   "execution_count": 27,
   "metadata": {},
   "outputs": [
    {
     "data": {
      "text/plain": [
       "count    2540.000000\n",
       "mean        0.280491\n",
       "std         0.056838\n",
       "min         0.136261\n",
       "25%         0.243862\n",
       "50%         0.274885\n",
       "75%         0.309456\n",
       "max         1.000000\n",
       "Name: specificity, dtype: float64"
      ]
     },
     "execution_count": 27,
     "metadata": {},
     "output_type": "execute_result"
    }
   ],
   "source": [
    "df6['specificity'].describe()"
   ]
  },
  {
   "cell_type": "code",
   "execution_count": 10,
   "metadata": {},
   "outputs": [
    {
     "name": "stdout",
     "output_type": "stream",
     "text": [
      "+-------------+---------+--------+\n",
      "| pair        |       t |   pval |\n",
      "+=============+=========+========+\n",
      "| df1 vs. df2 | -47.265 |  0.000 |\n",
      "| df1 vs. df3 | -58.005 |  0.000 |\n",
      "| df1 vs. df5 | -42.445 |  0.000 |\n",
      "| df1 vs. df6 | -40.532 |  0.000 |\n",
      "| df1 vs. df7 | -29.087 |  0.000 |\n",
      "| df2 vs. df1 |  47.265 |  0.000 |\n",
      "| df2 vs. df3 |  -4.037 |  0.000 |\n",
      "| df2 vs. df5 |   5.398 |  0.000 |\n",
      "| df2 vs. df6 |   7.618 |  0.000 |\n",
      "| df2 vs. df7 |  19.522 |  0.000 |\n",
      "| df3 vs. df1 |  58.005 |  0.000 |\n",
      "| df3 vs. df2 |   4.037 |  0.000 |\n",
      "| df3 vs. df5 |  10.066 |  0.000 |\n",
      "| df3 vs. df6 |  12.571 |  0.000 |\n",
      "| df3 vs. df7 |  26.037 |  0.000 |\n",
      "| df5 vs. df1 |  42.445 |  0.000 |\n",
      "| df5 vs. df2 |  -5.398 |  0.000 |\n",
      "| df5 vs. df3 | -10.066 |  0.000 |\n",
      "| df5 vs. df6 |   2.216 |  0.027 |\n",
      "| df5 vs. df7 |  14.214 |  0.000 |\n",
      "| df6 vs. df1 |  40.532 |  0.000 |\n",
      "| df6 vs. df2 |  -7.618 |  0.000 |\n",
      "| df6 vs. df3 | -12.571 |  0.000 |\n",
      "| df6 vs. df5 |  -2.216 |  0.027 |\n",
      "| df6 vs. df7 |  12.052 |  0.000 |\n",
      "| df7 vs. df1 |  29.087 |  0.000 |\n",
      "| df7 vs. df2 | -19.522 |  0.000 |\n",
      "| df7 vs. df3 | -26.037 |  0.000 |\n",
      "| df7 vs. df5 | -14.214 |  0.000 |\n",
      "| df7 vs. df6 | -12.052 |  0.000 |\n",
      "+-------------+---------+--------+\n"
     ]
    }
   ],
   "source": [
    "sig_table = defaultdict(lambda:[])\n",
    "\n",
    "for model in ['df1','df2','df3', 'df5', 'df6', 'df7']:\n",
    "    for model2 in ['df1','df2','df3', 'df5', 'df6', 'df7']:\n",
    "        if model == model2:\n",
    "            continue\n",
    "        if f\"{model} vs. {model2}\" not in sig_table['pair']:\n",
    "            sig_table['pair'].append(f\"{model} vs. {model2}\")\n",
    "\n",
    "        # sig_table['model'].append(col)\n",
    "        res = stats.ttest_ind(specificity_df[model], specificity_df[model2], equal_var=False, permutations=10000, random_state=34)\n",
    "        sig_table['t'].append(res.statistic)\n",
    "        sig_table['pval'].append(res.pvalue)\n",
    "\n",
    "sig_table = pd.DataFrame(sig_table)\n",
    "print(tabulate(sig_table, headers=sig_table.columns, floatfmt=\".3f\", showindex=False, tablefmt='outline'))"
   ]
  },
  {
   "cell_type": "markdown",
   "metadata": {},
   "source": [
    "### Deal with outliers"
   ]
  },
  {
   "cell_type": "markdown",
   "metadata": {},
   "source": [
    "we'll take things within z-score -3 to 3"
   ]
  },
  {
   "cell_type": "code",
   "execution_count": 11,
   "metadata": {},
   "outputs": [
    {
     "data": {
      "text/plain": [
       "Index(['df1', 'df2', 'df3', 'df4', 'df5', 'df6', 'df7'], dtype='object')"
      ]
     },
     "execution_count": 11,
     "metadata": {},
     "output_type": "execute_result"
    }
   ],
   "source": [
    "specificity_df.columns"
   ]
  },
  {
   "cell_type": "code",
   "execution_count": 12,
   "metadata": {},
   "outputs": [
    {
     "data": {
      "text/plain": [
       "{'df1': 0       0.183983\n",
       " 1       0.198119\n",
       " 2       0.244100\n",
       " 3       0.215458\n",
       " 4       0.217794\n",
       "           ...   \n",
       " 2534    0.219939\n",
       " 2535    0.216682\n",
       " 2536    0.243179\n",
       " 2537    0.247419\n",
       " 2538    0.245652\n",
       " Name: df1, Length: 2515, dtype: float64,\n",
       " 'df2': 0       0.374588\n",
       " 1       0.247147\n",
       " 2       0.298339\n",
       " 3       0.294622\n",
       " 4       0.218387\n",
       "           ...   \n",
       " 2535    0.278673\n",
       " 2536    0.366589\n",
       " 2537    0.259978\n",
       " 2538    0.369529\n",
       " 2539    0.289049\n",
       " Name: df2, Length: 2521, dtype: float64,\n",
       " 'df3': 0       0.329744\n",
       " 1       0.258448\n",
       " 2       0.325729\n",
       " 3       0.266352\n",
       " 4       0.273491\n",
       "           ...   \n",
       " 2535    0.227164\n",
       " 2536    0.362967\n",
       " 2537    0.298492\n",
       " 2538    0.207603\n",
       " 2539    0.375508\n",
       " Name: df3, Length: 2525, dtype: float64,\n",
       " 'df4': 0       0.303654\n",
       " 1       0.220178\n",
       " 2       0.349959\n",
       " 3       0.305621\n",
       " 4       0.340205\n",
       "           ...   \n",
       " 2535    0.187269\n",
       " 2536    0.280253\n",
       " 2537    0.409763\n",
       " 2538    0.347666\n",
       " 2539    0.249721\n",
       " Name: df4, Length: 2521, dtype: float64,\n",
       " 'df5': 0       0.410977\n",
       " 1       0.197989\n",
       " 2       0.247932\n",
       " 3       0.215020\n",
       " 4       0.238918\n",
       "           ...   \n",
       " 2535    0.278673\n",
       " 2536    0.294557\n",
       " 2537    0.314200\n",
       " 2538    0.329340\n",
       " 2539    0.289049\n",
       " Name: df5, Length: 2517, dtype: float64,\n",
       " 'df6': 0       0.363432\n",
       " 1       0.247147\n",
       " 2       0.276742\n",
       " 3       0.215020\n",
       " 4       0.198017\n",
       "           ...   \n",
       " 2535    0.294309\n",
       " 2536    0.359552\n",
       " 2537    0.314200\n",
       " 2538    0.326431\n",
       " 2539    0.289049\n",
       " Name: df6, Length: 2519, dtype: float64,\n",
       " 'df7': 0       0.276462\n",
       " 1       0.202111\n",
       " 2       0.322940\n",
       " 3       0.375627\n",
       " 4       0.224087\n",
       "           ...   \n",
       " 2535    0.151312\n",
       " 2536    0.284353\n",
       " 2537    0.151312\n",
       " 2538    0.233939\n",
       " 2539    0.300406\n",
       " Name: df7, Length: 2528, dtype: float64}"
      ]
     },
     "execution_count": 12,
     "metadata": {},
     "output_type": "execute_result"
    }
   ],
   "source": [
    "z_thresh = 3\n",
    "\n",
    "outlier_idx = {}\n",
    "vals_no_outliers = {}\n",
    "\n",
    "for col in specificity_df.columns:\n",
    "    zscores = np.abs(stats.zscore(specificity_df[col]))\n",
    "    outlier_idx = zscores[zscores > z_thresh].index\n",
    "\n",
    "    vals_no_outliers[col] = specificity_df[~specificity_df.index.isin(outlier_idx)][col]\n",
    "\n",
    "vals_no_outliers"
   ]
  },
  {
   "cell_type": "code",
   "execution_count": 13,
   "metadata": {},
   "outputs": [
    {
     "name": "stdout",
     "output_type": "stream",
     "text": [
      "df1 0.22081065184317236 0.03960645562232687\n",
      "df2 0.29098130154711577 0.05499875313281079\n",
      "df3 0.2983261773305056 0.04824000052674165\n",
      "df4 0.2943573531544037 0.06090785533093696\n",
      "df5 0.2818379650457633 0.05252889432822958\n",
      "df6 0.278294417293292 0.04991028860748659\n",
      "df7 0.2611957033727735 0.050727867516911336\n"
     ]
    }
   ],
   "source": [
    "for k, v in vals_no_outliers.items():\n",
    "    print(k, v.mean(), v.std())"
   ]
  },
  {
   "cell_type": "markdown",
   "metadata": {},
   "source": [
    "t-test without outliers"
   ]
  },
  {
   "cell_type": "code",
   "execution_count": 14,
   "metadata": {},
   "outputs": [
    {
     "name": "stdout",
     "output_type": "stream",
     "text": [
      "variances\n",
      "w/ outliers 0.0019368058122441576 0.0036972536837367046 0.0025045493652032635 0.004407118835381171 0.0033760040361458707 0.0032305734502506645\n",
      "w/o outliers 0.0015686713269633475 0.0030248628461638644 0.0023270976508200343 0.003709766841014346 0.0027592847393463097 0.0024910369088826058\n"
     ]
    }
   ],
   "source": [
    "# spec_df1_no_outliers = df1[~df1.index.isin(df1_outliers)].specificity\n",
    "# spec_df2_no_outliers = df2[~df2.index.isin(df2_outliers)].specificity\n",
    "# spec_df3_no_outliers = df3[~df3.index.isin(df3_outliers)].specificity\n",
    "\n",
    "print(\"variances\")\n",
    "print(\"w/ outliers\", specificity_df['df1'].var(),specificity_df['df2'].var(), specificity_df['df3'].var(), specificity_df['df4'].var(), specificity_df['df5'].var(), specificity_df['df6'].var())\n",
    "print(\"w/o outliers\", vals_no_outliers['df1'].var(),vals_no_outliers['df2'].var(), vals_no_outliers['df3'].var(), vals_no_outliers['df4'].var(),vals_no_outliers['df5'].var(),vals_no_outliers['df6'].var())"
   ]
  },
  {
   "cell_type": "code",
   "execution_count": 15,
   "metadata": {},
   "outputs": [
    {
     "name": "stdout",
     "output_type": "stream",
     "text": [
      "+---------+---------+--------+\n",
      "| model   |       t |   pval |\n",
      "+=========+=========+========+\n",
      "| df1     | -50.809 |  0.000 |\n",
      "| df2     |  -2.066 |  0.039 |\n",
      "| df3     |   2.566 |  0.012 |\n",
      "| df5     |  -7.813 |  0.000 |\n",
      "| df6     | -10.240 |  0.000 |\n",
      "| df7     | -21.018 |  0.000 |\n",
      "+---------+---------+--------+\n"
     ]
    }
   ],
   "source": [
    "\n",
    "sig_thresh = .05\n",
    "sig_table = defaultdict(lambda:[])\n",
    "\n",
    "for col in ['df1','df2','df3', 'df5', 'df6', 'df7']:\n",
    "    sig_table['model'].append(col)\n",
    "    res = stats.ttest_ind(vals_no_outliers[col], vals_no_outliers['df4'], equal_var=False, permutations=10000, random_state=34)\n",
    "    sig_table['t'].append(res.statistic)\n",
    "    sig_table['pval'].append(res.pvalue)\n",
    "\n",
    "sig_table = pd.DataFrame(sig_table)\n",
    "print(tabulate(sig_table, headers=sig_table.columns, floatfmt=\".3f\", showindex=False, tablefmt='outline'))"
   ]
  },
  {
   "cell_type": "code",
   "execution_count": null,
   "metadata": {},
   "outputs": [],
   "source": [
    "sig_table = defaultdict(lambda:[])\n",
    "\n",
    "for model in ['df1','df2','df3', 'df5', 'df6']:\n",
    "    for model2 in ['df1','df2','df3', 'df5', 'df6']:\n",
    "        if model == model2:\n",
    "            continue\n",
    "        if f\"{model} vs. {model2}\" not in sig_table['pair']:\n",
    "            sig_table['pair'].append(f\"{model} vs. {model2}\")\n",
    "\n",
    "        # sig_table['model'].append(col)\n",
    "        res = stats.ttest_ind(vals_no_outliers[model], vals_no_outliers[model2], equal_var=False, permutations=10000, random_state=34)\n",
    "        sig_table['t'].append(res.statistic)\n",
    "        sig_table['pval'].append(res.pvalue)\n",
    "\n",
    "sig_table = pd.DataFrame(sig_table)\n",
    "print(tabulate(sig_table, headers=sig_table.columns, floatfmt=\".3f\", showindex=False, tablefmt='outline'))"
   ]
  },
  {
   "cell_type": "code",
   "execution_count": 16,
   "metadata": {},
   "outputs": [
    {
     "name": "stdout",
     "output_type": "stream",
     "text": [
      "+-------------+---------+--------+\n",
      "| pair        |       t |   pval |\n",
      "+=============+=========+========+\n",
      "| df1 vs. df7 | -31.520 |  0.000 |\n",
      "| df2 vs. df7 |  20.001 |  0.000 |\n",
      "| df3 vs. df7 |  26.661 |  0.000 |\n",
      "| df5 vs. df7 |  14.197 |  0.000 |\n",
      "| df6 vs. df7 |  12.070 |  0.000 |\n",
      "+-------------+---------+--------+\n"
     ]
    }
   ],
   "source": [
    "sig_table = defaultdict(lambda:[])\n",
    "\n",
    "for model in ['df1','df2','df3', 'df5', 'df6']:\n",
    "    for model2 in ['df7']:\n",
    "        if model == model2:\n",
    "            continue\n",
    "        if f\"{model} vs. {model2}\" not in sig_table['pair']:\n",
    "            sig_table['pair'].append(f\"{model} vs. {model2}\")\n",
    "\n",
    "        # sig_table['model'].append(col)\n",
    "        res = stats.ttest_ind(vals_no_outliers[model], vals_no_outliers[model2], equal_var=False, permutations=10000, random_state=34)\n",
    "        sig_table['t'].append(res.statistic)\n",
    "        sig_table['pval'].append(res.pvalue)\n",
    "\n",
    "sig_table = pd.DataFrame(sig_table)\n",
    "print(tabulate(sig_table, headers=sig_table.columns, floatfmt=\".3f\", showindex=False, tablefmt='outline'))"
   ]
  }
 ],
 "metadata": {
  "kernelspec": {
   "display_name": "nlp",
   "language": "python",
   "name": "python3"
  },
  "language_info": {
   "codemirror_mode": {
    "name": "ipython",
    "version": 3
   },
   "file_extension": ".py",
   "mimetype": "text/x-python",
   "name": "python",
   "nbconvert_exporter": "python",
   "pygments_lexer": "ipython3",
   "version": "3.11.5"
  }
 },
 "nbformat": 4,
 "nbformat_minor": 2
}
