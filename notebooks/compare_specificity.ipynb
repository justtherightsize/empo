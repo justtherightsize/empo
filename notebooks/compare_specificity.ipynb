{
 "cells": [
  {
   "cell_type": "code",
   "execution_count": 1,
   "metadata": {},
   "outputs": [],
   "source": [
    "import pandas as pd\n",
    "import os\n",
    "from scipy import stats\n",
    "import numpy as np\n",
    "from collections import defaultdict\n",
    "from tabulate import tabulate\n",
    "\n",
    "\n",
    "results_dir = '../data/results/empathy_eval_results/'\n",
    "files = ['preds_dlrxxx_zephyr-7b-sft-full122_specificity.txt', 'preds_dlr1e6_zephyr-7b-sft-full122_d211_specificity.txt', 'preds_dlrxxx_zephyr-7b-sft-full_specificity.txt']"
   ]
  },
  {
   "cell_type": "code",
   "execution_count": 2,
   "metadata": {},
   "outputs": [],
   "source": [
    "df1 = pd.read_csv(os.path.join(results_dir, 'preds_dlrxxx_zephyr-7b-sft-full122_specificity.txt'), sep='~')\n",
    "df2 = pd.read_csv(os.path.join(results_dir, 'preds_dlr1e6_zephyr-7b-sft-full122_d211_specificity.txt'), sep='~')\n",
    "df3 = pd.read_csv(os.path.join(results_dir, 'preds_dlrxxx_zephyr-7b-sft-full_specificity.txt'), sep='~')\n",
    "human_df = pd.read_csv(os.path.join(results_dir, \"human_specificity.txt\"), sep='~')"
   ]
  },
  {
   "cell_type": "code",
   "execution_count": 3,
   "metadata": {},
   "outputs": [
    {
     "data": {
      "text/html": [
       "<div>\n",
       "<style scoped>\n",
       "    .dataframe tbody tr th:only-of-type {\n",
       "        vertical-align: middle;\n",
       "    }\n",
       "\n",
       "    .dataframe tbody tr th {\n",
       "        vertical-align: top;\n",
       "    }\n",
       "\n",
       "    .dataframe thead th {\n",
       "        text-align: right;\n",
       "    }\n",
       "</style>\n",
       "<table border=\"1\" class=\"dataframe\">\n",
       "  <thead>\n",
       "    <tr style=\"text-align: right;\">\n",
       "      <th></th>\n",
       "      <th>df1</th>\n",
       "      <th>df2</th>\n",
       "      <th>df3</th>\n",
       "      <th>df4</th>\n",
       "    </tr>\n",
       "  </thead>\n",
       "  <tbody>\n",
       "    <tr>\n",
       "      <th>0</th>\n",
       "      <td>0.183983</td>\n",
       "      <td>0.374588</td>\n",
       "      <td>0.329744</td>\n",
       "      <td>0.303654</td>\n",
       "    </tr>\n",
       "    <tr>\n",
       "      <th>1</th>\n",
       "      <td>0.198119</td>\n",
       "      <td>0.247147</td>\n",
       "      <td>0.258448</td>\n",
       "      <td>0.220178</td>\n",
       "    </tr>\n",
       "    <tr>\n",
       "      <th>2</th>\n",
       "      <td>0.244100</td>\n",
       "      <td>0.298339</td>\n",
       "      <td>0.325729</td>\n",
       "      <td>0.349959</td>\n",
       "    </tr>\n",
       "    <tr>\n",
       "      <th>3</th>\n",
       "      <td>0.215458</td>\n",
       "      <td>0.294622</td>\n",
       "      <td>0.266352</td>\n",
       "      <td>0.305621</td>\n",
       "    </tr>\n",
       "    <tr>\n",
       "      <th>4</th>\n",
       "      <td>0.217794</td>\n",
       "      <td>0.218387</td>\n",
       "      <td>0.273491</td>\n",
       "      <td>0.340205</td>\n",
       "    </tr>\n",
       "    <tr>\n",
       "      <th>...</th>\n",
       "      <td>...</td>\n",
       "      <td>...</td>\n",
       "      <td>...</td>\n",
       "      <td>...</td>\n",
       "    </tr>\n",
       "    <tr>\n",
       "      <th>2535</th>\n",
       "      <td>0.216682</td>\n",
       "      <td>0.278673</td>\n",
       "      <td>0.227164</td>\n",
       "      <td>0.187269</td>\n",
       "    </tr>\n",
       "    <tr>\n",
       "      <th>2536</th>\n",
       "      <td>0.243179</td>\n",
       "      <td>0.366589</td>\n",
       "      <td>0.362967</td>\n",
       "      <td>0.280253</td>\n",
       "    </tr>\n",
       "    <tr>\n",
       "      <th>2537</th>\n",
       "      <td>0.247419</td>\n",
       "      <td>0.259978</td>\n",
       "      <td>0.298492</td>\n",
       "      <td>0.409763</td>\n",
       "    </tr>\n",
       "    <tr>\n",
       "      <th>2538</th>\n",
       "      <td>0.245652</td>\n",
       "      <td>0.369529</td>\n",
       "      <td>0.207603</td>\n",
       "      <td>0.347666</td>\n",
       "    </tr>\n",
       "    <tr>\n",
       "      <th>2539</th>\n",
       "      <td>0.375508</td>\n",
       "      <td>0.289049</td>\n",
       "      <td>0.375508</td>\n",
       "      <td>0.249721</td>\n",
       "    </tr>\n",
       "  </tbody>\n",
       "</table>\n",
       "<p>2540 rows × 4 columns</p>\n",
       "</div>"
      ],
      "text/plain": [
       "           df1       df2       df3       df4\n",
       "0     0.183983  0.374588  0.329744  0.303654\n",
       "1     0.198119  0.247147  0.258448  0.220178\n",
       "2     0.244100  0.298339  0.325729  0.349959\n",
       "3     0.215458  0.294622  0.266352  0.305621\n",
       "4     0.217794  0.218387  0.273491  0.340205\n",
       "...        ...       ...       ...       ...\n",
       "2535  0.216682  0.278673  0.227164  0.187269\n",
       "2536  0.243179  0.366589  0.362967  0.280253\n",
       "2537  0.247419  0.259978  0.298492  0.409763\n",
       "2538  0.245652  0.369529  0.207603  0.347666\n",
       "2539  0.375508  0.289049  0.375508  0.249721\n",
       "\n",
       "[2540 rows x 4 columns]"
      ]
     },
     "execution_count": 3,
     "metadata": {},
     "output_type": "execute_result"
    }
   ],
   "source": [
    "specificity_df = pd.concat([df[['specificity']].rename(columns={'specificity':f\"df{i+1}\"}) for i, df in enumerate([df1,df2,df3,human_df])], axis=1)\n",
    "specificity_df"
   ]
  },
  {
   "cell_type": "code",
   "execution_count": 4,
   "metadata": {},
   "outputs": [],
   "source": [
    "# from tabulate import tabulate\n",
    "\n",
    "# print(tabulate(specificity_df.var(), headers=['model', 'var'], floatfmt=\".3f\", showindex=False, tablefmt='outline'))"
   ]
  },
  {
   "cell_type": "code",
   "execution_count": 5,
   "metadata": {},
   "outputs": [
    {
     "name": "stdout",
     "output_type": "stream",
     "text": [
      "+---------+---------+--------+\n",
      "| model   |       t |   pval |\n",
      "+=========+=========+========+\n",
      "| df1     | -46.746 |  0.000 |\n",
      "| df2     |  -1.950 |  0.052 |\n",
      "| df3     |   1.712 |  0.087 |\n",
      "+---------+---------+--------+\n"
     ]
    }
   ],
   "source": [
    "\n",
    "sig_thresh = .05\n",
    "sig_table = defaultdict(lambda:[])\n",
    "\n",
    "for col in ['df1','df2','df3']:\n",
    "    sig_table['model'].append(col)\n",
    "    res = stats.ttest_ind(specificity_df[col], specificity_df['df4'], equal_var=False, permutations=10000, random_state=34)\n",
    "    sig_table['t'].append(res.statistic)\n",
    "    sig_table['pval'].append(res.pvalue)\n",
    "\n",
    "sig_table = pd.DataFrame(sig_table)\n",
    "print(tabulate(sig_table, headers=sig_table.columns, floatfmt=\".3f\", showindex=False, tablefmt='outline'))\n",
    "\n",
    "\n"
   ]
  },
  {
   "cell_type": "code",
   "execution_count": 6,
   "metadata": {},
   "outputs": [
    {
     "name": "stdout",
     "output_type": "stream",
     "text": [
      "+-------------+---------+---------+--------+\n",
      "| pair        | model   |       t |   pval |\n",
      "+=============+=========+=========+========+\n",
      "| df1 vs. df2 | df3     | -47.265 |  0.000 |\n",
      "| df1 vs. df3 | df3     | -58.005 |  0.000 |\n",
      "| df2 vs. df1 | df3     |  47.265 |  0.000 |\n",
      "| df2 vs. df3 | df3     |  -4.037 |  0.000 |\n",
      "| df3 vs. df1 | df3     |  58.005 |  0.000 |\n",
      "| df3 vs. df2 | df3     |   4.037 |  0.000 |\n",
      "+-------------+---------+---------+--------+\n"
     ]
    }
   ],
   "source": [
    "sig_table = defaultdict(lambda:[])\n",
    "\n",
    "for model in ['df1','df2','df3']:\n",
    "    for model2 in ['df1','df2','df3']:\n",
    "        if model == model2:\n",
    "            continue\n",
    "        if f\"{model} vs. {model2}\" not in sig_table['pair']:\n",
    "            sig_table['pair'].append(f\"{model} vs. {model2}\")\n",
    "\n",
    "        sig_table['model'].append(col)\n",
    "        res = stats.ttest_ind(specificity_df[model], specificity_df[model2], equal_var=False, permutations=10000, random_state=34)\n",
    "        sig_table['t'].append(res.statistic)\n",
    "        sig_table['pval'].append(res.pvalue)\n",
    "\n",
    "sig_table = pd.DataFrame(sig_table)\n",
    "print(tabulate(sig_table, headers=sig_table.columns, floatfmt=\".3f\", showindex=False, tablefmt='outline'))\n"
   ]
  },
  {
   "cell_type": "markdown",
   "metadata": {},
   "source": [
    "### Deal with outliers"
   ]
  },
  {
   "cell_type": "markdown",
   "metadata": {},
   "source": [
    "we'll take things within z-score -3 to 3"
   ]
  },
  {
   "cell_type": "code",
   "execution_count": 7,
   "metadata": {},
   "outputs": [
    {
     "data": {
      "text/plain": [
       "{'df1': 0       0.183983\n",
       " 1       0.198119\n",
       " 2       0.244100\n",
       " 3       0.215458\n",
       " 4       0.217794\n",
       "           ...   \n",
       " 2534    0.219939\n",
       " 2535    0.216682\n",
       " 2536    0.243179\n",
       " 2537    0.247419\n",
       " 2538    0.245652\n",
       " Name: df1, Length: 2515, dtype: float64,\n",
       " 'df2': 0       0.374588\n",
       " 1       0.247147\n",
       " 2       0.298339\n",
       " 3       0.294622\n",
       " 4       0.218387\n",
       "           ...   \n",
       " 2535    0.278673\n",
       " 2536    0.366589\n",
       " 2537    0.259978\n",
       " 2538    0.369529\n",
       " 2539    0.289049\n",
       " Name: df2, Length: 2521, dtype: float64,\n",
       " 'df3': 0       0.329744\n",
       " 1       0.258448\n",
       " 2       0.325729\n",
       " 3       0.266352\n",
       " 4       0.273491\n",
       "           ...   \n",
       " 2535    0.227164\n",
       " 2536    0.362967\n",
       " 2537    0.298492\n",
       " 2538    0.207603\n",
       " 2539    0.375508\n",
       " Name: df3, Length: 2525, dtype: float64,\n",
       " 'df4': 0       0.303654\n",
       " 1       0.220178\n",
       " 2       0.349959\n",
       " 3       0.305621\n",
       " 4       0.340205\n",
       "           ...   \n",
       " 2535    0.187269\n",
       " 2536    0.280253\n",
       " 2537    0.409763\n",
       " 2538    0.347666\n",
       " 2539    0.249721\n",
       " Name: df4, Length: 2521, dtype: float64}"
      ]
     },
     "execution_count": 7,
     "metadata": {},
     "output_type": "execute_result"
    }
   ],
   "source": [
    "z_thresh = 3\n",
    "\n",
    "outlier_idx = {}\n",
    "vals_no_outliers = {}\n",
    "\n",
    "for col in specificity_df.columns:\n",
    "    zscores = np.abs(stats.zscore(specificity_df[col]))\n",
    "    outlier_idx = zscores[zscores > z_thresh].index\n",
    "\n",
    "    vals_no_outliers[col] = specificity_df[~specificity_df.index.isin(outlier_idx)][col]\n",
    "\n",
    "vals_no_outliers"
   ]
  },
  {
   "cell_type": "code",
   "execution_count": 9,
   "metadata": {},
   "outputs": [
    {
     "name": "stdout",
     "output_type": "stream",
     "text": [
      "df1 0.22081065184317236 0.03960645562232687\n",
      "df2 0.29098130154711577 0.05499875313281079\n",
      "df3 0.2983261773305056 0.04824000052674165\n",
      "df4 0.2943573531544037 0.06090785533093696\n"
     ]
    }
   ],
   "source": [
    "for k, v in vals_no_outliers.items():\n",
    "    print(k, v.mean(), v.std())"
   ]
  },
  {
   "cell_type": "markdown",
   "metadata": {},
   "source": [
    "t-test without outliers"
   ]
  },
  {
   "cell_type": "code",
   "execution_count": 27,
   "metadata": {},
   "outputs": [
    {
     "name": "stdout",
     "output_type": "stream",
     "text": [
      "variances\n",
      "w/ outliers 0.0019368058122441576 0.0036972536837367046 0.0036972536837367046\n",
      "w/o outliers 0.0015686713269633475 0.0030248628461638644 0.0030248628461638644\n"
     ]
    }
   ],
   "source": [
    "# spec_df1_no_outliers = df1[~df1.index.isin(df1_outliers)].specificity\n",
    "# spec_df2_no_outliers = df2[~df2.index.isin(df2_outliers)].specificity\n",
    "# spec_df3_no_outliers = df3[~df3.index.isin(df3_outliers)].specificity\n",
    "\n",
    "print(\"variances\")\n",
    "print(\"w/ outliers\", specificity_df['df1'].var(),specificity_df['df2'].var(), specificity_df['df2'].var())\n",
    "print(\"w/o outliers\", vals_no_outliers['df1'].var(),vals_no_outliers['df2'].var(), vals_no_outliers['df2'].var())"
   ]
  },
  {
   "cell_type": "code",
   "execution_count": 28,
   "metadata": {},
   "outputs": [
    {
     "name": "stdout",
     "output_type": "stream",
     "text": [
      "+---------+---------+--------+\n",
      "| model   |       t |   pval |\n",
      "+=========+=========+========+\n",
      "| df1     | -50.809 |  0.000 |\n",
      "| df2     |  -2.066 |  0.039 |\n",
      "| df3     |   2.566 |  0.012 |\n",
      "+---------+---------+--------+\n"
     ]
    }
   ],
   "source": [
    "\n",
    "sig_thresh = .05\n",
    "sig_table = defaultdict(lambda:[])\n",
    "\n",
    "for col in ['df1','df2','df3']:\n",
    "    sig_table['model'].append(col)\n",
    "    res = stats.ttest_ind(vals_no_outliers[col], vals_no_outliers['df4'], equal_var=False, permutations=10000, random_state=34)\n",
    "    sig_table['t'].append(res.statistic)\n",
    "    sig_table['pval'].append(res.pvalue)\n",
    "\n",
    "sig_table = pd.DataFrame(sig_table)\n",
    "print(tabulate(sig_table, headers=sig_table.columns, floatfmt=\".3f\", showindex=False, tablefmt='outline'))"
   ]
  },
  {
   "cell_type": "code",
   "execution_count": 32,
   "metadata": {},
   "outputs": [
    {
     "name": "stdout",
     "output_type": "stream",
     "text": [
      "+-------------+---------+--------+\n",
      "| pair        |       t |   pval |\n",
      "+=============+=========+========+\n",
      "| df1 vs. df2 | -51.963 |  0.000 |\n",
      "| df1 vs. df3 | -62.356 |  0.000 |\n",
      "| df2 vs. df1 |  51.963 |  0.000 |\n",
      "| df2 vs. df3 |  -5.043 |  0.000 |\n",
      "| df3 vs. df1 |  62.356 |  0.000 |\n",
      "| df3 vs. df2 |   5.043 |  0.000 |\n",
      "+-------------+---------+--------+\n"
     ]
    }
   ],
   "source": [
    "sig_table = defaultdict(lambda:[])\n",
    "\n",
    "for model in ['df1','df2','df3']:\n",
    "    for model2 in ['df1','df2','df3']:\n",
    "        if model == model2:\n",
    "            continue\n",
    "        if f\"{model} vs. {model2}\" not in sig_table['pair']:\n",
    "            sig_table['pair'].append(f\"{model} vs. {model2}\")\n",
    "\n",
    "        # sig_table['model'].append(col)\n",
    "        res = stats.ttest_ind(vals_no_outliers[model], vals_no_outliers[model2], equal_var=False, permutations=10000, random_state=34)\n",
    "        sig_table['t'].append(res.statistic)\n",
    "        sig_table['pval'].append(res.pvalue)\n",
    "\n",
    "sig_table = pd.DataFrame(sig_table)\n",
    "print(tabulate(sig_table, headers=sig_table.columns, floatfmt=\".3f\", showindex=False, tablefmt='outline'))"
   ]
  }
 ],
 "metadata": {
  "kernelspec": {
   "display_name": "nlp",
   "language": "python",
   "name": "python3"
  },
  "language_info": {
   "codemirror_mode": {
    "name": "ipython",
    "version": 3
   },
   "file_extension": ".py",
   "mimetype": "text/x-python",
   "name": "python",
   "nbconvert_exporter": "python",
   "pygments_lexer": "ipython3",
   "version": "3.11.5"
  }
 },
 "nbformat": 4,
 "nbformat_minor": 2
}
