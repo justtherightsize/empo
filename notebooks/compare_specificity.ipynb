{
 "cells": [
  {
   "cell_type": "code",
   "execution_count": 1,
   "metadata": {},
   "outputs": [],
   "source": [
    "import pandas as pd\n",
    "import os\n",
    "from scipy import stats\n",
    "import numpy as np\n",
    "\n",
    "results_dir = '../data/results/empathy_eval_results/'\n",
    "files = ['preds_dlrxxx_zephyr-7b-sft-full122_specificity.txt', 'preds_dlr1e6_zephyr-7b-sft-full122_d211_specificity.txt', 'preds_dlrxxx_zephyr-7b-sft-full_specificity.txt']"
   ]
  },
  {
   "cell_type": "code",
   "execution_count": 2,
   "metadata": {},
   "outputs": [],
   "source": [
    "df1 = pd.read_csv(os.path.join(results_dir, 'preds_dlrxxx_zephyr-7b-sft-full122_specificity.txt'), sep='~')\n",
    "df2 = pd.read_csv(os.path.join(results_dir, 'preds_dlr1e6_zephyr-7b-sft-full122_d211_specificity.txt'), sep='~')\n",
    "df3 = pd.read_csv(os.path.join(results_dir, 'preds_dlrxxx_zephyr-7b-sft-full_specificity.txt'), sep='~')"
   ]
  },
  {
   "cell_type": "code",
   "execution_count": 3,
   "metadata": {},
   "outputs": [
    {
     "data": {
      "text/plain": [
       "\"<|system|>\\nYou are a friendly assistant, who provides empathetic responses to the user. The input contains previous turn of the dialog, where each utterance is prefaced with tags <|user|>, or <|assistant|>. Be empathetic and precise. Make sure to give responses that make dialogue flow. Avoid repeating the prompt.</s>\\n<|user|>\\nYeah about 10 years ago I had a horrifying experience. It was 100% their fault but they hit the water barrels and survived. They had no injuries but they almost ran me off the road.</s>\\n<|assistant|>\\nDid you suffer any injuries?</s>\\n<|user|>\\nNo I wasn't hit. It turned out they were drunk. I felt guilty but realized it was his fault.</s>\\n<|assistant|>\\n\""
      ]
     },
     "execution_count": 3,
     "metadata": {},
     "output_type": "execute_result"
    }
   ],
   "source": [
    "df1.chat_templates[0]"
   ]
  },
  {
   "cell_type": "code",
   "execution_count": 4,
   "metadata": {},
   "outputs": [
    {
     "data": {
      "text/html": [
       "<div>\n",
       "<style scoped>\n",
       "    .dataframe tbody tr th:only-of-type {\n",
       "        vertical-align: middle;\n",
       "    }\n",
       "\n",
       "    .dataframe tbody tr th {\n",
       "        vertical-align: top;\n",
       "    }\n",
       "\n",
       "    .dataframe thead th {\n",
       "        text-align: right;\n",
       "    }\n",
       "</style>\n",
       "<table border=\"1\" class=\"dataframe\">\n",
       "  <thead>\n",
       "    <tr style=\"text-align: right;\">\n",
       "      <th></th>\n",
       "      <th>Unnamed: 0</th>\n",
       "      <th>chat_templates</th>\n",
       "      <th>gen_targets</th>\n",
       "      <th>prevs</th>\n",
       "      <th>emotions</th>\n",
       "      <th>gens</th>\n",
       "      <th>specificity</th>\n",
       "    </tr>\n",
       "  </thead>\n",
       "  <tbody>\n",
       "    <tr>\n",
       "      <th>0</th>\n",
       "      <td>0</td>\n",
       "      <td>&lt;|system|&gt;\\nYou are a friendly assistant, who ...</td>\n",
       "      <td>Why did you feel guilty? People really shouldn...</td>\n",
       "      <td>No I wasn't hit. It turned out they were drunk...</td>\n",
       "      <td>guilty</td>\n",
       "      <td>That's good that you didn't get hurt.</td>\n",
       "      <td>0.183983</td>\n",
       "    </tr>\n",
       "    <tr>\n",
       "      <th>1</th>\n",
       "      <td>1</td>\n",
       "      <td>&lt;|system|&gt;\\nYou are a friendly assistant, who ...</td>\n",
       "      <td>you got a great husband</td>\n",
       "      <td>It was, and he does that type of thing a lot.</td>\n",
       "      <td>surprised</td>\n",
       "      <td>That's great, I wish my husband would do that</td>\n",
       "      <td>0.198119</td>\n",
       "    </tr>\n",
       "    <tr>\n",
       "      <th>2</th>\n",
       "      <td>2</td>\n",
       "      <td>&lt;|system|&gt;\\nYou are a friendly assistant, who ...</td>\n",
       "      <td>It's worth it to consider. I pay less than hal...</td>\n",
       "      <td>Maybe A move out of my state would be the answ...</td>\n",
       "      <td>trusting</td>\n",
       "      <td>I hope you can find a place that is more affor...</td>\n",
       "      <td>0.244100</td>\n",
       "    </tr>\n",
       "    <tr>\n",
       "      <th>3</th>\n",
       "      <td>3</td>\n",
       "      <td>&lt;|system|&gt;\\nYou are a friendly assistant, who ...</td>\n",
       "      <td>I have been married for 19 years and we have b...</td>\n",
       "      <td>My girlfriend, How about you? do you have a pa...</td>\n",
       "      <td>faithful</td>\n",
       "      <td>I do not have a partner. I am single.</td>\n",
       "      <td>0.215458</td>\n",
       "    </tr>\n",
       "    <tr>\n",
       "      <th>4</th>\n",
       "      <td>4</td>\n",
       "      <td>&lt;|system|&gt;\\nYou are a friendly assistant, who ...</td>\n",
       "      <td>You have been very lucky. You should keep thei...</td>\n",
       "      <td>Surprisingly it's been a painless process. I'm...</td>\n",
       "      <td>trusting</td>\n",
       "      <td>That's great. I hope you enjoy your new home.</td>\n",
       "      <td>0.217794</td>\n",
       "    </tr>\n",
       "    <tr>\n",
       "      <th>...</th>\n",
       "      <td>...</td>\n",
       "      <td>...</td>\n",
       "      <td>...</td>\n",
       "      <td>...</td>\n",
       "      <td>...</td>\n",
       "      <td>...</td>\n",
       "      <td>...</td>\n",
       "    </tr>\n",
       "    <tr>\n",
       "      <th>2535</th>\n",
       "      <td>2535</td>\n",
       "      <td>&lt;|system|&gt;\\nYou are a friendly assistant, who ...</td>\n",
       "      <td>Well that's good. What did you find?</td>\n",
       "      <td>No, she is fine. I had to find something else ...</td>\n",
       "      <td>annoyed</td>\n",
       "      <td>I am sorry to hear that. I hope you find somet...</td>\n",
       "      <td>0.216682</td>\n",
       "    </tr>\n",
       "    <tr>\n",
       "      <th>2536</th>\n",
       "      <td>2536</td>\n",
       "      <td>&lt;|system|&gt;\\nYou are a friendly assistant, who ...</td>\n",
       "      <td>Did he do it?  Cause if not, I might have need...</td>\n",
       "      <td>I would have totally flipped the circuit break...</td>\n",
       "      <td>annoyed</td>\n",
       "      <td>Well, I'm glad you didn't have to resort to th...</td>\n",
       "      <td>0.243179</td>\n",
       "    </tr>\n",
       "    <tr>\n",
       "      <th>2537</th>\n",
       "      <td>2537</td>\n",
       "      <td>&lt;|system|&gt;\\nYou are a friendly assistant, who ...</td>\n",
       "      <td>I can imagine. Maybe it'll morph into a Super ...</td>\n",
       "      <td>It probably will.</td>\n",
       "      <td>disgusted</td>\n",
       "      <td>I hope you can stop it before it happens again.</td>\n",
       "      <td>0.247419</td>\n",
       "    </tr>\n",
       "    <tr>\n",
       "      <th>2538</th>\n",
       "      <td>2538</td>\n",
       "      <td>&lt;|system|&gt;\\nYou are a friendly assistant, who ...</td>\n",
       "      <td>That's too bad. Well, on the bright side, mayb...</td>\n",
       "      <td>Yes it did, unfortunately</td>\n",
       "      <td>ashamed</td>\n",
       "      <td>I'm sorry to hear that. I hope you can get ano...</td>\n",
       "      <td>0.245652</td>\n",
       "    </tr>\n",
       "    <tr>\n",
       "      <th>2539</th>\n",
       "      <td>2539</td>\n",
       "      <td>&lt;|system|&gt;\\nYou are a friendly assistant, who ...</td>\n",
       "      <td>No problem. What kind of work does he do?</td>\n",
       "      <td>thank you so much!</td>\n",
       "      <td>hopeful</td>\n",
       "      <td>You're welcome!</td>\n",
       "      <td>0.375508</td>\n",
       "    </tr>\n",
       "  </tbody>\n",
       "</table>\n",
       "<p>2540 rows × 7 columns</p>\n",
       "</div>"
      ],
      "text/plain": [
       "      Unnamed: 0                                     chat_templates  \\\n",
       "0              0  <|system|>\\nYou are a friendly assistant, who ...   \n",
       "1              1  <|system|>\\nYou are a friendly assistant, who ...   \n",
       "2              2  <|system|>\\nYou are a friendly assistant, who ...   \n",
       "3              3  <|system|>\\nYou are a friendly assistant, who ...   \n",
       "4              4  <|system|>\\nYou are a friendly assistant, who ...   \n",
       "...          ...                                                ...   \n",
       "2535        2535  <|system|>\\nYou are a friendly assistant, who ...   \n",
       "2536        2536  <|system|>\\nYou are a friendly assistant, who ...   \n",
       "2537        2537  <|system|>\\nYou are a friendly assistant, who ...   \n",
       "2538        2538  <|system|>\\nYou are a friendly assistant, who ...   \n",
       "2539        2539  <|system|>\\nYou are a friendly assistant, who ...   \n",
       "\n",
       "                                            gen_targets  \\\n",
       "0     Why did you feel guilty? People really shouldn...   \n",
       "1                               you got a great husband   \n",
       "2     It's worth it to consider. I pay less than hal...   \n",
       "3     I have been married for 19 years and we have b...   \n",
       "4     You have been very lucky. You should keep thei...   \n",
       "...                                                 ...   \n",
       "2535               Well that's good. What did you find?   \n",
       "2536  Did he do it?  Cause if not, I might have need...   \n",
       "2537  I can imagine. Maybe it'll morph into a Super ...   \n",
       "2538  That's too bad. Well, on the bright side, mayb...   \n",
       "2539          No problem. What kind of work does he do?   \n",
       "\n",
       "                                                  prevs   emotions  \\\n",
       "0     No I wasn't hit. It turned out they were drunk...     guilty   \n",
       "1         It was, and he does that type of thing a lot.  surprised   \n",
       "2     Maybe A move out of my state would be the answ...   trusting   \n",
       "3     My girlfriend, How about you? do you have a pa...   faithful   \n",
       "4     Surprisingly it's been a painless process. I'm...   trusting   \n",
       "...                                                 ...        ...   \n",
       "2535  No, she is fine. I had to find something else ...    annoyed   \n",
       "2536  I would have totally flipped the circuit break...    annoyed   \n",
       "2537                                 It probably will.   disgusted   \n",
       "2538                         Yes it did, unfortunately     ashamed   \n",
       "2539                                 thank you so much!    hopeful   \n",
       "\n",
       "                                                   gens  specificity  \n",
       "0                 That's good that you didn't get hurt.     0.183983  \n",
       "1         That's great, I wish my husband would do that     0.198119  \n",
       "2     I hope you can find a place that is more affor...     0.244100  \n",
       "3                 I do not have a partner. I am single.     0.215458  \n",
       "4         That's great. I hope you enjoy your new home.     0.217794  \n",
       "...                                                 ...          ...  \n",
       "2535  I am sorry to hear that. I hope you find somet...     0.216682  \n",
       "2536  Well, I'm glad you didn't have to resort to th...     0.243179  \n",
       "2537    I hope you can stop it before it happens again.     0.247419  \n",
       "2538  I'm sorry to hear that. I hope you can get ano...     0.245652  \n",
       "2539                                    You're welcome!     0.375508  \n",
       "\n",
       "[2540 rows x 7 columns]"
      ]
     },
     "execution_count": 4,
     "metadata": {},
     "output_type": "execute_result"
    }
   ],
   "source": [
    "df1"
   ]
  },
  {
   "cell_type": "code",
   "execution_count": 5,
   "metadata": {},
   "outputs": [
    {
     "name": "stdout",
     "output_type": "stream",
     "text": [
      "<|system|>\n",
      "You are a friendly assistant, who provides empathetic responses to the user. The input contains previous turn of the dialog, where each utterance is prefaced with tags <|user|>, or <|assistant|>. Be empathetic and precise. Make sure to give responses that make dialogue flow. Avoid repeating the prompt.</s>\n",
      "<|user|>\n",
      "Yeah about 10 years ago I had a horrifying experience. It was 100% their fault but they hit the water barrels and survived. They had no injuries but they almost ran me off the road.</s>\n",
      "<|assistant|>\n",
      "Did you suffer any injuries?</s>\n",
      "<|user|>\n",
      "No I wasn't hit. It turned out they were drunk. I felt guilty but realized it was his fault.</s>\n",
      "<|assistant|>\n",
      "\n"
     ]
    }
   ],
   "source": [
    "print(df2.chat_templates[0])"
   ]
  },
  {
   "cell_type": "code",
   "execution_count": 6,
   "metadata": {},
   "outputs": [
    {
     "name": "stdout",
     "output_type": "stream",
     "text": [
      "Variance\n",
      "model 1 0.001936805812244156\n",
      "model 2 0.003697253683736711\n",
      "model 3 0.002504549365203262\n"
     ]
    }
   ],
   "source": [
    "print(\"Variance\")\n",
    "\n",
    "print('model 1', df1['specificity'].var())\n",
    "print('model 2', df2['specificity'].var())\n",
    "print('model 3', df3['specificity'].var())"
   ]
  },
  {
   "cell_type": "code",
   "execution_count": 7,
   "metadata": {},
   "outputs": [
    {
     "data": {
      "text/plain": [
       "TtestResult(statistic=-47.26486191439801, pvalue=0.0, df=4626.312144648669)"
      ]
     },
     "execution_count": 7,
     "metadata": {},
     "output_type": "execute_result"
    }
   ],
   "source": [
    "stats.ttest_ind(df1['specificity'], df2['specificity'], equal_var=False)"
   ]
  },
  {
   "cell_type": "code",
   "execution_count": 8,
   "metadata": {},
   "outputs": [
    {
     "data": {
      "text/plain": [
       "(0.22267909646909545, 0.29307254629723895, 0.2993805608721077)"
      ]
     },
     "execution_count": 8,
     "metadata": {},
     "output_type": "execute_result"
    }
   ],
   "source": [
    "df1['specificity'].mean(), df2['specificity'].mean(), df3['specificity'].mean()"
   ]
  },
  {
   "cell_type": "code",
   "execution_count": 9,
   "metadata": {},
   "outputs": [
    {
     "data": {
      "text/plain": [
       "TtestResult(statistic=-47.26486191439801, pvalue=0.0, df=5078.0)"
      ]
     },
     "execution_count": 9,
     "metadata": {},
     "output_type": "execute_result"
    }
   ],
   "source": [
    "stats.ttest_ind(df1['specificity'], df2['specificity'], alternative='less')"
   ]
  },
  {
   "cell_type": "code",
   "execution_count": 10,
   "metadata": {},
   "outputs": [
    {
     "data": {
      "text/html": [
       "<div>\n",
       "<style scoped>\n",
       "    .dataframe tbody tr th:only-of-type {\n",
       "        vertical-align: middle;\n",
       "    }\n",
       "\n",
       "    .dataframe tbody tr th {\n",
       "        vertical-align: top;\n",
       "    }\n",
       "\n",
       "    .dataframe thead th {\n",
       "        text-align: right;\n",
       "    }\n",
       "</style>\n",
       "<table border=\"1\" class=\"dataframe\">\n",
       "  <thead>\n",
       "    <tr style=\"text-align: right;\">\n",
       "      <th></th>\n",
       "      <th>df1</th>\n",
       "    </tr>\n",
       "  </thead>\n",
       "  <tbody>\n",
       "    <tr>\n",
       "      <th>0</th>\n",
       "      <td>0.183983</td>\n",
       "    </tr>\n",
       "    <tr>\n",
       "      <th>1</th>\n",
       "      <td>0.198119</td>\n",
       "    </tr>\n",
       "    <tr>\n",
       "      <th>2</th>\n",
       "      <td>0.244100</td>\n",
       "    </tr>\n",
       "    <tr>\n",
       "      <th>3</th>\n",
       "      <td>0.215458</td>\n",
       "    </tr>\n",
       "    <tr>\n",
       "      <th>4</th>\n",
       "      <td>0.217794</td>\n",
       "    </tr>\n",
       "    <tr>\n",
       "      <th>...</th>\n",
       "      <td>...</td>\n",
       "    </tr>\n",
       "    <tr>\n",
       "      <th>2535</th>\n",
       "      <td>0.216682</td>\n",
       "    </tr>\n",
       "    <tr>\n",
       "      <th>2536</th>\n",
       "      <td>0.243179</td>\n",
       "    </tr>\n",
       "    <tr>\n",
       "      <th>2537</th>\n",
       "      <td>0.247419</td>\n",
       "    </tr>\n",
       "    <tr>\n",
       "      <th>2538</th>\n",
       "      <td>0.245652</td>\n",
       "    </tr>\n",
       "    <tr>\n",
       "      <th>2539</th>\n",
       "      <td>0.375508</td>\n",
       "    </tr>\n",
       "  </tbody>\n",
       "</table>\n",
       "<p>2540 rows × 1 columns</p>\n",
       "</div>"
      ],
      "text/plain": [
       "           df1\n",
       "0     0.183983\n",
       "1     0.198119\n",
       "2     0.244100\n",
       "3     0.215458\n",
       "4     0.217794\n",
       "...        ...\n",
       "2535  0.216682\n",
       "2536  0.243179\n",
       "2537  0.247419\n",
       "2538  0.245652\n",
       "2539  0.375508\n",
       "\n",
       "[2540 rows x 1 columns]"
      ]
     },
     "execution_count": 10,
     "metadata": {},
     "output_type": "execute_result"
    }
   ],
   "source": [
    "df1[['specificity']].rename(columns={'specificity':'df1'})"
   ]
  },
  {
   "cell_type": "code",
   "execution_count": 11,
   "metadata": {},
   "outputs": [
    {
     "data": {
      "text/html": [
       "<div>\n",
       "<style scoped>\n",
       "    .dataframe tbody tr th:only-of-type {\n",
       "        vertical-align: middle;\n",
       "    }\n",
       "\n",
       "    .dataframe tbody tr th {\n",
       "        vertical-align: top;\n",
       "    }\n",
       "\n",
       "    .dataframe thead th {\n",
       "        text-align: right;\n",
       "    }\n",
       "</style>\n",
       "<table border=\"1\" class=\"dataframe\">\n",
       "  <thead>\n",
       "    <tr style=\"text-align: right;\">\n",
       "      <th></th>\n",
       "      <th>df1</th>\n",
       "      <th>df2</th>\n",
       "      <th>df3</th>\n",
       "    </tr>\n",
       "  </thead>\n",
       "  <tbody>\n",
       "    <tr>\n",
       "      <th>0</th>\n",
       "      <td>0.183983</td>\n",
       "      <td>0.374588</td>\n",
       "      <td>0.329744</td>\n",
       "    </tr>\n",
       "    <tr>\n",
       "      <th>1</th>\n",
       "      <td>0.198119</td>\n",
       "      <td>0.247147</td>\n",
       "      <td>0.258448</td>\n",
       "    </tr>\n",
       "    <tr>\n",
       "      <th>2</th>\n",
       "      <td>0.244100</td>\n",
       "      <td>0.298339</td>\n",
       "      <td>0.325729</td>\n",
       "    </tr>\n",
       "    <tr>\n",
       "      <th>3</th>\n",
       "      <td>0.215458</td>\n",
       "      <td>0.294622</td>\n",
       "      <td>0.266352</td>\n",
       "    </tr>\n",
       "    <tr>\n",
       "      <th>4</th>\n",
       "      <td>0.217794</td>\n",
       "      <td>0.218387</td>\n",
       "      <td>0.273491</td>\n",
       "    </tr>\n",
       "    <tr>\n",
       "      <th>...</th>\n",
       "      <td>...</td>\n",
       "      <td>...</td>\n",
       "      <td>...</td>\n",
       "    </tr>\n",
       "    <tr>\n",
       "      <th>2535</th>\n",
       "      <td>0.216682</td>\n",
       "      <td>0.278673</td>\n",
       "      <td>0.227164</td>\n",
       "    </tr>\n",
       "    <tr>\n",
       "      <th>2536</th>\n",
       "      <td>0.243179</td>\n",
       "      <td>0.366589</td>\n",
       "      <td>0.362967</td>\n",
       "    </tr>\n",
       "    <tr>\n",
       "      <th>2537</th>\n",
       "      <td>0.247419</td>\n",
       "      <td>0.259978</td>\n",
       "      <td>0.298492</td>\n",
       "    </tr>\n",
       "    <tr>\n",
       "      <th>2538</th>\n",
       "      <td>0.245652</td>\n",
       "      <td>0.369529</td>\n",
       "      <td>0.207603</td>\n",
       "    </tr>\n",
       "    <tr>\n",
       "      <th>2539</th>\n",
       "      <td>0.375508</td>\n",
       "      <td>0.289049</td>\n",
       "      <td>0.375508</td>\n",
       "    </tr>\n",
       "  </tbody>\n",
       "</table>\n",
       "<p>2540 rows × 3 columns</p>\n",
       "</div>"
      ],
      "text/plain": [
       "           df1       df2       df3\n",
       "0     0.183983  0.374588  0.329744\n",
       "1     0.198119  0.247147  0.258448\n",
       "2     0.244100  0.298339  0.325729\n",
       "3     0.215458  0.294622  0.266352\n",
       "4     0.217794  0.218387  0.273491\n",
       "...        ...       ...       ...\n",
       "2535  0.216682  0.278673  0.227164\n",
       "2536  0.243179  0.366589  0.362967\n",
       "2537  0.247419  0.259978  0.298492\n",
       "2538  0.245652  0.369529  0.207603\n",
       "2539  0.375508  0.289049  0.375508\n",
       "\n",
       "[2540 rows x 3 columns]"
      ]
     },
     "execution_count": 11,
     "metadata": {},
     "output_type": "execute_result"
    }
   ],
   "source": [
    "specificity_df = pd.concat([df1[['specificity']].rename(columns= {'specificity':'df1'}),df2[['specificity']].rename(columns={'specificity':'df2'}), df3[['specificity']].rename(columns={'specificity':'df3'})], axis=1)\n",
    "specificity_df"
   ]
  },
  {
   "cell_type": "code",
   "execution_count": 12,
   "metadata": {},
   "outputs": [],
   "source": [
    "# specificity_df.boxplot()"
   ]
  },
  {
   "cell_type": "code",
   "execution_count": 13,
   "metadata": {},
   "outputs": [
    {
     "data": {
      "text/html": [
       "<div>\n",
       "<style scoped>\n",
       "    .dataframe tbody tr th:only-of-type {\n",
       "        vertical-align: middle;\n",
       "    }\n",
       "\n",
       "    .dataframe tbody tr th {\n",
       "        vertical-align: top;\n",
       "    }\n",
       "\n",
       "    .dataframe thead th {\n",
       "        text-align: right;\n",
       "    }\n",
       "</style>\n",
       "<table border=\"1\" class=\"dataframe\">\n",
       "  <thead>\n",
       "    <tr style=\"text-align: right;\">\n",
       "      <th></th>\n",
       "      <th>Unnamed: 0</th>\n",
       "      <th>chat_templates</th>\n",
       "      <th>gen_targets</th>\n",
       "      <th>prevs</th>\n",
       "      <th>emotions</th>\n",
       "      <th>gens</th>\n",
       "      <th>specificity</th>\n",
       "    </tr>\n",
       "  </thead>\n",
       "  <tbody>\n",
       "    <tr>\n",
       "      <th>951</th>\n",
       "      <td>951</td>\n",
       "      <td>&lt;|system|&gt;\\nYou are a friendly assistant, who ...</td>\n",
       "      <td>Woah plot twist. She brought him along to meet...</td>\n",
       "      <td>Well, right after she gave me a big hug, she i...</td>\n",
       "      <td>jealous</td>\n",
       "      <td>OHHHHHHHHHHHHHHHHHHHHHHHHHHHHHHHHHHHHHHHHHHHHH...</td>\n",
       "      <td>1.0</td>\n",
       "    </tr>\n",
       "  </tbody>\n",
       "</table>\n",
       "</div>"
      ],
      "text/plain": [
       "     Unnamed: 0                                     chat_templates  \\\n",
       "951         951  <|system|>\\nYou are a friendly assistant, who ...   \n",
       "\n",
       "                                           gen_targets  \\\n",
       "951  Woah plot twist. She brought him along to meet...   \n",
       "\n",
       "                                                 prevs emotions  \\\n",
       "951  Well, right after she gave me a big hug, she i...  jealous   \n",
       "\n",
       "                                                  gens  specificity  \n",
       "951  OHHHHHHHHHHHHHHHHHHHHHHHHHHHHHHHHHHHHHHHHHHHHH...          1.0  "
      ]
     },
     "execution_count": 13,
     "metadata": {},
     "output_type": "execute_result"
    }
   ],
   "source": [
    "df2[df2.specificity == 1]"
   ]
  },
  {
   "cell_type": "code",
   "execution_count": 14,
   "metadata": {},
   "outputs": [
    {
     "data": {
      "text/plain": [
       "TtestResult(statistic=-50.25107688219272, pvalue=0.0, df=4570.0)"
      ]
     },
     "execution_count": 14,
     "metadata": {},
     "output_type": "execute_result"
    }
   ],
   "source": [
    "# use trimming because of longtail/outliers: https://academic.oup.com/biomet/article-abstract/61/1/165/264376\n",
    "\n",
    "stats.ttest_ind(df1['specificity'], df2['specificity'],trim=0.05)"
   ]
  },
  {
   "cell_type": "code",
   "execution_count": 15,
   "metadata": {},
   "outputs": [
    {
     "data": {
      "text/plain": [
       "TtestResult(statistic=-47.26486191439801, pvalue=9.999000099990002e-05, df=nan)"
      ]
     },
     "execution_count": 15,
     "metadata": {},
     "output_type": "execute_result"
    }
   ],
   "source": [
    "stats.ttest_ind(df1['specificity'], df2['specificity'],permutations=10000,random_state=34)\n"
   ]
  },
  {
   "cell_type": "code",
   "execution_count": 16,
   "metadata": {},
   "outputs": [
    {
     "data": {
      "text/plain": [
       "TtestResult(statistic=-58.00464341980431, pvalue=9.999000099990002e-05, df=nan)"
      ]
     },
     "execution_count": 16,
     "metadata": {},
     "output_type": "execute_result"
    }
   ],
   "source": [
    "stats.ttest_ind(df1['specificity'], df3['specificity'],permutations=10000,random_state=34)\n"
   ]
  },
  {
   "cell_type": "markdown",
   "metadata": {},
   "source": [
    "### Deal with outliers"
   ]
  },
  {
   "cell_type": "markdown",
   "metadata": {},
   "source": [
    "we'll take things within z-score -3 to 3"
   ]
  },
  {
   "cell_type": "code",
   "execution_count": 17,
   "metadata": {},
   "outputs": [],
   "source": [
    "z_df1 = np.abs(stats.zscore(df1['specificity']))\n",
    "z_df2 = np.abs(stats.zscore(df2['specificity']))\n",
    "z_df3 = np.abs(stats.zscore(df3['specificity']))"
   ]
  },
  {
   "cell_type": "code",
   "execution_count": 18,
   "metadata": {},
   "outputs": [],
   "source": [
    "z_thresh = 3\n",
    "\n",
    "\n",
    "df1_outliers = z_df1[z_df1 > z_thresh].index \n",
    "df2_outliers = z_df1[z_df2 > z_thresh].index \n",
    "df3_outliers = z_df1[z_df3 > z_thresh].index \n",
    "\n"
   ]
  },
  {
   "cell_type": "markdown",
   "metadata": {},
   "source": [
    "t-test without outliers"
   ]
  },
  {
   "cell_type": "code",
   "execution_count": 19,
   "metadata": {},
   "outputs": [
    {
     "name": "stdout",
     "output_type": "stream",
     "text": [
      "variances\n",
      "w/ outliers 0.001936805812244156 0.003697253683736711 0.002504549365203262\n",
      "w/o outliers 0.001568671326963348 0.0030248628461638683 0.002327097650820034\n"
     ]
    }
   ],
   "source": [
    "spec_df1_no_outliers = df1[~df1.index.isin(df1_outliers)].specificity\n",
    "spec_df2_no_outliers = df2[~df2.index.isin(df2_outliers)].specificity\n",
    "spec_df3_no_outliers = df3[~df3.index.isin(df3_outliers)].specificity\n",
    "\n",
    "print(\"variances\")\n",
    "print(\"w/ outliers\", df1.specificity.var(),df2.specificity.var(), df3.specificity.var())\n",
    "print(\"w/o outliers\", spec_df1_no_outliers.var(),spec_df2_no_outliers.var(), spec_df3_no_outliers.var())"
   ]
  },
  {
   "cell_type": "code",
   "execution_count": 20,
   "metadata": {},
   "outputs": [
    {
     "data": {
      "text/plain": [
       "TtestResult(statistic=-51.943061690369944, pvalue=9.999000099990002e-05, df=nan)"
      ]
     },
     "execution_count": 20,
     "metadata": {},
     "output_type": "execute_result"
    }
   ],
   "source": [
    "stats.ttest_ind(spec_df1_no_outliers, spec_df2_no_outliers, permutations=10000, random_state=34)"
   ]
  },
  {
   "cell_type": "code",
   "execution_count": 21,
   "metadata": {},
   "outputs": [
    {
     "data": {
      "text/plain": [
       "TtestResult(statistic=-62.33150588520844, pvalue=9.999000099990002e-05, df=nan)"
      ]
     },
     "execution_count": 21,
     "metadata": {},
     "output_type": "execute_result"
    }
   ],
   "source": [
    "stats.ttest_ind(spec_df1_no_outliers, spec_df3_no_outliers, permutations=10000, random_state=34)"
   ]
  },
  {
   "cell_type": "code",
   "execution_count": 22,
   "metadata": {},
   "outputs": [
    {
     "data": {
      "text/plain": [
       "('preds_dlrxxx_zephyr-7b-sft-full122_specificity.txt',\n",
       " 'preds_dlr1e6_zephyr-7b-sft-full122_d211_specificity.txt',\n",
       " 'preds_dlrxxx_zephyr-7b-sft-full_specificity.txt')"
      ]
     },
     "execution_count": 22,
     "metadata": {},
     "output_type": "execute_result"
    }
   ],
   "source": [
    "files[0], files[1], files[2]"
   ]
  },
  {
   "cell_type": "code",
   "execution_count": 23,
   "metadata": {},
   "outputs": [
    {
     "data": {
      "text/plain": [
       "TtestResult(statistic=-5.043231995424769, pvalue=9.999000099990002e-05, df=nan)"
      ]
     },
     "execution_count": 23,
     "metadata": {},
     "output_type": "execute_result"
    }
   ],
   "source": [
    "stats.ttest_ind(spec_df2_no_outliers, spec_df3_no_outliers, permutations=10000, random_state=34)"
   ]
  },
  {
   "cell_type": "markdown",
   "metadata": {},
   "source": [
    "### Compare with human"
   ]
  },
  {
   "cell_type": "code",
   "execution_count": 24,
   "metadata": {},
   "outputs": [
    {
     "data": {
      "text/html": [
       "<div>\n",
       "<style scoped>\n",
       "    .dataframe tbody tr th:only-of-type {\n",
       "        vertical-align: middle;\n",
       "    }\n",
       "\n",
       "    .dataframe tbody tr th {\n",
       "        vertical-align: top;\n",
       "    }\n",
       "\n",
       "    .dataframe thead th {\n",
       "        text-align: right;\n",
       "    }\n",
       "</style>\n",
       "<table border=\"1\" class=\"dataframe\">\n",
       "  <thead>\n",
       "    <tr style=\"text-align: right;\">\n",
       "      <th></th>\n",
       "      <th>Unnamed: 0</th>\n",
       "      <th>chat_templates</th>\n",
       "      <th>gen_targets</th>\n",
       "      <th>prevs</th>\n",
       "      <th>emotions</th>\n",
       "      <th>gens</th>\n",
       "      <th>specificity</th>\n",
       "    </tr>\n",
       "  </thead>\n",
       "  <tbody>\n",
       "    <tr>\n",
       "      <th>0</th>\n",
       "      <td>0</td>\n",
       "      <td>&lt;|system|&gt;\\nYou are a friendly assistant, who ...</td>\n",
       "      <td>Why did you feel guilty? People really shouldn...</td>\n",
       "      <td>No I wasn't hit. It turned out they were drunk...</td>\n",
       "      <td>guilty</td>\n",
       "      <td>Thankfully you were okay then. Drunk drivers a...</td>\n",
       "      <td>0.303654</td>\n",
       "    </tr>\n",
       "    <tr>\n",
       "      <th>1</th>\n",
       "      <td>1</td>\n",
       "      <td>&lt;|system|&gt;\\nYou are a friendly assistant, who ...</td>\n",
       "      <td>you got a great husband</td>\n",
       "      <td>It was, and he does that type of thing a lot.</td>\n",
       "      <td>surprised</td>\n",
       "      <td>That is very sweet of him to always get you li...</td>\n",
       "      <td>0.220178</td>\n",
       "    </tr>\n",
       "    <tr>\n",
       "      <th>2</th>\n",
       "      <td>2</td>\n",
       "      <td>&lt;|system|&gt;\\nYou are a friendly assistant, who ...</td>\n",
       "      <td>It's worth it to consider. I pay less than hal...</td>\n",
       "      <td>Maybe A move out of my state would be the answ...</td>\n",
       "      <td>trusting</td>\n",
       "      <td>Exactly, I didn't want to leave my family but ...</td>\n",
       "      <td>0.349959</td>\n",
       "    </tr>\n",
       "    <tr>\n",
       "      <th>3</th>\n",
       "      <td>3</td>\n",
       "      <td>&lt;|system|&gt;\\nYou are a friendly assistant, who ...</td>\n",
       "      <td>I have been married for 19 years and we have b...</td>\n",
       "      <td>My girlfriend, How about you? do you have a pa...</td>\n",
       "      <td>faithful</td>\n",
       "      <td>No I do not. Been single for awhile now. What ...</td>\n",
       "      <td>0.305621</td>\n",
       "    </tr>\n",
       "    <tr>\n",
       "      <th>4</th>\n",
       "      <td>4</td>\n",
       "      <td>&lt;|system|&gt;\\nYou are a friendly assistant, who ...</td>\n",
       "      <td>You have been very lucky. You should keep thei...</td>\n",
       "      <td>Surprisingly it's been a painless process. I'm...</td>\n",
       "      <td>trusting</td>\n",
       "      <td>That is great. Sometimes they can make it hard...</td>\n",
       "      <td>0.340205</td>\n",
       "    </tr>\n",
       "    <tr>\n",
       "      <th>...</th>\n",
       "      <td>...</td>\n",
       "      <td>...</td>\n",
       "      <td>...</td>\n",
       "      <td>...</td>\n",
       "      <td>...</td>\n",
       "      <td>...</td>\n",
       "      <td>...</td>\n",
       "    </tr>\n",
       "    <tr>\n",
       "      <th>2535</th>\n",
       "      <td>2535</td>\n",
       "      <td>&lt;|system|&gt;\\nYou are a friendly assistant, who ...</td>\n",
       "      <td>Well that's good. What did you find?</td>\n",
       "      <td>No, she is fine. I had to find something else ...</td>\n",
       "      <td>annoyed</td>\n",
       "      <td>Well, at least your dog did not get sick. Mayb...</td>\n",
       "      <td>0.187269</td>\n",
       "    </tr>\n",
       "    <tr>\n",
       "      <th>2536</th>\n",
       "      <td>2536</td>\n",
       "      <td>&lt;|system|&gt;\\nYou are a friendly assistant, who ...</td>\n",
       "      <td>Did he do it?  Cause if not, I might have need...</td>\n",
       "      <td>I would have totally flipped the circuit break...</td>\n",
       "      <td>annoyed</td>\n",
       "      <td>And did he obey?  Or did he act like he didn't...</td>\n",
       "      <td>0.280253</td>\n",
       "    </tr>\n",
       "    <tr>\n",
       "      <th>2537</th>\n",
       "      <td>2537</td>\n",
       "      <td>&lt;|system|&gt;\\nYou are a friendly assistant, who ...</td>\n",
       "      <td>I can imagine. Maybe it'll morph into a Super ...</td>\n",
       "      <td>It probably will.</td>\n",
       "      <td>disgusted</td>\n",
       "      <td>You should try to train her not to do that!</td>\n",
       "      <td>0.409763</td>\n",
       "    </tr>\n",
       "    <tr>\n",
       "      <th>2538</th>\n",
       "      <td>2538</td>\n",
       "      <td>&lt;|system|&gt;\\nYou are a friendly assistant, who ...</td>\n",
       "      <td>That's too bad. Well, on the bright side, mayb...</td>\n",
       "      <td>Yes it did, unfortunately</td>\n",
       "      <td>ashamed</td>\n",
       "      <td>Well at least it's not ruined then. They usual...</td>\n",
       "      <td>0.347666</td>\n",
       "    </tr>\n",
       "    <tr>\n",
       "      <th>2539</th>\n",
       "      <td>2539</td>\n",
       "      <td>&lt;|system|&gt;\\nYou are a friendly assistant, who ...</td>\n",
       "      <td>No problem. What kind of work does he do?</td>\n",
       "      <td>thank you so much!</td>\n",
       "      <td>hopeful</td>\n",
       "      <td>Of course, we all have to go through tough times.</td>\n",
       "      <td>0.249721</td>\n",
       "    </tr>\n",
       "  </tbody>\n",
       "</table>\n",
       "<p>2540 rows × 7 columns</p>\n",
       "</div>"
      ],
      "text/plain": [
       "      Unnamed: 0                                     chat_templates  \\\n",
       "0              0  <|system|>\\nYou are a friendly assistant, who ...   \n",
       "1              1  <|system|>\\nYou are a friendly assistant, who ...   \n",
       "2              2  <|system|>\\nYou are a friendly assistant, who ...   \n",
       "3              3  <|system|>\\nYou are a friendly assistant, who ...   \n",
       "4              4  <|system|>\\nYou are a friendly assistant, who ...   \n",
       "...          ...                                                ...   \n",
       "2535        2535  <|system|>\\nYou are a friendly assistant, who ...   \n",
       "2536        2536  <|system|>\\nYou are a friendly assistant, who ...   \n",
       "2537        2537  <|system|>\\nYou are a friendly assistant, who ...   \n",
       "2538        2538  <|system|>\\nYou are a friendly assistant, who ...   \n",
       "2539        2539  <|system|>\\nYou are a friendly assistant, who ...   \n",
       "\n",
       "                                            gen_targets  \\\n",
       "0     Why did you feel guilty? People really shouldn...   \n",
       "1                               you got a great husband   \n",
       "2     It's worth it to consider. I pay less than hal...   \n",
       "3     I have been married for 19 years and we have b...   \n",
       "4     You have been very lucky. You should keep thei...   \n",
       "...                                                 ...   \n",
       "2535               Well that's good. What did you find?   \n",
       "2536  Did he do it?  Cause if not, I might have need...   \n",
       "2537  I can imagine. Maybe it'll morph into a Super ...   \n",
       "2538  That's too bad. Well, on the bright side, mayb...   \n",
       "2539          No problem. What kind of work does he do?   \n",
       "\n",
       "                                                  prevs   emotions  \\\n",
       "0     No I wasn't hit. It turned out they were drunk...     guilty   \n",
       "1         It was, and he does that type of thing a lot.  surprised   \n",
       "2     Maybe A move out of my state would be the answ...   trusting   \n",
       "3     My girlfriend, How about you? do you have a pa...   faithful   \n",
       "4     Surprisingly it's been a painless process. I'm...   trusting   \n",
       "...                                                 ...        ...   \n",
       "2535  No, she is fine. I had to find something else ...    annoyed   \n",
       "2536  I would have totally flipped the circuit break...    annoyed   \n",
       "2537                                 It probably will.   disgusted   \n",
       "2538                         Yes it did, unfortunately     ashamed   \n",
       "2539                                 thank you so much!    hopeful   \n",
       "\n",
       "                                                   gens  specificity  \n",
       "0     Thankfully you were okay then. Drunk drivers a...     0.303654  \n",
       "1     That is very sweet of him to always get you li...     0.220178  \n",
       "2     Exactly, I didn't want to leave my family but ...     0.349959  \n",
       "3     No I do not. Been single for awhile now. What ...     0.305621  \n",
       "4     That is great. Sometimes they can make it hard...     0.340205  \n",
       "...                                                 ...          ...  \n",
       "2535  Well, at least your dog did not get sick. Mayb...     0.187269  \n",
       "2536  And did he obey?  Or did he act like he didn't...     0.280253  \n",
       "2537        You should try to train her not to do that!     0.409763  \n",
       "2538  Well at least it's not ruined then. They usual...     0.347666  \n",
       "2539  Of course, we all have to go through tough times.     0.249721  \n",
       "\n",
       "[2540 rows x 7 columns]"
      ]
     },
     "execution_count": 24,
     "metadata": {},
     "output_type": "execute_result"
    }
   ],
   "source": [
    "human_df = pd.read_csv('../data/results/empathy_eval_results/human_specificity.txt', sep=\"~\")\n",
    "human_df"
   ]
  },
  {
   "cell_type": "code",
   "execution_count": 25,
   "metadata": {},
   "outputs": [
    {
     "data": {
      "text/html": [
       "<div>\n",
       "<style scoped>\n",
       "    .dataframe tbody tr th:only-of-type {\n",
       "        vertical-align: middle;\n",
       "    }\n",
       "\n",
       "    .dataframe tbody tr th {\n",
       "        vertical-align: top;\n",
       "    }\n",
       "\n",
       "    .dataframe thead th {\n",
       "        text-align: right;\n",
       "    }\n",
       "</style>\n",
       "<table border=\"1\" class=\"dataframe\">\n",
       "  <thead>\n",
       "    <tr style=\"text-align: right;\">\n",
       "      <th></th>\n",
       "      <th>df1</th>\n",
       "      <th>df2</th>\n",
       "      <th>df3</th>\n",
       "      <th>human</th>\n",
       "    </tr>\n",
       "  </thead>\n",
       "  <tbody>\n",
       "    <tr>\n",
       "      <th>0</th>\n",
       "      <td>0.183983</td>\n",
       "      <td>0.374588</td>\n",
       "      <td>0.329744</td>\n",
       "      <td>0.303654</td>\n",
       "    </tr>\n",
       "    <tr>\n",
       "      <th>1</th>\n",
       "      <td>0.198119</td>\n",
       "      <td>0.247147</td>\n",
       "      <td>0.258448</td>\n",
       "      <td>0.220178</td>\n",
       "    </tr>\n",
       "    <tr>\n",
       "      <th>2</th>\n",
       "      <td>0.244100</td>\n",
       "      <td>0.298339</td>\n",
       "      <td>0.325729</td>\n",
       "      <td>0.349959</td>\n",
       "    </tr>\n",
       "    <tr>\n",
       "      <th>3</th>\n",
       "      <td>0.215458</td>\n",
       "      <td>0.294622</td>\n",
       "      <td>0.266352</td>\n",
       "      <td>0.305621</td>\n",
       "    </tr>\n",
       "    <tr>\n",
       "      <th>4</th>\n",
       "      <td>0.217794</td>\n",
       "      <td>0.218387</td>\n",
       "      <td>0.273491</td>\n",
       "      <td>0.340205</td>\n",
       "    </tr>\n",
       "    <tr>\n",
       "      <th>...</th>\n",
       "      <td>...</td>\n",
       "      <td>...</td>\n",
       "      <td>...</td>\n",
       "      <td>...</td>\n",
       "    </tr>\n",
       "    <tr>\n",
       "      <th>2535</th>\n",
       "      <td>0.216682</td>\n",
       "      <td>0.278673</td>\n",
       "      <td>0.227164</td>\n",
       "      <td>0.187269</td>\n",
       "    </tr>\n",
       "    <tr>\n",
       "      <th>2536</th>\n",
       "      <td>0.243179</td>\n",
       "      <td>0.366589</td>\n",
       "      <td>0.362967</td>\n",
       "      <td>0.280253</td>\n",
       "    </tr>\n",
       "    <tr>\n",
       "      <th>2537</th>\n",
       "      <td>0.247419</td>\n",
       "      <td>0.259978</td>\n",
       "      <td>0.298492</td>\n",
       "      <td>0.409763</td>\n",
       "    </tr>\n",
       "    <tr>\n",
       "      <th>2538</th>\n",
       "      <td>0.245652</td>\n",
       "      <td>0.369529</td>\n",
       "      <td>0.207603</td>\n",
       "      <td>0.347666</td>\n",
       "    </tr>\n",
       "    <tr>\n",
       "      <th>2539</th>\n",
       "      <td>0.375508</td>\n",
       "      <td>0.289049</td>\n",
       "      <td>0.375508</td>\n",
       "      <td>0.249721</td>\n",
       "    </tr>\n",
       "  </tbody>\n",
       "</table>\n",
       "<p>2540 rows × 4 columns</p>\n",
       "</div>"
      ],
      "text/plain": [
       "           df1       df2       df3     human\n",
       "0     0.183983  0.374588  0.329744  0.303654\n",
       "1     0.198119  0.247147  0.258448  0.220178\n",
       "2     0.244100  0.298339  0.325729  0.349959\n",
       "3     0.215458  0.294622  0.266352  0.305621\n",
       "4     0.217794  0.218387  0.273491  0.340205\n",
       "...        ...       ...       ...       ...\n",
       "2535  0.216682  0.278673  0.227164  0.187269\n",
       "2536  0.243179  0.366589  0.362967  0.280253\n",
       "2537  0.247419  0.259978  0.298492  0.409763\n",
       "2538  0.245652  0.369529  0.207603  0.347666\n",
       "2539  0.375508  0.289049  0.375508  0.249721\n",
       "\n",
       "[2540 rows x 4 columns]"
      ]
     },
     "execution_count": 25,
     "metadata": {},
     "output_type": "execute_result"
    }
   ],
   "source": [
    "specificity_df = pd.concat([specificity_df, human_df[['specificity']].rename(columns={'specificity':'human'})], axis=1)\n",
    "specificity_df\n"
   ]
  },
  {
   "cell_type": "code",
   "execution_count": 26,
   "metadata": {},
   "outputs": [
    {
     "data": {
      "text/html": [
       "<div>\n",
       "<style scoped>\n",
       "    .dataframe tbody tr th:only-of-type {\n",
       "        vertical-align: middle;\n",
       "    }\n",
       "\n",
       "    .dataframe tbody tr th {\n",
       "        vertical-align: top;\n",
       "    }\n",
       "\n",
       "    .dataframe thead th {\n",
       "        text-align: right;\n",
       "    }\n",
       "</style>\n",
       "<table border=\"1\" class=\"dataframe\">\n",
       "  <thead>\n",
       "    <tr style=\"text-align: right;\">\n",
       "      <th></th>\n",
       "      <th>df1</th>\n",
       "      <th>df2</th>\n",
       "      <th>df3</th>\n",
       "      <th>human</th>\n",
       "    </tr>\n",
       "  </thead>\n",
       "  <tbody>\n",
       "    <tr>\n",
       "      <th>0</th>\n",
       "      <td>0.183983</td>\n",
       "      <td>0.374588</td>\n",
       "      <td>0.329744</td>\n",
       "      <td>0.303654</td>\n",
       "    </tr>\n",
       "    <tr>\n",
       "      <th>1</th>\n",
       "      <td>0.198119</td>\n",
       "      <td>0.247147</td>\n",
       "      <td>0.258448</td>\n",
       "      <td>0.220178</td>\n",
       "    </tr>\n",
       "    <tr>\n",
       "      <th>2</th>\n",
       "      <td>0.244100</td>\n",
       "      <td>0.298339</td>\n",
       "      <td>0.325729</td>\n",
       "      <td>0.349959</td>\n",
       "    </tr>\n",
       "    <tr>\n",
       "      <th>3</th>\n",
       "      <td>0.215458</td>\n",
       "      <td>0.294622</td>\n",
       "      <td>0.266352</td>\n",
       "      <td>0.305621</td>\n",
       "    </tr>\n",
       "    <tr>\n",
       "      <th>4</th>\n",
       "      <td>0.217794</td>\n",
       "      <td>0.218387</td>\n",
       "      <td>0.273491</td>\n",
       "      <td>0.340205</td>\n",
       "    </tr>\n",
       "    <tr>\n",
       "      <th>...</th>\n",
       "      <td>...</td>\n",
       "      <td>...</td>\n",
       "      <td>...</td>\n",
       "      <td>...</td>\n",
       "    </tr>\n",
       "    <tr>\n",
       "      <th>2535</th>\n",
       "      <td>0.216682</td>\n",
       "      <td>0.278673</td>\n",
       "      <td>0.227164</td>\n",
       "      <td>0.187269</td>\n",
       "    </tr>\n",
       "    <tr>\n",
       "      <th>2536</th>\n",
       "      <td>0.243179</td>\n",
       "      <td>0.366589</td>\n",
       "      <td>0.362967</td>\n",
       "      <td>0.280253</td>\n",
       "    </tr>\n",
       "    <tr>\n",
       "      <th>2537</th>\n",
       "      <td>0.247419</td>\n",
       "      <td>0.259978</td>\n",
       "      <td>0.298492</td>\n",
       "      <td>0.409763</td>\n",
       "    </tr>\n",
       "    <tr>\n",
       "      <th>2538</th>\n",
       "      <td>0.245652</td>\n",
       "      <td>0.369529</td>\n",
       "      <td>0.207603</td>\n",
       "      <td>0.347666</td>\n",
       "    </tr>\n",
       "    <tr>\n",
       "      <th>2539</th>\n",
       "      <td>0.375508</td>\n",
       "      <td>0.289049</td>\n",
       "      <td>0.375508</td>\n",
       "      <td>0.249721</td>\n",
       "    </tr>\n",
       "  </tbody>\n",
       "</table>\n",
       "<p>2540 rows × 4 columns</p>\n",
       "</div>"
      ],
      "text/plain": [
       "           df1       df2       df3     human\n",
       "0     0.183983  0.374588  0.329744  0.303654\n",
       "1     0.198119  0.247147  0.258448  0.220178\n",
       "2     0.244100  0.298339  0.325729  0.349959\n",
       "3     0.215458  0.294622  0.266352  0.305621\n",
       "4     0.217794  0.218387  0.273491  0.340205\n",
       "...        ...       ...       ...       ...\n",
       "2535  0.216682  0.278673  0.227164  0.187269\n",
       "2536  0.243179  0.366589  0.362967  0.280253\n",
       "2537  0.247419  0.259978  0.298492  0.409763\n",
       "2538  0.245652  0.369529  0.207603  0.347666\n",
       "2539  0.375508  0.289049  0.375508  0.249721\n",
       "\n",
       "[2540 rows x 4 columns]"
      ]
     },
     "execution_count": 26,
     "metadata": {},
     "output_type": "execute_result"
    }
   ],
   "source": [
    "specificity_df"
   ]
  },
  {
   "cell_type": "code",
   "execution_count": 27,
   "metadata": {},
   "outputs": [
    {
     "data": {
      "text/plain": [
       "<Axes: >"
      ]
     },
     "execution_count": 27,
     "metadata": {},
     "output_type": "execute_result"
    },
    {
     "data": {
      "image/png": "[encoded data removed]",
      "text/plain": [
       "<Figure size 640x480 with 1 Axes>"
      ]
     },
     "metadata": {},
     "output_type": "display_data"
    }
   ],
   "source": [
    "specificity_df.boxplot()"
   ]
  },
  {
   "cell_type": "code",
   "execution_count": 28,
   "metadata": {},
   "outputs": [
    {
     "data": {
      "text/plain": [
       "0       0.106932\n",
       "1       1.150748\n",
       "2       0.804581\n",
       "3       0.136574\n",
       "4       0.657622\n",
       "          ...   \n",
       "2535    1.646568\n",
       "2536    0.245631\n",
       "2537    1.705611\n",
       "2538    0.770029\n",
       "2539    0.705634\n",
       "Name: specificity, Length: 2540, dtype: float64"
      ]
     },
     "execution_count": 28,
     "metadata": {},
     "output_type": "execute_result"
    }
   ],
   "source": [
    "z_human = np.abs(stats.zscore(human_df['specificity']))\n",
    "z_human"
   ]
  },
  {
   "cell_type": "code",
   "execution_count": 29,
   "metadata": {},
   "outputs": [
    {
     "data": {
      "text/plain": [
       "0       0.303654\n",
       "1       0.220178\n",
       "2       0.349959\n",
       "3       0.305621\n",
       "4       0.340205\n",
       "          ...   \n",
       "2535    0.187269\n",
       "2536    0.280253\n",
       "2537    0.409763\n",
       "2538    0.347666\n",
       "2539    0.249721\n",
       "Name: specificity, Length: 2521, dtype: float64"
      ]
     },
     "execution_count": 29,
     "metadata": {},
     "output_type": "execute_result"
    }
   ],
   "source": [
    "human_outliers = z_human[z_human > z_thresh].index \n",
    "spec_human_no_outliers = human_df[~human_df.index.isin(human_outliers)].specificity\n",
    "spec_human_no_outliers"
   ]
  },
  {
   "cell_type": "code",
   "execution_count": 30,
   "metadata": {},
   "outputs": [
    {
     "name": "stdout",
     "output_type": "stream",
     "text": [
      "preds_dlrxxx_zephyr-7b-sft-full122_specificity.txt vs. human\n",
      "TtestResult(statistic=-50.80927543346678, pvalue=9.999000099990002e-05, df=nan)\n",
      "\n",
      " preds_dlr1e6_zephyr-7b-sft-full122_d211_specificity.txt vs. human\n",
      "TtestResult(statistic=-2.065563921771113, pvalue=0.03899610038996101, df=nan)\n",
      "\n",
      " preds_dlrxxx_zephyr-7b-sft-full_specificity.txt vs. human\n",
      "TtestResult(statistic=2.5655188679845686, pvalue=0.0115988401159884, df=nan)\n"
     ]
    }
   ],
   "source": [
    "print(files[0], 'vs. human')\n",
    "print(stats.ttest_ind(spec_df1_no_outliers, spec_human_no_outliers, permutations=10000, random_state=34, equal_var=False))\n",
    "\n",
    "print('\\n', files[1], 'vs. human')\n",
    "print(stats.ttest_ind(spec_df2_no_outliers, spec_human_no_outliers, permutations=10000, random_state=34, equal_var=False))\n",
    "\n",
    "\n",
    "print('\\n', files[2], 'vs. human')\n",
    "print(stats.ttest_ind(spec_df3_no_outliers, spec_human_no_outliers, permutations=10000, random_state=34, equal_var=False))"
   ]
  },
  {
   "cell_type": "code",
   "execution_count": 31,
   "metadata": {},
   "outputs": [
    {
     "name": "stdout",
     "output_type": "stream",
     "text": [
      "preds_dlrxxx_zephyr-7b-sft-full122_specificity.txt vs. human\n",
      "TtestResult(statistic=-46.74641853773337, pvalue=9.999000099990002e-05, df=nan)\n",
      "\n",
      " preds_dlr1e6_zephyr-7b-sft-full122_d211_specificity.txt vs. human\n",
      "TtestResult(statistic=-1.9503185806325076, pvalue=0.052394760523947606, df=nan)\n",
      "\n",
      " preds_dlrxxx_zephyr-7b-sft-full_specificity.txt vs. human\n",
      "TtestResult(statistic=1.7120996944823803, pvalue=0.08749125087491251, df=nan)\n"
     ]
    }
   ],
   "source": [
    "print(files[0], 'vs. human')\n",
    "print(stats.ttest_ind(df1.specificity, human_df.specificity, permutations=10000, random_state=34, equal_var=False))\n",
    "\n",
    "print('\\n', files[1], 'vs. human')\n",
    "print(stats.ttest_ind(df2.specificity, human_df.specificity, permutations=10000, random_state=34, equal_var=False))\n",
    "\n",
    "\n",
    "print('\\n', files[2], 'vs. human')\n",
    "print(stats.ttest_ind(df3.specificity, human_df.specificity, permutations=10000, random_state=34, equal_var=False))"
   ]
  },
  {
   "cell_type": "code",
   "execution_count": 32,
   "metadata": {},
   "outputs": [
    {
     "name": "stdout",
     "output_type": "stream",
     "text": [
      "preds_dlrxxx_zephyr-7b-sft-full122_specificity.txt vs. preds_dlr1e6_zephyr-7b-sft-full122_d211_specificity.txt\n",
      "TtestResult(statistic=-47.26486191439801, pvalue=9.999000099990002e-05, df=nan)\n",
      "\n",
      "preds_dlrxxx_zephyr-7b-sft-full122_specificity.txt vs. preds_dlrxxx_zephyr-7b-sft-full_specificity.txt\n",
      "TtestResult(statistic=-58.00464341980431, pvalue=9.999000099990002e-05, df=nan)\n",
      "\n",
      " preds_dlr1e6_zephyr-7b-sft-full122_d211_specificity.txt preds_dlrxxx_zephyr-7b-sft-full_specificity.txt\n",
      "TtestResult(statistic=-4.0369238880108735, pvalue=9.999000099990002e-05, df=nan)\n"
     ]
    }
   ],
   "source": [
    "print(files[0], 'vs.', files[1])\n",
    "print(stats.ttest_ind(df1.specificity, df2.specificity, permutations=10000, random_state=34, equal_var=False))\n",
    "print()\n",
    "\n",
    "print(files[0], 'vs.', files[2])\n",
    "print(stats.ttest_ind(df1.specificity, df3.specificity, permutations=10000, random_state=34, equal_var=False))\n",
    "\n",
    "\n",
    "print('\\n', files[1], files[2])\n",
    "print(stats.ttest_ind(df2.specificity, df3.specificity, permutations=10000, random_state=34, equal_var=False))"
   ]
  },
  {
   "cell_type": "code",
   "execution_count": 34,
   "metadata": {},
   "outputs": [
    {
     "name": "stdout",
     "output_type": "stream",
     "text": [
      "preds_dlrxxx_zephyr-7b-sft-full122_specificity.txt vs. preds_dlr1e6_zephyr-7b-sft-full122_d211_specificity.txt\n",
      "TtestResult(statistic=-51.96268774054311, pvalue=9.999000099990002e-05, df=nan)\n",
      "\n",
      "preds_dlrxxx_zephyr-7b-sft-full122_specificity.txt vs. preds_dlrxxx_zephyr-7b-sft-full_specificity.txt\n",
      "TtestResult(statistic=-62.355592034075826, pvalue=9.999000099990002e-05, df=nan)\n",
      "\n",
      " preds_dlr1e6_zephyr-7b-sft-full122_d211_specificity.txt preds_dlrxxx_zephyr-7b-sft-full_specificity.txt\n",
      "TtestResult(statistic=-5.04271070259378, pvalue=9.999000099990002e-05, df=nan)\n"
     ]
    }
   ],
   "source": [
    "print(files[0], 'vs.', files[1])\n",
    "print(stats.ttest_ind(spec_df1_no_outliers, spec_df2_no_outliers, permutations=10000, random_state=34, equal_var=False))\n",
    "print()\n",
    "\n",
    "print(files[0], 'vs.', files[2])\n",
    "print(stats.ttest_ind(spec_df1_no_outliers, spec_df3_no_outliers, permutations=10000, random_state=34, equal_var=False))\n",
    "\n",
    "\n",
    "print('\\n', files[1], files[2])\n",
    "print(stats.ttest_ind(spec_df2_no_outliers, spec_df3_no_outliers, permutations=10000, random_state=34, equal_var=False))"
   ]
  }
 ],
 "metadata": {
  "kernelspec": {
   "display_name": "nlp",
   "language": "python",
   "name": "python3"
  },
  "language_info": {
   "codemirror_mode": {
    "name": "ipython",
    "version": 3
   },
   "file_extension": ".py",
   "mimetype": "text/x-python",
   "name": "python",
   "nbconvert_exporter": "python",
   "pygments_lexer": "ipython3",
   "version": "3.11.4"
  }
 },
 "nbformat": 4,
 "nbformat_minor": 2
}
