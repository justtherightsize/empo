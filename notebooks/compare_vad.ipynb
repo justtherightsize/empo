{
 "cells": [
  {
   "cell_type": "code",
   "execution_count": 35,
   "metadata": {},
   "outputs": [],
   "source": [
    "import pandas as pd\n",
    "import os\n",
    "from scipy import stats\n",
    "import numpy as np\n",
    "from collections import defaultdict\n",
    "\n",
    "\n",
    "USE_ABSOLUTE = False # this is because values closer to 0 are desired according to Lee et al\n",
    "\n",
    "results_dir = '../data/results/empathy_eval_results/'\n",
    "files = ['preds_dlrxxx_zephyr-7b-sft-full122_vad.txt', 'preds_dlr1e6_zephyr-7b-sft-full122_d211_vad.txt', 'preds_dlrxxx_zephyr-7b-sft-full_vad.txt']"
   ]
  },
  {
   "cell_type": "code",
   "execution_count": 36,
   "metadata": {},
   "outputs": [],
   "source": [
    "df1 = pd.read_csv(os.path.join(results_dir, files[0]), sep='~')\n",
    "df2 = pd.read_csv(os.path.join(results_dir, files[1]), sep='~')\n",
    "df3 = pd.read_csv(os.path.join(results_dir, files[2]), sep='~')\n",
    "human_df = pd.read_csv(os.path.join(results_dir, \"human_vad.txt\"), sep='~')"
   ]
  },
  {
   "cell_type": "markdown",
   "metadata": {},
   "source": [
    "### set vad metrics you want to look at. Lee et al are concerned with \"diff\" "
   ]
  },
  {
   "cell_type": "code",
   "execution_count": 37,
   "metadata": {},
   "outputs": [
    {
     "data": {
      "text/plain": [
       "['diff_max_v',\n",
       " 'diff_mean_v',\n",
       " 'diff_max_a',\n",
       " 'diff_mean_a',\n",
       " 'diff_max_d',\n",
       " 'diff_mean_d',\n",
       " 'diff_max_intensity']"
      ]
     },
     "execution_count": 37,
     "metadata": {},
     "output_type": "execute_result"
    }
   ],
   "source": [
    "vad_metrics = list(human_df.columns[6:])\n",
    "\n",
    "# filtering to the diff ones\n",
    "vad_metrics = [vm for vm in vad_metrics if \"diff\" in vm]\n",
    "vad_metrics"
   ]
  },
  {
   "cell_type": "code",
   "execution_count": 38,
   "metadata": {},
   "outputs": [
    {
     "data": {
      "text/html": [
       "<div>\n",
       "<style scoped>\n",
       "    .dataframe tbody tr th:only-of-type {\n",
       "        vertical-align: middle;\n",
       "    }\n",
       "\n",
       "    .dataframe tbody tr th {\n",
       "        vertical-align: top;\n",
       "    }\n",
       "\n",
       "    .dataframe thead th {\n",
       "        text-align: right;\n",
       "    }\n",
       "</style>\n",
       "<table border=\"1\" class=\"dataframe\">\n",
       "  <thead>\n",
       "    <tr style=\"text-align: right;\">\n",
       "      <th></th>\n",
       "      <th>df1</th>\n",
       "      <th>df2</th>\n",
       "      <th>df3</th>\n",
       "      <th>df4</th>\n",
       "    </tr>\n",
       "  </thead>\n",
       "  <tbody>\n",
       "    <tr>\n",
       "      <th>0</th>\n",
       "      <td>-0.295</td>\n",
       "      <td>0.449</td>\n",
       "      <td>-0.295</td>\n",
       "      <td>-0.159</td>\n",
       "    </tr>\n",
       "    <tr>\n",
       "      <th>1</th>\n",
       "      <td>-0.427</td>\n",
       "      <td>-0.334</td>\n",
       "      <td>-0.354</td>\n",
       "      <td>-0.427</td>\n",
       "    </tr>\n",
       "    <tr>\n",
       "      <th>2</th>\n",
       "      <td>0.002</td>\n",
       "      <td>-0.039</td>\n",
       "      <td>-0.029</td>\n",
       "      <td>0.057</td>\n",
       "    </tr>\n",
       "    <tr>\n",
       "      <th>3</th>\n",
       "      <td>0.000</td>\n",
       "      <td>-0.223</td>\n",
       "      <td>-0.076</td>\n",
       "      <td>-0.117</td>\n",
       "    </tr>\n",
       "    <tr>\n",
       "      <th>4</th>\n",
       "      <td>0.010</td>\n",
       "      <td>0.011</td>\n",
       "      <td>0.009</td>\n",
       "      <td>0.009</td>\n",
       "    </tr>\n",
       "    <tr>\n",
       "      <th>...</th>\n",
       "      <td>...</td>\n",
       "      <td>...</td>\n",
       "      <td>...</td>\n",
       "      <td>...</td>\n",
       "    </tr>\n",
       "    <tr>\n",
       "      <th>2535</th>\n",
       "      <td>-0.104</td>\n",
       "      <td>-0.065</td>\n",
       "      <td>0.063</td>\n",
       "      <td>-0.115</td>\n",
       "    </tr>\n",
       "    <tr>\n",
       "      <th>2536</th>\n",
       "      <td>-0.118</td>\n",
       "      <td>0.060</td>\n",
       "      <td>-0.007</td>\n",
       "      <td>0.063</td>\n",
       "    </tr>\n",
       "    <tr>\n",
       "      <th>2537</th>\n",
       "      <td>-0.229</td>\n",
       "      <td>0.028</td>\n",
       "      <td>-0.180</td>\n",
       "      <td>-0.146</td>\n",
       "    </tr>\n",
       "    <tr>\n",
       "      <th>2538</th>\n",
       "      <td>-0.823</td>\n",
       "      <td>-0.672</td>\n",
       "      <td>-0.656</td>\n",
       "      <td>-0.786</td>\n",
       "    </tr>\n",
       "    <tr>\n",
       "      <th>2539</th>\n",
       "      <td>0.060</td>\n",
       "      <td>0.201</td>\n",
       "      <td>0.060</td>\n",
       "      <td>0.040</td>\n",
       "    </tr>\n",
       "  </tbody>\n",
       "</table>\n",
       "<p>2540 rows × 4 columns</p>\n",
       "</div>"
      ],
      "text/plain": [
       "        df1    df2    df3    df4\n",
       "0    -0.295  0.449 -0.295 -0.159\n",
       "1    -0.427 -0.334 -0.354 -0.427\n",
       "2     0.002 -0.039 -0.029  0.057\n",
       "3     0.000 -0.223 -0.076 -0.117\n",
       "4     0.010  0.011  0.009  0.009\n",
       "...     ...    ...    ...    ...\n",
       "2535 -0.104 -0.065  0.063 -0.115\n",
       "2536 -0.118  0.060 -0.007  0.063\n",
       "2537 -0.229  0.028 -0.180 -0.146\n",
       "2538 -0.823 -0.672 -0.656 -0.786\n",
       "2539  0.060  0.201  0.060  0.040\n",
       "\n",
       "[2540 rows x 4 columns]"
      ]
     },
     "execution_count": 38,
     "metadata": {},
     "output_type": "execute_result"
    }
   ],
   "source": [
    "df_collection = {}\n",
    "\n",
    "for metric in vad_metrics:\n",
    "    df_collection[metric] = pd.concat([df[[metric]].rename(columns={metric:f\"df{i+1}\"}) for i, df in enumerate([df1,df2,df3,human_df])], axis=1)\n",
    "df_collection['diff_max_v']"
   ]
  },
  {
   "cell_type": "code",
   "execution_count": 39,
   "metadata": {},
   "outputs": [],
   "source": [
    "if USE_ABSOLUTE:\n",
    "    for metric, df in df_collection.items():\n",
    "        df_collection[metric] = df.abs()"
   ]
  },
  {
   "cell_type": "code",
   "execution_count": 40,
   "metadata": {},
   "outputs": [
    {
     "name": "stdout",
     "output_type": "stream",
     "text": [
      "Variance\n",
      "+--------------------+-------+-------+-------+-------+---------------------+\n",
      "| metric             |   df1 |   df2 |   df3 |   df4 |   max var dominance |\n",
      "+====================+=======+=======+=======+=======+=====================+\n",
      "| diff_max_v         | 0.041 | 0.043 | 0.025 | 0.052 |               2.102 |\n",
      "| diff_mean_v        | 0.010 | 0.009 | 0.006 | 0.011 |               1.841 |\n",
      "| diff_max_a         | 0.052 | 0.046 | 0.033 | 0.054 |               1.627 |\n",
      "| diff_mean_a        | 0.005 | 0.005 | 0.003 | 0.006 |               1.685 |\n",
      "| diff_max_d         | 0.031 | 0.033 | 0.023 | 0.041 |               1.748 |\n",
      "| diff_mean_d        | 0.007 | 0.006 | 0.004 | 0.007 |               1.667 |\n",
      "| diff_max_intensity | 0.148 | 0.129 | 0.092 | 0.139 |               1.607 |\n",
      "+--------------------+-------+-------+-------+-------+---------------------+\n"
     ]
    }
   ],
   "source": [
    "from tabulate import tabulate\n",
    "\n",
    "print(\"Variance\")\n",
    "variance_table = defaultdict(lambda:[])\n",
    "\n",
    "for metric, df in df_collection.items():\n",
    "    metric_variance = df.var()\n",
    "\n",
    "    variance_table['metric'].append(metric)\n",
    "    for k,v in metric_variance.items():\n",
    "        variance_table[k].append(v)\n",
    "    \n",
    "variance_table = pd.DataFrame(variance_table)\n",
    "variance_table['max var dominance'] = variance_table[['df1','df2','df3','df4']].max(axis=1, numeric_only=True) / variance_table[['df1','df2','df3','df4']].min(axis=1, numeric_only=True)\n",
    "print(tabulate(variance_table, headers=variance_table.columns, floatfmt=\".3f\", showindex=False, tablefmt='outline'))"
   ]
  },
  {
   "cell_type": "code",
   "execution_count": 41,
   "metadata": {},
   "outputs": [
    {
     "name": "stdout",
     "output_type": "stream",
     "text": [
      "Mean\n",
      "+--------------------+--------+--------+--------+--------+\n",
      "| metric             |    df1 |    df2 |    df3 |    df4 |\n",
      "+====================+========+========+========+========+\n",
      "| diff_max_v         | -0.047 | -0.011 | -0.091 | -0.000 |\n",
      "| diff_mean_v        | -0.052 | -0.032 | -0.065 | -0.035 |\n",
      "| diff_max_a         |  0.032 |  0.010 | -0.082 |  0.024 |\n",
      "| diff_mean_a        | -0.019 | -0.021 | -0.035 | -0.019 |\n",
      "| diff_max_d         | -0.026 |  0.005 | -0.091 |  0.006 |\n",
      "| diff_mean_d        | -0.040 | -0.025 | -0.048 | -0.026 |\n",
      "| diff_max_intensity |  0.014 |  0.037 | -0.136 |  0.025 |\n",
      "+--------------------+--------+--------+--------+--------+\n"
     ]
    }
   ],
   "source": [
    "print(\"Mean\")\n",
    "mean_table = defaultdict(lambda:[])\n",
    "\n",
    "for metric, df in df_collection.items():\n",
    "    metric_mean = df.mean()\n",
    "\n",
    "    mean_table['metric'].append(metric)\n",
    "    for k,v in metric_mean.items():\n",
    "        mean_table[k].append(v)\n",
    "    \n",
    "mean_table = pd.DataFrame(mean_table)\n",
    "# mean_table['max var dominance'] = mean_table[['df1','df2','df3','df4']].max(axis=1, numeric_only=True) / mean_table[['df1','df2','df3','df4']].min(axis=1, numeric_only=True)\n",
    "print(tabulate(mean_table, headers=mean_table.columns, floatfmt=\".3f\", showindex=False, tablefmt='outline'))"
   ]
  },
  {
   "cell_type": "code",
   "execution_count": 42,
   "metadata": {},
   "outputs": [
    {
     "name": "stdout",
     "output_type": "stream",
     "text": [
      "Mean+STD\n",
      "+--------------------+--------------+--------------+--------------+--------------+\n",
      "| metric             | df1          | df2          | df3          | df4          |\n",
      "+====================+==============+==============+==============+==============+\n",
      "| diff_max_v         | -0.05\\pm0.20 | -0.01\\pm0.21 | -0.09\\pm0.16 | -0.00\\pm0.23 |\n",
      "| diff_max_a         | 0.03\\pm0.23  | 0.01\\pm0.21  | -0.08\\pm0.18 | 0.02\\pm0.23  |\n",
      "| diff_max_d         | -0.03\\pm0.18 | 0.00\\pm0.18  | -0.09\\pm0.15 | 0.01\\pm0.20  |\n",
      "| diff_max_intensity | 0.01\\pm0.38  | 0.04\\pm0.36  | -0.14\\pm0.30 | 0.02\\pm0.37  |\n",
      "+--------------------+--------------+--------------+--------------+--------------+\n"
     ]
    }
   ],
   "source": [
    "print(\"Mean+STD\")\n",
    "mean_table = defaultdict(lambda:[])\n",
    "\n",
    "for metric, df in df_collection.items():\n",
    "    metric_mean = df.mean()\n",
    "    metric_std = df.std()\n",
    "    if 'mean' in metric:\n",
    "        continue\n",
    "\n",
    "    mean_table['metric'].append(metric)\n",
    "    for k,v in metric_mean.items():\n",
    "        std = df[k].std()\n",
    "        table_entry = f\"{v:.2f}\\pm{std:.2f}\"\n",
    "        mean_table[k].append(table_entry)\n",
    "    \n",
    "mean_table = pd.DataFrame(mean_table)\n",
    "# mean_table['max var dominance'] = mean_table[['df1','df2','df3','df4']].max(axis=1, numeric_only=True) / mean_table[['df1','df2','df3','df4']].min(axis=1, numeric_only=True)\n",
    "print(tabulate(mean_table, headers=mean_table.columns, floatfmt=\".2f\", showindex=False, tablefmt='outline'))"
   ]
  },
  {
   "cell_type": "code",
   "execution_count": 43,
   "metadata": {},
   "outputs": [
    {
     "data": {
      "text/html": [
       "<div>\n",
       "<style scoped>\n",
       "    .dataframe tbody tr th:only-of-type {\n",
       "        vertical-align: middle;\n",
       "    }\n",
       "\n",
       "    .dataframe tbody tr th {\n",
       "        vertical-align: top;\n",
       "    }\n",
       "\n",
       "    .dataframe thead th {\n",
       "        text-align: right;\n",
       "    }\n",
       "</style>\n",
       "<table border=\"1\" class=\"dataframe\">\n",
       "  <thead>\n",
       "    <tr style=\"text-align: right;\">\n",
       "      <th></th>\n",
       "      <th>0</th>\n",
       "      <th>1</th>\n",
       "      <th>2</th>\n",
       "      <th>3</th>\n",
       "    </tr>\n",
       "  </thead>\n",
       "  <tbody>\n",
       "    <tr>\n",
       "      <th>metric</th>\n",
       "      <td>diff_max_v</td>\n",
       "      <td>diff_max_a</td>\n",
       "      <td>diff_max_d</td>\n",
       "      <td>diff_max_intensity</td>\n",
       "    </tr>\n",
       "    <tr>\n",
       "      <th>df1</th>\n",
       "      <td>-0.05\\pm0.20</td>\n",
       "      <td>0.03\\pm0.23</td>\n",
       "      <td>-0.03\\pm0.18</td>\n",
       "      <td>0.01\\pm0.38</td>\n",
       "    </tr>\n",
       "    <tr>\n",
       "      <th>df2</th>\n",
       "      <td>-0.01\\pm0.21</td>\n",
       "      <td>0.01\\pm0.21</td>\n",
       "      <td>0.00\\pm0.18</td>\n",
       "      <td>0.04\\pm0.36</td>\n",
       "    </tr>\n",
       "    <tr>\n",
       "      <th>df3</th>\n",
       "      <td>-0.09\\pm0.16</td>\n",
       "      <td>-0.08\\pm0.18</td>\n",
       "      <td>-0.09\\pm0.15</td>\n",
       "      <td>-0.14\\pm0.30</td>\n",
       "    </tr>\n",
       "    <tr>\n",
       "      <th>df4</th>\n",
       "      <td>-0.00\\pm0.23</td>\n",
       "      <td>0.02\\pm0.23</td>\n",
       "      <td>0.01\\pm0.20</td>\n",
       "      <td>0.02\\pm0.37</td>\n",
       "    </tr>\n",
       "  </tbody>\n",
       "</table>\n",
       "</div>"
      ],
      "text/plain": [
       "                   0             1             2                   3\n",
       "metric    diff_max_v    diff_max_a    diff_max_d  diff_max_intensity\n",
       "df1     -0.05\\pm0.20   0.03\\pm0.23  -0.03\\pm0.18         0.01\\pm0.38\n",
       "df2     -0.01\\pm0.21   0.01\\pm0.21   0.00\\pm0.18         0.04\\pm0.36\n",
       "df3     -0.09\\pm0.16  -0.08\\pm0.18  -0.09\\pm0.15        -0.14\\pm0.30\n",
       "df4     -0.00\\pm0.23   0.02\\pm0.23   0.01\\pm0.20         0.02\\pm0.37"
      ]
     },
     "execution_count": 43,
     "metadata": {},
     "output_type": "execute_result"
    }
   ],
   "source": [
    "mean_table.T"
   ]
  },
  {
   "cell_type": "code",
   "execution_count": 12,
   "metadata": {},
   "outputs": [
    {
     "data": {
      "text/plain": [
       "0.2551127547574506"
      ]
     },
     "execution_count": 12,
     "metadata": {},
     "output_type": "execute_result"
    }
   ],
   "source": [
    "df['df1'].std()"
   ]
  },
  {
   "cell_type": "code",
   "execution_count": 10,
   "metadata": {},
   "outputs": [
    {
     "data": {
      "text/plain": [
       "df1    0.255113\n",
       "df2    0.239498\n",
       "df3    0.226604\n",
       "df4    0.246856\n",
       "dtype: float64"
      ]
     },
     "execution_count": 10,
     "metadata": {},
     "output_type": "execute_result"
    }
   ],
   "source": [
    "metric_std"
   ]
  },
  {
   "cell_type": "code",
   "execution_count": 8,
   "metadata": {},
   "outputs": [
    {
     "name": "stdout",
     "output_type": "stream",
     "text": [
      "Median\n",
      "+--------------------+-------+-------+-------+-------+\n",
      "| metric             |   df1 |   df2 |   df3 |   df4 |\n",
      "+====================+=======+=======+=======+=======+\n",
      "| diff_max_v         | 0.084 | 0.083 | 0.070 | 0.084 |\n",
      "| diff_mean_v        | 0.073 | 0.065 | 0.072 | 0.069 |\n",
      "| diff_max_a         | 0.145 | 0.128 | 0.115 | 0.138 |\n",
      "| diff_mean_a        | 0.044 | 0.045 | 0.046 | 0.047 |\n",
      "| diff_max_d         | 0.089 | 0.096 | 0.095 | 0.106 |\n",
      "| diff_mean_d        | 0.059 | 0.053 | 0.056 | 0.055 |\n",
      "| diff_max_intensity | 0.196 | 0.196 | 0.164 | 0.203 |\n",
      "+--------------------+-------+-------+-------+-------+\n"
     ]
    }
   ],
   "source": [
    "print(\"Median\")\n",
    "median_table = defaultdict(lambda:[])\n",
    "\n",
    "for metric, df in df_collection.items():\n",
    "    metric_median = df.median()\n",
    "\n",
    "    median_table['metric'].append(metric)\n",
    "    for k,v in metric_median.items():\n",
    "        median_table[k].append(v)\n",
    "    \n",
    "median_table = pd.DataFrame(median_table)\n",
    "# median_table['max var dominance'] = median_table[['df1','df2','df3','df4']].max(axis=1, numeric_only=True) / median_table[['df1','df2','df3','df4']].min(axis=1, numeric_only=True)\n",
    "print(tabulate(median_table, headers=median_table.columns, floatfmt=\".3f\", showindex=False, tablefmt='outline'))"
   ]
  },
  {
   "cell_type": "code",
   "execution_count": 9,
   "metadata": {},
   "outputs": [
    {
     "name": "stdout",
     "output_type": "stream",
     "text": [
      "Std\n",
      "+--------------------+-------+-------+-------+-------+\n",
      "| metric             |   df1 |   df2 |   df3 |   df4 |\n",
      "+====================+=======+=======+=======+=======+\n",
      "| diff_max_v         | 0.160 | 0.159 | 0.142 | 0.178 |\n",
      "| diff_mean_v        | 0.069 | 0.062 | 0.059 | 0.070 |\n",
      "| diff_max_a         | 0.148 | 0.142 | 0.133 | 0.154 |\n",
      "| diff_mean_a        | 0.048 | 0.047 | 0.042 | 0.051 |\n",
      "| diff_max_d         | 0.126 | 0.128 | 0.125 | 0.143 |\n",
      "| diff_mean_d        | 0.057 | 0.052 | 0.050 | 0.058 |\n",
      "| diff_max_intensity | 0.255 | 0.239 | 0.227 | 0.247 |\n",
      "+--------------------+-------+-------+-------+-------+\n"
     ]
    }
   ],
   "source": [
    "print(\"Std\")\n",
    "std_table = defaultdict(lambda:[])\n",
    "\n",
    "for metric, df in df_collection.items():\n",
    "    metric_std = df.std()\n",
    "\n",
    "    std_table['metric'].append(metric)\n",
    "    for k,v in metric_std.items():\n",
    "        std_table[k].append(v)\n",
    "    \n",
    "std_table = pd.DataFrame(std_table)\n",
    "# std_table['max var dominance'] = std_table[['df1','df2','df3','df4']].max(axis=1, numeric_only=True) / std_table[['df1','df2','df3','df4']].min(axis=1, numeric_only=True)\n",
    "print(tabulate(std_table, headers=std_table.columns, floatfmt=\".3f\", showindex=False, tablefmt='outline'))"
   ]
  },
  {
   "cell_type": "markdown",
   "metadata": {},
   "source": [
    "### Sig test, model v human"
   ]
  },
  {
   "cell_type": "code",
   "execution_count": 10,
   "metadata": {},
   "outputs": [
    {
     "data": {
      "text/html": [
       "<div>\n",
       "<style scoped>\n",
       "    .dataframe tbody tr th:only-of-type {\n",
       "        vertical-align: middle;\n",
       "    }\n",
       "\n",
       "    .dataframe tbody tr th {\n",
       "        vertical-align: top;\n",
       "    }\n",
       "\n",
       "    .dataframe thead th {\n",
       "        text-align: right;\n",
       "    }\n",
       "</style>\n",
       "<table border=\"1\" class=\"dataframe\">\n",
       "  <thead>\n",
       "    <tr style=\"text-align: right;\">\n",
       "      <th></th>\n",
       "      <th>df1</th>\n",
       "      <th>df2</th>\n",
       "      <th>df3</th>\n",
       "      <th>df4</th>\n",
       "    </tr>\n",
       "  </thead>\n",
       "  <tbody>\n",
       "    <tr>\n",
       "      <th>0</th>\n",
       "      <td>0.021</td>\n",
       "      <td>0.667</td>\n",
       "      <td>0.114</td>\n",
       "      <td>0.058</td>\n",
       "    </tr>\n",
       "    <tr>\n",
       "      <th>1</th>\n",
       "      <td>0.438</td>\n",
       "      <td>0.547</td>\n",
       "      <td>0.484</td>\n",
       "      <td>0.438</td>\n",
       "    </tr>\n",
       "    <tr>\n",
       "      <th>2</th>\n",
       "      <td>0.055</td>\n",
       "      <td>0.125</td>\n",
       "      <td>0.070</td>\n",
       "      <td>0.195</td>\n",
       "    </tr>\n",
       "    <tr>\n",
       "      <th>3</th>\n",
       "      <td>0.000</td>\n",
       "      <td>0.206</td>\n",
       "      <td>0.315</td>\n",
       "      <td>0.061</td>\n",
       "    </tr>\n",
       "    <tr>\n",
       "      <th>4</th>\n",
       "      <td>0.195</td>\n",
       "      <td>0.875</td>\n",
       "      <td>0.316</td>\n",
       "      <td>0.336</td>\n",
       "    </tr>\n",
       "    <tr>\n",
       "      <th>...</th>\n",
       "      <td>...</td>\n",
       "      <td>...</td>\n",
       "      <td>...</td>\n",
       "      <td>...</td>\n",
       "    </tr>\n",
       "    <tr>\n",
       "      <th>2535</th>\n",
       "      <td>0.680</td>\n",
       "      <td>0.531</td>\n",
       "      <td>0.203</td>\n",
       "      <td>0.617</td>\n",
       "    </tr>\n",
       "    <tr>\n",
       "      <th>2536</th>\n",
       "      <td>0.500</td>\n",
       "      <td>0.297</td>\n",
       "      <td>0.352</td>\n",
       "      <td>0.281</td>\n",
       "    </tr>\n",
       "    <tr>\n",
       "      <th>2537</th>\n",
       "      <td>0.680</td>\n",
       "      <td>0.000</td>\n",
       "      <td>0.469</td>\n",
       "      <td>0.609</td>\n",
       "    </tr>\n",
       "    <tr>\n",
       "      <th>2538</th>\n",
       "      <td>0.047</td>\n",
       "      <td>0.030</td>\n",
       "      <td>0.727</td>\n",
       "      <td>0.133</td>\n",
       "    </tr>\n",
       "    <tr>\n",
       "      <th>2539</th>\n",
       "      <td>0.000</td>\n",
       "      <td>0.212</td>\n",
       "      <td>0.000</td>\n",
       "      <td>0.641</td>\n",
       "    </tr>\n",
       "  </tbody>\n",
       "</table>\n",
       "<p>2540 rows × 4 columns</p>\n",
       "</div>"
      ],
      "text/plain": [
       "        df1    df2    df3    df4\n",
       "0     0.021  0.667  0.114  0.058\n",
       "1     0.438  0.547  0.484  0.438\n",
       "2     0.055  0.125  0.070  0.195\n",
       "3     0.000  0.206  0.315  0.061\n",
       "4     0.195  0.875  0.316  0.336\n",
       "...     ...    ...    ...    ...\n",
       "2535  0.680  0.531  0.203  0.617\n",
       "2536  0.500  0.297  0.352  0.281\n",
       "2537  0.680  0.000  0.469  0.609\n",
       "2538  0.047  0.030  0.727  0.133\n",
       "2539  0.000  0.212  0.000  0.641\n",
       "\n",
       "[2540 rows x 4 columns]"
      ]
     },
     "execution_count": 10,
     "metadata": {},
     "output_type": "execute_result"
    }
   ],
   "source": [
    "df"
   ]
  },
  {
   "cell_type": "code",
   "execution_count": 13,
   "metadata": {},
   "outputs": [
    {
     "name": "stdout",
     "output_type": "stream",
     "text": [
      "Model vs. human significance test\n"
     ]
    },
    {
     "name": "stderr",
     "output_type": "stream",
     "text": [
      "Running sig tests: 100%|██████████| 7/7 [00:29<00:00,  4.21s/it]"
     ]
    },
    {
     "name": "stdout",
     "output_type": "stream",
     "text": [
      "+---------+--------------+---------------+--------------+---------------+--------------+---------------+----------------------+\n",
      "| model   |   diff_max_v |   diff_mean_v |   diff_max_a |   diff_mean_a |   diff_max_d |   diff_mean_d |   diff_max_intensity |\n",
      "+=========+==============+===============+==============+===============+==============+===============+======================+\n",
      "| df1     |       -1.946 |         1.714 |        0.238 |        -2.573 |       -4.398 |         1.356 |                0.988 |\n",
      "| df2     |       -2.374 |        -3.549 |       -3.679 |        -1.938 |       -3.510 |        -3.389 |               -1.576 |\n",
      "| df3     |       -6.365 |        -1.714 |       -6.704 |        -3.943 |       -4.255 |        -2.166 |               -5.671 |\n",
      "+---------+--------------+---------------+--------------+---------------+--------------+---------------+----------------------+\n",
      "+---------+--------------+---------------+--------------+---------------+--------------+---------------+----------------------+\n",
      "| model   |   diff_max_v |   diff_mean_v |   diff_max_a |   diff_mean_a |   diff_max_d |   diff_mean_d |   diff_max_intensity |\n",
      "+=========+==============+===============+==============+===============+==============+===============+======================+\n",
      "| df1     |      0.05099 |       0.08709 |      0.81142 |       0.01050 |      0.00010 |       0.17108 |              0.32567 |\n",
      "| df2     |      0.01880 |       0.00040 |      0.00040 |       0.05319 |      0.00040 |       0.00060 |              0.11249 |\n",
      "| df3     |      0.00010 |       0.08319 |      0.00010 |       0.00010 |      0.00010 |       0.02900 |              0.00010 |\n",
      "+---------+--------------+---------------+--------------+---------------+--------------+---------------+----------------------+\n"
     ]
    },
    {
     "name": "stderr",
     "output_type": "stream",
     "text": [
      "\n"
     ]
    }
   ],
   "source": [
    "from tqdm import tqdm\n",
    "\n",
    "print(\"Model vs. human significance test\")\n",
    "sig_thresh = 1\n",
    "sig_table = defaultdict(lambda:[])\n",
    "pval_table = defaultdict(lambda:[])\n",
    "sig_table['model'] = ['df1', 'df2', 'df3']\n",
    "pval_table['model'] = ['df1', 'df2', 'df3']\n",
    "\n",
    "for metric, df in tqdm(df_collection.items(), desc='Running sig tests', total=len(df_collection)):\n",
    "\n",
    "    for model in ['df1', 'df2', 'df3']:\n",
    "        \n",
    "        res = stats.ttest_ind(df[model], df['df4'], equal_var=False, permutations=10000, random_state=34)\n",
    "        if res.pvalue <= sig_thresh:\n",
    "            sig_table[metric].append(res.statistic)\n",
    "        else:\n",
    "            sig_table[metric].append(None)\n",
    "        pval_table[metric].append(res.pvalue)\n",
    "\n",
    "      \n",
    "sig_table = pd.DataFrame(sig_table)\n",
    "pval_table = pd.DataFrame(pval_table)\n",
    "# sig_table['max var dominance'] = sig_table[['df1','df2','df3','df4']].max(axis=1, numeric_only=True) / sig_table[['df1','df2','df3','df4']].min(axis=1, numeric_only=True)\n",
    "print(tabulate(sig_table, headers=sig_table.columns, floatfmt=\".3f\", showindex=False, tablefmt='outline'))\n",
    "print(tabulate(pval_table, headers=pval_table.columns, floatfmt=\".5f\", showindex=False, tablefmt='outline'))"
   ]
  },
  {
   "cell_type": "code",
   "execution_count": 16,
   "metadata": {},
   "outputs": [
    {
     "name": "stdout",
     "output_type": "stream",
     "text": [
      "Model vs. human significance test\n"
     ]
    },
    {
     "name": "stderr",
     "output_type": "stream",
     "text": [
      "Running sig tests: 100%|██████████| 7/7 [00:55<00:00,  7.88s/it]"
     ]
    },
    {
     "name": "stdout",
     "output_type": "stream",
     "text": [
      "+-------------+--------------+---------------+--------------+---------------+--------------+---------------+----------------------+\n",
      "| pair        |   diff_max_v |   diff_mean_v |   diff_max_a |   diff_mean_a | diff_max_d   |   diff_mean_d |   diff_max_intensity |\n",
      "+=============+==============+===============+==============+===============+==============+===============+======================+\n",
      "| df1 vs. df2 |      nan     |         5.409 |        4.006 |       nan     |              |         4.850 |                2.552 |\n",
      "| df1 vs. df3 |        4.613 |         3.592 |        7.113 |       nan     |              |         3.640 |                6.598 |\n",
      "| df2 vs. df1 |      nan     |        -5.409 |       -4.006 |       nan     |              |        -4.850 |               -2.552 |\n",
      "| df2 vs. df3 |        4.144 |        -2.045 |        3.044 |         2.011 |              |       nan     |                4.120 |\n",
      "| df3 vs. df1 |       -4.613 |        -3.592 |       -7.113 |       nan     |              |        -3.640 |               -6.598 |\n",
      "| df3 vs. df2 |       -4.144 |         2.045 |       -3.044 |        -2.011 |              |       nan     |               -4.120 |\n",
      "+-------------+--------------+---------------+--------------+---------------+--------------+---------------+----------------------+\n",
      "+-------------+--------------+---------------+--------------+---------------+--------------+---------------+----------------------+\n",
      "| pair        |   diff_max_v |   diff_mean_v |   diff_max_a |   diff_mean_a |   diff_max_d |   diff_mean_d |   diff_max_intensity |\n",
      "+=============+==============+===============+==============+===============+==============+===============+======================+\n",
      "| df1 vs. df2 |      0.64554 |       0.00010 |      0.00010 |       0.49785 |      0.35906 |       0.00010 |              0.01000 |\n",
      "| df1 vs. df3 |      0.00010 |       0.00060 |      0.00010 |       0.21158 |      0.86291 |       0.00060 |              0.00010 |\n",
      "| df2 vs. df1 |      0.65263 |       0.00010 |      0.00010 |       0.49205 |      0.34807 |       0.00010 |              0.01090 |\n",
      "| df2 vs. df3 |      0.00030 |       0.03870 |      0.00330 |       0.04330 |      0.44046 |       0.16988 |              0.00020 |\n",
      "| df3 vs. df1 |      0.00010 |       0.00010 |      0.00010 |       0.20698 |      0.86051 |       0.00030 |              0.00010 |\n",
      "| df3 vs. df2 |      0.00010 |       0.04290 |      0.00210 |       0.04500 |      0.46365 |       0.17568 |              0.00010 |\n",
      "+-------------+--------------+---------------+--------------+---------------+--------------+---------------+----------------------+\n"
     ]
    },
    {
     "name": "stderr",
     "output_type": "stream",
     "text": [
      "\n"
     ]
    }
   ],
   "source": [
    "from tqdm import tqdm\n",
    "\n",
    "print(\"Model vs. human significance test\")\n",
    "sig_thresh = .05\n",
    "sig_table = defaultdict(lambda:[])\n",
    "pval_table = defaultdict(lambda:[])\n",
    "# sig_table['model'] = ['df1', 'df2', 'df3']\n",
    "# pval_table['model'] = ['df1', 'df2', 'df3']\n",
    "\n",
    "for metric, df in tqdm(df_collection.items(), desc='Running sig tests', total=len(df_collection)):\n",
    "\n",
    "    for model in ['df1', 'df2', 'df3']:\n",
    "        for model2 in ['df1', 'df2', 'df3']:\n",
    "            if model == model2:\n",
    "                continue\n",
    "            if f\"{model} vs. {model2}\" not in sig_table['pair']:\n",
    "                sig_table['pair'].append(f\"{model} vs. {model2}\")\n",
    "                pval_table['pair'].append(f\"{model} vs. {model2}\")\n",
    "\n",
    "\n",
    "        \n",
    "            res = stats.ttest_ind(df[model], df[model2], equal_var=False, permutations=10000, random_state=34)\n",
    "            if res.pvalue <= sig_thresh:\n",
    "                sig_table[metric].append(res.statistic)\n",
    "            else:\n",
    "                sig_table[metric].append(None)\n",
    "            pval_table[metric].append(res.pvalue)\n",
    "\n",
    "      \n",
    "sig_table = pd.DataFrame(sig_table)\n",
    "pval_table = pd.DataFrame(pval_table)\n",
    "# sig_table['max var dominance'] = sig_table[['df1','df2','df3','df4']].max(axis=1, numeric_only=True) / sig_table[['df1','df2','df3','df4']].min(axis=1, numeric_only=True)\n",
    "print(tabulate(sig_table, headers=sig_table.columns, floatfmt=\".3f\", showindex=False, tablefmt='outline'))\n",
    "print(tabulate(pval_table, headers=pval_table.columns, floatfmt=\".5f\", showindex=False, tablefmt='outline'))"
   ]
  },
  {
   "cell_type": "markdown",
   "metadata": {},
   "source": [
    "+-------------+--------------+---------------+--------------+---------------+--------------+---------------+----------------------+\n",
    "| pair        |   diff_max_v |   diff_mean_v |   diff_max_a |   diff_mean_a |   diff_max_d |   diff_mean_d |   diff_max_intensity |\n",
    "+=============+==============+===============+==============+===============+==============+===============+======================+\n",
    "| df1 vs. df2 |        0.451 |         5.409 |        4.006 |        -0.690 |       -0.916 |         4.850 |                2.552 |\n",
    "| df1 vs. df3 |        4.613 |         3.592 |        7.113 |         1.254 |       -0.179 |         3.640 |                6.598 |\n",
    "| df2 vs. df3 |        4.144 |        -2.045 |        3.044 |         2.011 |        0.745 |        -1.361 |                4.120 |\n",
    "+-------------+--------------+---------------+--------------+---------------+--------------+---------------+----------------------+\n",
    "+-------------+--------------+---------------+--------------+---------------+--------------+---------------+----------------------+\n",
    "| pair        |   diff_max_v |   diff_mean_v |   diff_max_a |   diff_mean_a |   diff_max_d |   diff_mean_d |   diff_max_intensity |\n",
    "+=============+==============+===============+==============+===============+==============+===============+======================+\n",
    "| df1 vs. df2 |      0.64554 |       0.00010 |      0.00010 |       0.49785 |      0.35906 |       0.00010 |              0.01000 |\n",
    "| df1 vs. df3 |      0.00010 |       0.00060 |      0.00010 |       0.21158 |      0.86291 |       0.00060 |              0.00010 |\n",
    "| df2 vs. df3 |      0.00030 |       0.03870 |      0.00330 |       0.04330 |      0.44046 |       0.16988 |              0.00020 |\n",
    "+-------------+--------------+---------------+--------------+---------------+--------------+---------------+----------------------+"
   ]
  },
  {
   "cell_type": "code",
   "execution_count": 46,
   "metadata": {},
   "outputs": [
    {
     "data": {
      "text/plain": [
       "0.3173228346456693"
      ]
     },
     "execution_count": 46,
     "metadata": {},
     "output_type": "execute_result"
    }
   ],
   "source": [
    "2538/2540\n",
    "806/2540"
   ]
  },
  {
   "cell_type": "code",
   "execution_count": 45,
   "metadata": {},
   "outputs": [
    {
     "data": {
      "text/plain": [
       "0.1458105011457607"
      ]
     },
     "execution_count": 45,
     "metadata": {},
     "output_type": "execute_result"
    }
   ],
   "source": [
    "2927 / 20074"
   ]
  },
  {
   "cell_type": "code",
   "execution_count": 47,
   "metadata": {},
   "outputs": [
    {
     "data": {
      "text/plain": [
       "0.2209388576878245"
      ]
     },
     "execution_count": 47,
     "metadata": {},
     "output_type": "execute_result"
    }
   ],
   "source": [
    "2085 / 9437"
   ]
  },
  {
   "cell_type": "code",
   "execution_count": 48,
   "metadata": {},
   "outputs": [
    {
     "data": {
      "text/plain": [
       "0.9956692913385827"
      ]
     },
     "execution_count": 48,
     "metadata": {},
     "output_type": "execute_result"
    }
   ],
   "source": [
    "2529/2540"
   ]
  },
  {
   "cell_type": "code",
   "execution_count": 49,
   "metadata": {},
   "outputs": [
    {
     "data": {
      "text/plain": [
       "0.18359697386519944"
      ]
     },
     "execution_count": 49,
     "metadata": {},
     "output_type": "execute_result"
    }
   ],
   "source": [
    "5339 / 29080"
   ]
  },
  {
   "cell_type": "code",
   "execution_count": 50,
   "metadata": {},
   "outputs": [
    {
     "data": {
      "text/plain": [
       "0.3102362204724409"
      ]
     },
     "execution_count": 50,
     "metadata": {},
     "output_type": "execute_result"
    }
   ],
   "source": [
    "788/2540"
   ]
  }
 ],
 "metadata": {
  "kernelspec": {
   "display_name": "nlp",
   "language": "python",
   "name": "python3"
  },
  "language_info": {
   "codemirror_mode": {
    "name": "ipython",
    "version": 3
   },
   "file_extension": ".py",
   "mimetype": "text/x-python",
   "name": "python",
   "nbconvert_exporter": "python",
   "pygments_lexer": "ipython3",
   "version": "3.11.5"
  }
 },
 "nbformat": 4,
 "nbformat_minor": 2
}
