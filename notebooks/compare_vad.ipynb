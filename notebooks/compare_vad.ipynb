{
 "cells": [
  {
   "cell_type": "code",
   "execution_count": 15,
   "metadata": {},
   "outputs": [],
   "source": [
    "import pandas as pd\n",
    "import os\n",
    "from scipy import stats\n",
    "import numpy as np\n",
    "from collections import defaultdict\n",
    "\n",
    "\n",
    "USE_ABSOLUTE = True # this is because values closer to 0 are desired according to Lee et al\n",
    "\n",
    "results_dir = '../data/results/empathy_eval_results/'\n",
    "files = ['preds_dlrxxx_zephyr-7b-sft-full122_vad.txt', 'preds_dlr1e6_zephyr-7b-sft-full122_d211_vad.txt', 'preds_dlrxxx_zephyr-7b-sft-full_vad.txt', 'preds_dlr1e6_zephyr-7b-sft-full122_d230_vad.txt', 'preds_dlr1e6_zephyr-7b-sft-full122_d231_vad.txt', 'preds_dlrxxx30x_zephyr-7b-sft-full_vad.txt']"
   ]
  },
  {
   "cell_type": "code",
   "execution_count": 16,
   "metadata": {},
   "outputs": [],
   "source": [
    "df1 = pd.read_csv(os.path.join(results_dir, files[0]), sep='~')\n",
    "df2 = pd.read_csv(os.path.join(results_dir, files[1]), sep='~')\n",
    "df3 = pd.read_csv(os.path.join(results_dir, files[2]), sep='~')\n",
    "df5 = pd.read_csv(os.path.join(results_dir, files[3]), sep='~')\n",
    "df6 = pd.read_csv(os.path.join(results_dir, files[4]), sep='~')\n",
    "df7 = pd.read_csv(os.path.join(results_dir, files[5]), sep='~')\n",
    "human_df = pd.read_csv(os.path.join(results_dir, \"human_vad.txt\"), sep='~')"
   ]
  },
  {
   "cell_type": "markdown",
   "metadata": {},
   "source": [
    "### set vad metrics you want to look at. Lee et al are concerned with \"diff\" "
   ]
  },
  {
   "cell_type": "code",
   "execution_count": 29,
   "metadata": {},
   "outputs": [
    {
     "data": {
      "text/plain": [
       "['diff_max_v',\n",
       " 'diff_mean_v',\n",
       " 'diff_max_a',\n",
       " 'diff_mean_a',\n",
       " 'diff_max_d',\n",
       " 'diff_mean_d',\n",
       " 'diff_max_intensity']"
      ]
     },
     "execution_count": 29,
     "metadata": {},
     "output_type": "execute_result"
    }
   ],
   "source": [
    "vad_metrics = list(human_df.columns[6:])\n",
    "\n",
    "# filtering to the diff ones\n",
    "vad_metrics = [vm for vm in vad_metrics if \"diff\" in vm]\n",
    "vad_metrics"
   ]
  },
  {
   "cell_type": "code",
   "execution_count": 30,
   "metadata": {},
   "outputs": [],
   "source": [
    "vad_metrics = [vm for vm in vad_metrics if 'max' in vm]"
   ]
  },
  {
   "cell_type": "code",
   "execution_count": 32,
   "metadata": {},
   "outputs": [
    {
     "data": {
      "text/plain": [
       "['diff_max_v', 'diff_max_a', 'diff_max_d', 'diff_max_intensity']"
      ]
     },
     "execution_count": 32,
     "metadata": {},
     "output_type": "execute_result"
    }
   ],
   "source": [
    "vad_metrics"
   ]
  },
  {
   "cell_type": "code",
   "execution_count": 31,
   "metadata": {},
   "outputs": [
    {
     "data": {
      "text/html": [
       "<div>\n",
       "<style scoped>\n",
       "    .dataframe tbody tr th:only-of-type {\n",
       "        vertical-align: middle;\n",
       "    }\n",
       "\n",
       "    .dataframe tbody tr th {\n",
       "        vertical-align: top;\n",
       "    }\n",
       "\n",
       "    .dataframe thead th {\n",
       "        text-align: right;\n",
       "    }\n",
       "</style>\n",
       "<table border=\"1\" class=\"dataframe\">\n",
       "  <thead>\n",
       "    <tr style=\"text-align: right;\">\n",
       "      <th></th>\n",
       "      <th>df1</th>\n",
       "      <th>df2</th>\n",
       "      <th>df3</th>\n",
       "      <th>df4</th>\n",
       "      <th>df5</th>\n",
       "      <th>df6</th>\n",
       "      <th>df7</th>\n",
       "    </tr>\n",
       "  </thead>\n",
       "  <tbody>\n",
       "    <tr>\n",
       "      <th>0</th>\n",
       "      <td>-0.295</td>\n",
       "      <td>0.449</td>\n",
       "      <td>-0.295</td>\n",
       "      <td>-0.159</td>\n",
       "      <td>0.449</td>\n",
       "      <td>0.449</td>\n",
       "      <td>-0.295</td>\n",
       "    </tr>\n",
       "    <tr>\n",
       "      <th>1</th>\n",
       "      <td>-0.427</td>\n",
       "      <td>-0.334</td>\n",
       "      <td>-0.354</td>\n",
       "      <td>-0.427</td>\n",
       "      <td>-0.139</td>\n",
       "      <td>-0.334</td>\n",
       "      <td>-0.354</td>\n",
       "    </tr>\n",
       "    <tr>\n",
       "      <th>2</th>\n",
       "      <td>0.002</td>\n",
       "      <td>-0.039</td>\n",
       "      <td>-0.029</td>\n",
       "      <td>0.057</td>\n",
       "      <td>-0.039</td>\n",
       "      <td>-0.039</td>\n",
       "      <td>-0.029</td>\n",
       "    </tr>\n",
       "    <tr>\n",
       "      <th>3</th>\n",
       "      <td>0.000</td>\n",
       "      <td>-0.223</td>\n",
       "      <td>-0.076</td>\n",
       "      <td>-0.117</td>\n",
       "      <td>-0.223</td>\n",
       "      <td>-0.223</td>\n",
       "      <td>-0.076</td>\n",
       "    </tr>\n",
       "    <tr>\n",
       "      <th>4</th>\n",
       "      <td>0.010</td>\n",
       "      <td>0.011</td>\n",
       "      <td>0.009</td>\n",
       "      <td>0.009</td>\n",
       "      <td>0.011</td>\n",
       "      <td>0.011</td>\n",
       "      <td>0.009</td>\n",
       "    </tr>\n",
       "    <tr>\n",
       "      <th>...</th>\n",
       "      <td>...</td>\n",
       "      <td>...</td>\n",
       "      <td>...</td>\n",
       "      <td>...</td>\n",
       "      <td>...</td>\n",
       "      <td>...</td>\n",
       "      <td>...</td>\n",
       "    </tr>\n",
       "    <tr>\n",
       "      <th>2535</th>\n",
       "      <td>-0.104</td>\n",
       "      <td>-0.065</td>\n",
       "      <td>0.063</td>\n",
       "      <td>-0.115</td>\n",
       "      <td>-0.065</td>\n",
       "      <td>-0.115</td>\n",
       "      <td>0.063</td>\n",
       "    </tr>\n",
       "    <tr>\n",
       "      <th>2536</th>\n",
       "      <td>-0.118</td>\n",
       "      <td>0.060</td>\n",
       "      <td>-0.007</td>\n",
       "      <td>0.063</td>\n",
       "      <td>-0.013</td>\n",
       "      <td>-0.107</td>\n",
       "      <td>-0.118</td>\n",
       "    </tr>\n",
       "    <tr>\n",
       "      <th>2537</th>\n",
       "      <td>-0.229</td>\n",
       "      <td>0.028</td>\n",
       "      <td>-0.180</td>\n",
       "      <td>-0.146</td>\n",
       "      <td>-0.130</td>\n",
       "      <td>-0.130</td>\n",
       "      <td>-0.062</td>\n",
       "    </tr>\n",
       "    <tr>\n",
       "      <th>2538</th>\n",
       "      <td>-0.823</td>\n",
       "      <td>-0.672</td>\n",
       "      <td>-0.656</td>\n",
       "      <td>-0.786</td>\n",
       "      <td>-0.626</td>\n",
       "      <td>-0.626</td>\n",
       "      <td>-0.823</td>\n",
       "    </tr>\n",
       "    <tr>\n",
       "      <th>2539</th>\n",
       "      <td>0.060</td>\n",
       "      <td>0.201</td>\n",
       "      <td>0.060</td>\n",
       "      <td>0.040</td>\n",
       "      <td>0.201</td>\n",
       "      <td>0.201</td>\n",
       "      <td>0.060</td>\n",
       "    </tr>\n",
       "  </tbody>\n",
       "</table>\n",
       "<p>2540 rows × 7 columns</p>\n",
       "</div>"
      ],
      "text/plain": [
       "        df1    df2    df3    df4    df5    df6    df7\n",
       "0    -0.295  0.449 -0.295 -0.159  0.449  0.449 -0.295\n",
       "1    -0.427 -0.334 -0.354 -0.427 -0.139 -0.334 -0.354\n",
       "2     0.002 -0.039 -0.029  0.057 -0.039 -0.039 -0.029\n",
       "3     0.000 -0.223 -0.076 -0.117 -0.223 -0.223 -0.076\n",
       "4     0.010  0.011  0.009  0.009  0.011  0.011  0.009\n",
       "...     ...    ...    ...    ...    ...    ...    ...\n",
       "2535 -0.104 -0.065  0.063 -0.115 -0.065 -0.115  0.063\n",
       "2536 -0.118  0.060 -0.007  0.063 -0.013 -0.107 -0.118\n",
       "2537 -0.229  0.028 -0.180 -0.146 -0.130 -0.130 -0.062\n",
       "2538 -0.823 -0.672 -0.656 -0.786 -0.626 -0.626 -0.823\n",
       "2539  0.060  0.201  0.060  0.040  0.201  0.201  0.060\n",
       "\n",
       "[2540 rows x 7 columns]"
      ]
     },
     "execution_count": 31,
     "metadata": {},
     "output_type": "execute_result"
    }
   ],
   "source": [
    "df_collection = {}\n",
    "\n",
    "for metric in vad_metrics:\n",
    "    df_collection[metric] = pd.concat([df[[metric]].rename(columns={metric:f\"df{i+1}\"}) for i, df in enumerate([df1,df2,df3,human_df,df5,df6,df7])], axis=1)\n",
    "df_collection['diff_max_v']"
   ]
  },
  {
   "cell_type": "code",
   "execution_count": null,
   "metadata": {},
   "outputs": [],
   "source": [
    "for metric in df_collection:\n",
    "    df_collection[metric].to_csv(f\"{metric}.csv\")"
   ]
  },
  {
   "cell_type": "code",
   "execution_count": null,
   "metadata": {},
   "outputs": [],
   "source": []
  },
  {
   "cell_type": "code",
   "execution_count": 19,
   "metadata": {},
   "outputs": [],
   "source": [
    "if USE_ABSOLUTE:\n",
    "    for metric, df in df_collection.items():\n",
    "        df_collection[metric] = df.abs()"
   ]
  },
  {
   "cell_type": "code",
   "execution_count": 20,
   "metadata": {},
   "outputs": [
    {
     "name": "stdout",
     "output_type": "stream",
     "text": [
      "Variance\n",
      "+--------------------+-------+-------+-------+-------+-------+-------+-------+\n",
      "| metric             |   df1 |   df2 |   df3 |   df4 |   df5 |   df6 |   df7 |\n",
      "+====================+=======+=======+=======+=======+=======+=======+=======+\n",
      "| diff_max_v         | 0.025 | 0.025 | 0.020 | 0.032 | 0.027 | 0.025 | 0.021 |\n",
      "| diff_mean_v        | 0.005 | 0.004 | 0.003 | 0.005 | 0.004 | 0.004 | 0.004 |\n",
      "| diff_max_a         | 0.022 | 0.020 | 0.018 | 0.024 | 0.021 | 0.019 | 0.018 |\n",
      "| diff_mean_a        | 0.002 | 0.002 | 0.002 | 0.003 | 0.002 | 0.002 | 0.002 |\n",
      "| diff_max_d         | 0.016 | 0.016 | 0.016 | 0.021 | 0.017 | 0.015 | 0.015 |\n",
      "| diff_mean_d        | 0.003 | 0.003 | 0.002 | 0.003 | 0.003 | 0.003 | 0.003 |\n",
      "| diff_max_intensity | 0.065 | 0.057 | 0.051 | 0.061 | 0.057 | 0.058 | 0.057 |\n",
      "+--------------------+-------+-------+-------+-------+-------+-------+-------+\n"
     ]
    }
   ],
   "source": [
    "from tabulate import tabulate\n",
    "\n",
    "print(\"Variance\")\n",
    "variance_table = defaultdict(lambda:[])\n",
    "\n",
    "for metric, df in df_collection.items():\n",
    "    metric_variance = df.var()\n",
    "\n",
    "    variance_table['metric'].append(metric)\n",
    "    for k,v in metric_variance.items():\n",
    "        variance_table[k].append(v)\n",
    "    \n",
    "variance_table = pd.DataFrame(variance_table)\n",
    "# variance_table['max var dominance'] = variance_table[['df1','df2','df3','df4']].max(axis=1, numeric_only=True) / variance_table[['df1','df2','df3','df4']].min(axis=1, numeric_only=True)\n",
    "print(tabulate(variance_table, headers=variance_table.columns, floatfmt=\".3f\", showindex=False, tablefmt='outline'))"
   ]
  },
  {
   "cell_type": "code",
   "execution_count": 21,
   "metadata": {},
   "outputs": [
    {
     "data": {
      "text/plain": [
       "True"
      ]
     },
     "execution_count": 21,
     "metadata": {},
     "output_type": "execute_result"
    }
   ],
   "source": [
    "USE_ABSOLUTE"
   ]
  },
  {
   "cell_type": "code",
   "execution_count": 9,
   "metadata": {},
   "outputs": [
    {
     "name": "stdout",
     "output_type": "stream",
     "text": [
      "Mean\n",
      "+--------------------+-------+-------+-------+-------+-------+-------+-------+\n",
      "| metric             |   df1 |   df2 |   df3 |   df4 |   df5 |   df6 |   df7 |\n",
      "+====================+=======+=======+=======+=======+=======+=======+=======+\n",
      "| diff_max_v         | 0.133 | 0.131 | 0.114 | 0.143 | 0.135 | 0.132 | 0.117 |\n",
      "| diff_mean_v        | 0.089 | 0.079 | 0.082 | 0.085 | 0.081 | 0.080 | 0.087 |\n",
      "| diff_max_a         | 0.176 | 0.160 | 0.148 | 0.175 | 0.160 | 0.157 | 0.153 |\n",
      "| diff_mean_a        | 0.055 | 0.055 | 0.053 | 0.058 | 0.056 | 0.053 | 0.058 |\n",
      "| diff_max_d         | 0.126 | 0.130 | 0.127 | 0.143 | 0.129 | 0.125 | 0.126 |\n",
      "| diff_mean_d        | 0.071 | 0.064 | 0.066 | 0.069 | 0.065 | 0.063 | 0.070 |\n",
      "| diff_max_intensity | 0.288 | 0.270 | 0.243 | 0.281 | 0.263 | 0.260 | 0.259 |\n",
      "+--------------------+-------+-------+-------+-------+-------+-------+-------+\n"
     ]
    }
   ],
   "source": [
    "print(\"Mean\")\n",
    "mean_table = defaultdict(lambda:[])\n",
    "\n",
    "for metric, df in df_collection.items():\n",
    "    metric_mean = df.mean()\n",
    "\n",
    "    mean_table['metric'].append(metric)\n",
    "    for k,v in metric_mean.items():\n",
    "        mean_table[k].append(v)\n",
    "    \n",
    "mean_table = pd.DataFrame(mean_table)\n",
    "# mean_table['max var dominance'] = mean_table[['df1','df2','df3','df4']].max(axis=1, numeric_only=True) / mean_table[['df1','df2','df3','df4']].min(axis=1, numeric_only=True)\n",
    "print(tabulate(mean_table, headers=mean_table.columns, floatfmt=\".3f\", showindex=False, tablefmt='outline'))"
   ]
  },
  {
   "cell_type": "code",
   "execution_count": 22,
   "metadata": {},
   "outputs": [
    {
     "data": {
      "text/plain": [
       "df1    0.287967\n",
       "df2    0.270248\n",
       "df3    0.243297\n",
       "df4    0.281005\n",
       "df5    0.262707\n",
       "df6    0.259651\n",
       "df7    0.258708\n",
       "dtype: float64"
      ]
     },
     "execution_count": 22,
     "metadata": {},
     "output_type": "execute_result"
    }
   ],
   "source": [
    "metric_mean"
   ]
  },
  {
   "cell_type": "code",
   "execution_count": 23,
   "metadata": {},
   "outputs": [
    {
     "data": {
      "text/plain": [
       "'diff_max_intensity'"
      ]
     },
     "execution_count": 23,
     "metadata": {},
     "output_type": "execute_result"
    }
   ],
   "source": [
    "metric"
   ]
  },
  {
   "cell_type": "code",
   "execution_count": 24,
   "metadata": {},
   "outputs": [
    {
     "data": {
      "text/plain": [
       "df1    0.065083\n",
       "df2    0.057359\n",
       "df3    0.051349\n",
       "df4    0.060938\n",
       "df5    0.056595\n",
       "df6    0.057744\n",
       "df7    0.056719\n",
       "dtype: float64"
      ]
     },
     "execution_count": 24,
     "metadata": {},
     "output_type": "execute_result"
    }
   ],
   "source": [
    "df.var()"
   ]
  },
  {
   "cell_type": "code",
   "execution_count": 13,
   "metadata": {},
   "outputs": [
    {
     "data": {
      "text/plain": [
       "<Axes: >"
      ]
     },
     "execution_count": 13,
     "metadata": {},
     "output_type": "execute_result"
    },
    {
     "data": {
      "image/png": "[encoded data removed]",
      "text/plain": [
       "<Figure size 640x480 with 1 Axes>"
      ]
     },
     "metadata": {},
     "output_type": "display_data"
    }
   ],
   "source": [
    "import matplotlib\n",
    "\n",
    "df[k].hist()"
   ]
  },
  {
   "cell_type": "code",
   "execution_count": 14,
   "metadata": {},
   "outputs": [
    {
     "name": "stdout",
     "output_type": "stream",
     "text": [
      "Mean+STD\n",
      "+--------------------+-------------+-------------+-------------+-------------+-------------+-------------+-------------+\n",
      "| metric             | df1         | df2         | df3         | df4         | df5         | df6         | df7         |\n",
      "+====================+=============+=============+=============+=============+=============+=============+=============+\n",
      "| diff_max_v         | 0.13\\pm0.16 | 0.13\\pm0.16 | 0.11\\pm0.14 | 0.14\\pm0.18 | 0.13\\pm0.16 | 0.13\\pm0.16 | 0.12\\pm0.15 |\n",
      "| diff_max_a         | 0.18\\pm0.15 | 0.16\\pm0.14 | 0.15\\pm0.13 | 0.18\\pm0.15 | 0.16\\pm0.14 | 0.16\\pm0.14 | 0.15\\pm0.13 |\n",
      "| diff_max_d         | 0.13\\pm0.13 | 0.13\\pm0.13 | 0.13\\pm0.12 | 0.14\\pm0.14 | 0.13\\pm0.13 | 0.13\\pm0.12 | 0.13\\pm0.12 |\n",
      "| diff_max_intensity | 0.29\\pm0.26 | 0.27\\pm0.24 | 0.24\\pm0.23 | 0.28\\pm0.25 | 0.26\\pm0.24 | 0.26\\pm0.24 | 0.26\\pm0.24 |\n",
      "+--------------------+-------------+-------------+-------------+-------------+-------------+-------------+-------------+\n"
     ]
    }
   ],
   "source": [
    "print(\"Mean+STD\")\n",
    "mean_table = defaultdict(lambda:[])\n",
    "\n",
    "for metric, df in df_collection.items():\n",
    "    metric_mean = df.mean()\n",
    "    metric_std = df.std()\n",
    "    if 'mean' in metric:\n",
    "        continue\n",
    "\n",
    "    mean_table['metric'].append(metric)\n",
    "    for k,v in metric_mean.items():\n",
    "        std = df[k].std()\n",
    "        table_entry = f\"{v:.2f}\\pm{std:.2f}\"\n",
    "        mean_table[k].append(table_entry)\n",
    "    \n",
    "mean_table = pd.DataFrame(mean_table)\n",
    "# mean_table['max var dominance'] = mean_table[['df1','df2','df3','df4']].max(axis=1, numeric_only=True) / mean_table[['df1','df2','df3','df4']].min(axis=1, numeric_only=True)\n",
    "print(tabulate(mean_table, headers=mean_table.columns, floatfmt=\".2f\", showindex=False, tablefmt='outline'))"
   ]
  },
  {
   "cell_type": "code",
   "execution_count": 10,
   "metadata": {},
   "outputs": [
    {
     "data": {
      "text/html": [
       "<div>\n",
       "<style scoped>\n",
       "    .dataframe tbody tr th:only-of-type {\n",
       "        vertical-align: middle;\n",
       "    }\n",
       "\n",
       "    .dataframe tbody tr th {\n",
       "        vertical-align: top;\n",
       "    }\n",
       "\n",
       "    .dataframe thead th {\n",
       "        text-align: right;\n",
       "    }\n",
       "</style>\n",
       "<table border=\"1\" class=\"dataframe\">\n",
       "  <thead>\n",
       "    <tr style=\"text-align: right;\">\n",
       "      <th></th>\n",
       "      <th>0</th>\n",
       "      <th>1</th>\n",
       "      <th>2</th>\n",
       "      <th>3</th>\n",
       "    </tr>\n",
       "  </thead>\n",
       "  <tbody>\n",
       "    <tr>\n",
       "      <th>metric</th>\n",
       "      <td>diff_max_v</td>\n",
       "      <td>diff_max_a</td>\n",
       "      <td>diff_max_d</td>\n",
       "      <td>diff_max_intensity</td>\n",
       "    </tr>\n",
       "    <tr>\n",
       "      <th>df1</th>\n",
       "      <td>-0.05\\pm0.20</td>\n",
       "      <td>0.03\\pm0.23</td>\n",
       "      <td>-0.03\\pm0.18</td>\n",
       "      <td>0.01\\pm0.38</td>\n",
       "    </tr>\n",
       "    <tr>\n",
       "      <th>df2</th>\n",
       "      <td>-0.01\\pm0.21</td>\n",
       "      <td>0.01\\pm0.21</td>\n",
       "      <td>0.00\\pm0.18</td>\n",
       "      <td>0.04\\pm0.36</td>\n",
       "    </tr>\n",
       "    <tr>\n",
       "      <th>df3</th>\n",
       "      <td>-0.09\\pm0.16</td>\n",
       "      <td>-0.08\\pm0.18</td>\n",
       "      <td>-0.09\\pm0.15</td>\n",
       "      <td>-0.14\\pm0.30</td>\n",
       "    </tr>\n",
       "    <tr>\n",
       "      <th>df4</th>\n",
       "      <td>-0.00\\pm0.23</td>\n",
       "      <td>0.02\\pm0.23</td>\n",
       "      <td>0.01\\pm0.20</td>\n",
       "      <td>0.02\\pm0.37</td>\n",
       "    </tr>\n",
       "    <tr>\n",
       "      <th>df5</th>\n",
       "      <td>-0.01\\pm0.21</td>\n",
       "      <td>0.01\\pm0.22</td>\n",
       "      <td>0.01\\pm0.18</td>\n",
       "      <td>0.04\\pm0.35</td>\n",
       "    </tr>\n",
       "    <tr>\n",
       "      <th>df6</th>\n",
       "      <td>-0.02\\pm0.20</td>\n",
       "      <td>0.00\\pm0.21</td>\n",
       "      <td>-0.00\\pm0.18</td>\n",
       "      <td>0.01\\pm0.35</td>\n",
       "    </tr>\n",
       "  </tbody>\n",
       "</table>\n",
       "</div>"
      ],
      "text/plain": [
       "                   0             1             2                   3\n",
       "metric    diff_max_v    diff_max_a    diff_max_d  diff_max_intensity\n",
       "df1     -0.05\\pm0.20   0.03\\pm0.23  -0.03\\pm0.18         0.01\\pm0.38\n",
       "df2     -0.01\\pm0.21   0.01\\pm0.21   0.00\\pm0.18         0.04\\pm0.36\n",
       "df3     -0.09\\pm0.16  -0.08\\pm0.18  -0.09\\pm0.15        -0.14\\pm0.30\n",
       "df4     -0.00\\pm0.23   0.02\\pm0.23   0.01\\pm0.20         0.02\\pm0.37\n",
       "df5     -0.01\\pm0.21   0.01\\pm0.22   0.01\\pm0.18         0.04\\pm0.35\n",
       "df6     -0.02\\pm0.20   0.00\\pm0.21  -0.00\\pm0.18         0.01\\pm0.35"
      ]
     },
     "execution_count": 10,
     "metadata": {},
     "output_type": "execute_result"
    }
   ],
   "source": [
    "mean_table.T"
   ]
  },
  {
   "cell_type": "code",
   "execution_count": 11,
   "metadata": {},
   "outputs": [
    {
     "data": {
      "text/plain": [
       "0.3845142371891989"
      ]
     },
     "execution_count": 11,
     "metadata": {},
     "output_type": "execute_result"
    }
   ],
   "source": [
    "df['df1'].std()"
   ]
  },
  {
   "cell_type": "code",
   "execution_count": 12,
   "metadata": {},
   "outputs": [
    {
     "data": {
      "text/plain": [
       "df1    0.384514\n",
       "df2    0.359218\n",
       "df3    0.303362\n",
       "df4    0.373249\n",
       "df5    0.352598\n",
       "df6    0.353676\n",
       "dtype: float64"
      ]
     },
     "execution_count": 12,
     "metadata": {},
     "output_type": "execute_result"
    }
   ],
   "source": [
    "metric_std"
   ]
  },
  {
   "cell_type": "code",
   "execution_count": 13,
   "metadata": {},
   "outputs": [
    {
     "name": "stdout",
     "output_type": "stream",
     "text": [
      "Median\n",
      "+--------------------+--------+--------+--------+--------+--------+--------+\n",
      "| metric             |    df1 |    df2 |    df3 |    df4 |    df5 |    df6 |\n",
      "+====================+========+========+========+========+========+========+\n",
      "| diff_max_v         | -0.032 | -0.004 | -0.052 | -0.009 | -0.009 | -0.017 |\n",
      "| diff_mean_v        | -0.051 | -0.031 | -0.067 | -0.032 | -0.030 | -0.032 |\n",
      "| diff_max_a         |  0.028 |  0.000 | -0.061 |  0.006 |  0.001 |  0.000 |\n",
      "| diff_mean_a        | -0.019 | -0.021 | -0.038 | -0.021 | -0.021 | -0.020 |\n",
      "| diff_max_d         | -0.021 |  0.000 | -0.071 |  0.000 |  0.000 |  0.000 |\n",
      "| diff_mean_d        | -0.039 | -0.025 | -0.049 | -0.025 | -0.025 | -0.025 |\n",
      "| diff_max_intensity |  0.000 |  0.000 | -0.102 |  0.000 |  0.000 |  0.000 |\n",
      "+--------------------+--------+--------+--------+--------+--------+--------+\n"
     ]
    }
   ],
   "source": [
    "print(\"Median\")\n",
    "median_table = defaultdict(lambda:[])\n",
    "\n",
    "for metric, df in df_collection.items():\n",
    "    metric_median = df.median()\n",
    "\n",
    "    median_table['metric'].append(metric)\n",
    "    for k,v in metric_median.items():\n",
    "        median_table[k].append(v)\n",
    "    \n",
    "median_table = pd.DataFrame(median_table)\n",
    "# median_table['max var dominance'] = median_table[['df1','df2','df3','df4']].max(axis=1, numeric_only=True) / median_table[['df1','df2','df3','df4']].min(axis=1, numeric_only=True)\n",
    "print(tabulate(median_table, headers=median_table.columns, floatfmt=\".3f\", showindex=False, tablefmt='outline'))"
   ]
  },
  {
   "cell_type": "code",
   "execution_count": 14,
   "metadata": {},
   "outputs": [
    {
     "name": "stdout",
     "output_type": "stream",
     "text": [
      "Std\n",
      "+--------------------+-------+-------+-------+-------+-------+-------+\n",
      "| metric             |   df1 |   df2 |   df3 |   df4 |   df5 |   df6 |\n",
      "+====================+=======+=======+=======+=======+=======+=======+\n",
      "| diff_max_v         | 0.203 | 0.206 | 0.158 | 0.229 | 0.212 | 0.204 |\n",
      "| diff_mean_v        | 0.099 | 0.095 | 0.077 | 0.105 | 0.099 | 0.096 |\n",
      "| diff_max_a         | 0.228 | 0.214 | 0.182 | 0.232 | 0.215 | 0.209 |\n",
      "| diff_mean_a        | 0.070 | 0.070 | 0.058 | 0.075 | 0.070 | 0.067 |\n",
      "| diff_max_d         | 0.177 | 0.182 | 0.153 | 0.202 | 0.183 | 0.176 |\n",
      "| diff_mean_d        | 0.082 | 0.078 | 0.067 | 0.086 | 0.081 | 0.078 |\n",
      "| diff_max_intensity | 0.385 | 0.359 | 0.303 | 0.373 | 0.353 | 0.354 |\n",
      "+--------------------+-------+-------+-------+-------+-------+-------+\n"
     ]
    }
   ],
   "source": [
    "print(\"Std\")\n",
    "std_table = defaultdict(lambda:[])\n",
    "\n",
    "for metric, df in df_collection.items():\n",
    "    metric_std = df.std()\n",
    "\n",
    "    std_table['metric'].append(metric)\n",
    "    for k,v in metric_std.items():\n",
    "        std_table[k].append(v)\n",
    "    \n",
    "std_table = pd.DataFrame(std_table)\n",
    "# std_table['max var dominance'] = std_table[['df1','df2','df3','df4']].max(axis=1, numeric_only=True) / std_table[['df1','df2','df3','df4']].min(axis=1, numeric_only=True)\n",
    "print(tabulate(std_table, headers=std_table.columns, floatfmt=\".3f\", showindex=False, tablefmt='outline'))"
   ]
  },
  {
   "cell_type": "markdown",
   "metadata": {},
   "source": [
    "### Sig test, model v human"
   ]
  },
  {
   "cell_type": "code",
   "execution_count": 15,
   "metadata": {},
   "outputs": [
    {
     "data": {
      "text/html": [
       "<div>\n",
       "<style scoped>\n",
       "    .dataframe tbody tr th:only-of-type {\n",
       "        vertical-align: middle;\n",
       "    }\n",
       "\n",
       "    .dataframe tbody tr th {\n",
       "        vertical-align: top;\n",
       "    }\n",
       "\n",
       "    .dataframe thead th {\n",
       "        text-align: right;\n",
       "    }\n",
       "</style>\n",
       "<table border=\"1\" class=\"dataframe\">\n",
       "  <thead>\n",
       "    <tr style=\"text-align: right;\">\n",
       "      <th></th>\n",
       "      <th>df1</th>\n",
       "      <th>df2</th>\n",
       "      <th>df3</th>\n",
       "      <th>df4</th>\n",
       "      <th>df5</th>\n",
       "      <th>df6</th>\n",
       "    </tr>\n",
       "  </thead>\n",
       "  <tbody>\n",
       "    <tr>\n",
       "      <th>0</th>\n",
       "      <td>-0.021</td>\n",
       "      <td>0.667</td>\n",
       "      <td>-0.114</td>\n",
       "      <td>0.058</td>\n",
       "      <td>-0.021</td>\n",
       "      <td>-0.021</td>\n",
       "    </tr>\n",
       "    <tr>\n",
       "      <th>1</th>\n",
       "      <td>-0.438</td>\n",
       "      <td>-0.547</td>\n",
       "      <td>-0.484</td>\n",
       "      <td>-0.438</td>\n",
       "      <td>-0.484</td>\n",
       "      <td>-0.547</td>\n",
       "    </tr>\n",
       "    <tr>\n",
       "      <th>2</th>\n",
       "      <td>-0.055</td>\n",
       "      <td>0.125</td>\n",
       "      <td>-0.070</td>\n",
       "      <td>0.195</td>\n",
       "      <td>0.125</td>\n",
       "      <td>0.125</td>\n",
       "    </tr>\n",
       "    <tr>\n",
       "      <th>3</th>\n",
       "      <td>0.000</td>\n",
       "      <td>-0.206</td>\n",
       "      <td>-0.315</td>\n",
       "      <td>-0.061</td>\n",
       "      <td>-0.206</td>\n",
       "      <td>-0.206</td>\n",
       "    </tr>\n",
       "    <tr>\n",
       "      <th>4</th>\n",
       "      <td>0.195</td>\n",
       "      <td>0.875</td>\n",
       "      <td>0.316</td>\n",
       "      <td>0.336</td>\n",
       "      <td>0.094</td>\n",
       "      <td>0.195</td>\n",
       "    </tr>\n",
       "    <tr>\n",
       "      <th>...</th>\n",
       "      <td>...</td>\n",
       "      <td>...</td>\n",
       "      <td>...</td>\n",
       "      <td>...</td>\n",
       "      <td>...</td>\n",
       "      <td>...</td>\n",
       "    </tr>\n",
       "    <tr>\n",
       "      <th>2535</th>\n",
       "      <td>-0.680</td>\n",
       "      <td>-0.531</td>\n",
       "      <td>-0.203</td>\n",
       "      <td>-0.617</td>\n",
       "      <td>-0.531</td>\n",
       "      <td>-0.516</td>\n",
       "    </tr>\n",
       "    <tr>\n",
       "      <th>2536</th>\n",
       "      <td>-0.500</td>\n",
       "      <td>-0.297</td>\n",
       "      <td>-0.352</td>\n",
       "      <td>0.281</td>\n",
       "      <td>-0.235</td>\n",
       "      <td>-0.189</td>\n",
       "    </tr>\n",
       "    <tr>\n",
       "      <th>2537</th>\n",
       "      <td>-0.680</td>\n",
       "      <td>0.000</td>\n",
       "      <td>-0.469</td>\n",
       "      <td>-0.609</td>\n",
       "      <td>0.000</td>\n",
       "      <td>0.000</td>\n",
       "    </tr>\n",
       "    <tr>\n",
       "      <th>2538</th>\n",
       "      <td>0.047</td>\n",
       "      <td>0.030</td>\n",
       "      <td>0.727</td>\n",
       "      <td>0.133</td>\n",
       "      <td>0.030</td>\n",
       "      <td>0.030</td>\n",
       "    </tr>\n",
       "    <tr>\n",
       "      <th>2539</th>\n",
       "      <td>0.000</td>\n",
       "      <td>-0.212</td>\n",
       "      <td>0.000</td>\n",
       "      <td>-0.641</td>\n",
       "      <td>-0.212</td>\n",
       "      <td>-0.212</td>\n",
       "    </tr>\n",
       "  </tbody>\n",
       "</table>\n",
       "<p>2540 rows × 6 columns</p>\n",
       "</div>"
      ],
      "text/plain": [
       "        df1    df2    df3    df4    df5    df6\n",
       "0    -0.021  0.667 -0.114  0.058 -0.021 -0.021\n",
       "1    -0.438 -0.547 -0.484 -0.438 -0.484 -0.547\n",
       "2    -0.055  0.125 -0.070  0.195  0.125  0.125\n",
       "3     0.000 -0.206 -0.315 -0.061 -0.206 -0.206\n",
       "4     0.195  0.875  0.316  0.336  0.094  0.195\n",
       "...     ...    ...    ...    ...    ...    ...\n",
       "2535 -0.680 -0.531 -0.203 -0.617 -0.531 -0.516\n",
       "2536 -0.500 -0.297 -0.352  0.281 -0.235 -0.189\n",
       "2537 -0.680  0.000 -0.469 -0.609  0.000  0.000\n",
       "2538  0.047  0.030  0.727  0.133  0.030  0.030\n",
       "2539  0.000 -0.212  0.000 -0.641 -0.212 -0.212\n",
       "\n",
       "[2540 rows x 6 columns]"
      ]
     },
     "execution_count": 15,
     "metadata": {},
     "output_type": "execute_result"
    }
   ],
   "source": [
    "df"
   ]
  },
  {
   "cell_type": "code",
   "execution_count": 30,
   "metadata": {},
   "outputs": [
    {
     "name": "stdout",
     "output_type": "stream",
     "text": [
      "Model vs. human significance test\n"
     ]
    },
    {
     "name": "stderr",
     "output_type": "stream",
     "text": [
      "Running sig tests: 100%|██████████| 7/7 [00:44<00:00,  6.42s/it]"
     ]
    },
    {
     "name": "stdout",
     "output_type": "stream",
     "text": [
      "+---------+--------------+---------------+--------------+---------------+--------------+---------------+----------------------+\n",
      "| model   |   diff_max_v |   diff_mean_v |   diff_max_a |   diff_mean_a |   diff_max_d |   diff_mean_d |   diff_max_intensity |\n",
      "+=========+==============+===============+==============+===============+==============+===============+======================+\n",
      "| df1     |       -1.946 |         1.714 |        0.238 |        -2.573 |       -4.398 |         1.356 |                0.988 |\n",
      "| df2     |       -2.374 |        -3.549 |       -3.679 |        -1.938 |       -3.510 |        -3.389 |               -1.576 |\n",
      "| df3     |       -6.365 |        -1.714 |       -6.704 |        -3.943 |       -4.255 |        -2.166 |               -5.671 |\n",
      "| df5     |       -1.686 |        -2.429 |       -3.505 |        -1.786 |       -3.672 |        -2.322 |               -2.690 |\n",
      "| df6     |       -2.378 |        -3.101 |       -4.400 |        -3.446 |       -4.788 |        -3.645 |               -3.124 |\n",
      "+---------+--------------+---------------+--------------+---------------+--------------+---------------+----------------------+\n",
      "+---------+--------------+---------------+--------------+---------------+--------------+---------------+----------------------+\n",
      "| model   |   diff_max_v |   diff_mean_v |   diff_max_a |   diff_mean_a |   diff_max_d |   diff_mean_d |   diff_max_intensity |\n",
      "+=========+==============+===============+==============+===============+==============+===============+======================+\n",
      "| df1     |      0.05099 |       0.08709 |      0.81142 |       0.01050 |      0.00010 |       0.17108 |              0.32567 |\n",
      "| df2     |      0.01880 |       0.00040 |      0.00040 |       0.05319 |      0.00040 |       0.00060 |              0.11249 |\n",
      "| df3     |      0.00010 |       0.08319 |      0.00010 |       0.00010 |      0.00010 |       0.02900 |              0.00010 |\n",
      "| df5     |      0.09219 |       0.01490 |      0.00070 |       0.07599 |      0.00020 |       0.01990 |              0.00790 |\n",
      "| df6     |      0.01800 |       0.00190 |      0.00010 |       0.00030 |      0.00010 |       0.00030 |              0.00170 |\n",
      "+---------+--------------+---------------+--------------+---------------+--------------+---------------+----------------------+\n"
     ]
    },
    {
     "name": "stderr",
     "output_type": "stream",
     "text": [
      "\n"
     ]
    }
   ],
   "source": [
    "from tqdm import tqdm\n",
    "\n",
    "print(\"Model vs. human significance test\")\n",
    "sig_thresh = 1\n",
    "sig_table = defaultdict(lambda:[])\n",
    "pval_table = defaultdict(lambda:[])\n",
    "sig_table['model'] = ['df1', 'df2', 'df3', 'df5', 'df6']\n",
    "pval_table['model'] = ['df1', 'df2', 'df3', 'df5', 'df6']\n",
    "\n",
    "for metric, df in tqdm(df_collection.items(), desc='Running sig tests', total=len(df_collection)):\n",
    "\n",
    "    for model in ['df1', 'df2', 'df3', 'df5', 'df6']:\n",
    "        \n",
    "        res = stats.ttest_ind(df[model], df['df4'], equal_var=False, permutations=10000, random_state=34)\n",
    "        if res.pvalue <= sig_thresh:\n",
    "            sig_table[metric].append(res.statistic)\n",
    "        else:\n",
    "            sig_table[metric].append(None)\n",
    "        pval_table[metric].append(res.pvalue)\n",
    "\n",
    "      \n",
    "sig_table = pd.DataFrame(sig_table)\n",
    "pval_table = pd.DataFrame(pval_table)\n",
    "# sig_table['max var dominance'] = sig_table[['df1','df2','df3','df4']].max(axis=1, numeric_only=True) / sig_table[['df1','df2','df3','df4']].min(axis=1, numeric_only=True)\n",
    "print(tabulate(sig_table, headers=sig_table.columns, floatfmt=\".3f\", showindex=False, tablefmt='outline'))\n",
    "print(tabulate(pval_table, headers=pval_table.columns, floatfmt=\".5f\", showindex=False, tablefmt='outline'))"
   ]
  },
  {
   "cell_type": "code",
   "execution_count": 31,
   "metadata": {},
   "outputs": [
    {
     "name": "stdout",
     "output_type": "stream",
     "text": [
      "Model vs. human significance test\n"
     ]
    },
    {
     "name": "stderr",
     "output_type": "stream",
     "text": [
      "Running sig tests: 100%|██████████| 7/7 [03:02<00:00, 26.06s/it]"
     ]
    },
    {
     "name": "stdout",
     "output_type": "stream",
     "text": [
      "+-------------+--------------+---------------+--------------+---------------+--------------+---------------+----------------------+\n",
      "| pair        |   diff_max_v |   diff_mean_v |   diff_max_a |   diff_mean_a | diff_max_d   |   diff_mean_d |   diff_max_intensity |\n",
      "+=============+==============+===============+==============+===============+==============+===============+======================+\n",
      "| df1 vs. df2 |      nan     |         5.409 |        4.006 |       nan     |              |         4.850 |                2.552 |\n",
      "| df1 vs. df3 |        4.613 |         3.592 |        7.113 |       nan     |              |         3.640 |                6.598 |\n",
      "| df1 vs. df5 |      nan     |         4.231 |        3.827 |       nan     |              |         3.752 |                3.650 |\n",
      "| df1 vs. df6 |      nan     |         4.956 |        4.749 |       nan     |              |         5.108 |                4.072 |\n",
      "| df2 vs. df1 |      nan     |        -5.409 |       -4.006 |       nan     |              |        -4.850 |               -2.552 |\n",
      "| df2 vs. df3 |        4.144 |        -2.045 |        3.044 |         2.011 |              |       nan     |                4.120 |\n",
      "| df2 vs. df5 |      nan     |       nan     |      nan     |       nan     |              |       nan     |              nan     |\n",
      "| df2 vs. df6 |      nan     |       nan     |      nan     |       nan     |              |       nan     |              nan     |\n",
      "| df3 vs. df1 |       -4.613 |        -3.592 |       -7.113 |       nan     |              |        -3.640 |               -6.598 |\n",
      "| df3 vs. df2 |       -4.144 |         2.045 |       -3.044 |        -2.011 |              |       nan     |               -4.120 |\n",
      "| df3 vs. df5 |       -4.819 |       nan     |       -3.195 |        -2.183 |              |       nan     |               -2.977 |\n",
      "| df3 vs. df6 |       -4.188 |       nan     |       -2.383 |       nan     |              |       nan     |               -2.495 |\n",
      "| df5 vs. df1 |      nan     |        -4.231 |       -3.827 |       nan     |              |        -3.752 |               -3.650 |\n",
      "| df5 vs. df2 |      nan     |       nan     |      nan     |       nan     |              |       nan     |              nan     |\n",
      "| df5 vs. df3 |        4.819 |       nan     |        3.195 |         2.183 |              |       nan     |                2.977 |\n",
      "| df5 vs. df6 |      nan     |       nan     |      nan     |       nan     |              |       nan     |              nan     |\n",
      "| df6 vs. df1 |      nan     |        -4.956 |       -4.749 |       nan     |              |        -5.108 |               -4.072 |\n",
      "| df6 vs. df2 |      nan     |       nan     |      nan     |       nan     |              |       nan     |              nan     |\n",
      "| df6 vs. df3 |        4.188 |       nan     |        2.383 |       nan     |              |       nan     |                2.495 |\n",
      "| df6 vs. df5 |      nan     |       nan     |      nan     |       nan     |              |       nan     |              nan     |\n",
      "+-------------+--------------+---------------+--------------+---------------+--------------+---------------+----------------------+\n",
      "+-------------+--------------+---------------+--------------+---------------+--------------+---------------+----------------------+\n",
      "| pair        |   diff_max_v |   diff_mean_v |   diff_max_a |   diff_mean_a |   diff_max_d |   diff_mean_d |   diff_max_intensity |\n",
      "+=============+==============+===============+==============+===============+==============+===============+======================+\n",
      "| df1 vs. df2 |      0.64554 |       0.00010 |      0.00010 |       0.49785 |      0.35906 |       0.00010 |              0.01000 |\n",
      "| df1 vs. df3 |      0.00010 |       0.00060 |      0.00010 |       0.21158 |      0.86291 |       0.00060 |              0.00010 |\n",
      "| df1 vs. df5 |      0.79872 |       0.00010 |      0.00010 |       0.39886 |      0.47975 |       0.00010 |              0.00040 |\n",
      "| df1 vs. df6 |      0.65723 |       0.00010 |      0.00010 |       0.42016 |      0.70163 |       0.00010 |              0.00010 |\n",
      "| df2 vs. df1 |      0.65263 |       0.00010 |      0.00010 |       0.49205 |      0.34807 |       0.00010 |              0.01090 |\n",
      "| df2 vs. df3 |      0.00030 |       0.03870 |      0.00330 |       0.04330 |      0.44046 |       0.16988 |              0.00020 |\n",
      "| df2 vs. df5 |      0.47595 |       0.26847 |      0.87811 |       0.87931 |      0.84662 |       0.27677 |              0.26297 |\n",
      "| df2 vs. df6 |      0.99010 |       0.63584 |      0.49085 |       0.12359 |      0.18378 |       0.78102 |              0.11449 |\n",
      "| df3 vs. df1 |      0.00010 |       0.00010 |      0.00010 |       0.20698 |      0.86051 |       0.00030 |              0.00010 |\n",
      "| df3 vs. df2 |      0.00010 |       0.04290 |      0.00210 |       0.04500 |      0.46365 |       0.17568 |              0.00010 |\n",
      "| df3 vs. df5 |      0.00010 |       0.39186 |      0.00100 |       0.03230 |      0.59014 |       0.81542 |              0.00310 |\n",
      "| df3 vs. df6 |      0.00010 |       0.11999 |      0.01600 |       0.67483 |      0.56604 |       0.10379 |              0.01270 |\n",
      "| df5 vs. df1 |      0.80192 |       0.00010 |      0.00010 |       0.39446 |      0.48025 |       0.00020 |              0.00050 |\n",
      "| df5 vs. df2 |      0.48195 |       0.26957 |      0.87041 |       0.87261 |      0.83372 |       0.28777 |              0.26187 |\n",
      "| df5 vs. df3 |      0.00010 |       0.39356 |      0.00180 |       0.02720 |      0.58954 |       0.80632 |              0.00350 |\n",
      "| df5 vs. df6 |      0.48255 |       0.52625 |      0.38716 |       0.09029 |      0.27377 |       0.17828 |              0.65013 |\n",
      "| df6 vs. df1 |      0.66123 |       0.00010 |      0.00010 |       0.41546 |      0.69653 |       0.00010 |              0.00020 |\n",
      "| df6 vs. df2 |      0.99100 |       0.63824 |      0.48575 |       0.12439 |      0.18978 |       0.78232 |              0.12199 |\n",
      "| df6 vs. df3 |      0.00010 |       0.11709 |      0.01650 |       0.67243 |      0.56414 |       0.09649 |              0.01250 |\n",
      "| df6 vs. df5 |      0.48545 |       0.52515 |      0.39296 |       0.08729 |      0.27437 |       0.18368 |              0.65583 |\n",
      "+-------------+--------------+---------------+--------------+---------------+--------------+---------------+----------------------+\n"
     ]
    },
    {
     "name": "stderr",
     "output_type": "stream",
     "text": [
      "\n"
     ]
    }
   ],
   "source": [
    "from tqdm import tqdm\n",
    "\n",
    "print(\"Model vs. human significance test\")\n",
    "sig_thresh = .05\n",
    "sig_table = defaultdict(lambda:[])\n",
    "pval_table = defaultdict(lambda:[])\n",
    "# sig_table['model'] = ['df1', 'df2', 'df3']\n",
    "# pval_table['model'] = ['df1', 'df2', 'df3']\n",
    "\n",
    "for metric, df in tqdm(df_collection.items(), desc='Running sig tests', total=len(df_collection)):\n",
    "\n",
    "    for model in ['df1', 'df2', 'df3', 'df5', 'df6']:\n",
    "        for model2 in ['df1', 'df2', 'df3', 'df5', 'df6']:\n",
    "            if model == model2:\n",
    "                continue\n",
    "            if f\"{model} vs. {model2}\" not in sig_table['pair']:\n",
    "                sig_table['pair'].append(f\"{model} vs. {model2}\")\n",
    "                pval_table['pair'].append(f\"{model} vs. {model2}\")\n",
    "\n",
    "\n",
    "        \n",
    "            res = stats.ttest_ind(df[model], df[model2], equal_var=False, permutations=10000, random_state=34)\n",
    "            if res.pvalue <= sig_thresh:\n",
    "                sig_table[metric].append(res.statistic)\n",
    "            else:\n",
    "                sig_table[metric].append(None)\n",
    "            pval_table[metric].append(res.pvalue)\n",
    "\n",
    "      \n",
    "sig_table = pd.DataFrame(sig_table)\n",
    "pval_table = pd.DataFrame(pval_table)\n",
    "# sig_table['max var dominance'] = sig_table[['df1','df2','df3','df4']].max(axis=1, numeric_only=True) / sig_table[['df1','df2','df3','df4']].min(axis=1, numeric_only=True)\n",
    "print(tabulate(sig_table, headers=sig_table.columns, floatfmt=\".3f\", showindex=False, tablefmt='outline'))\n",
    "print(tabulate(pval_table, headers=pval_table.columns, floatfmt=\".5f\", showindex=False, tablefmt='outline'))"
   ]
  },
  {
   "cell_type": "markdown",
   "metadata": {},
   "source": [
    "+-------------+--------------+---------------+--------------+---------------+--------------+---------------+----------------------+\n",
    "| pair        |   diff_max_v |   diff_mean_v |   diff_max_a |   diff_mean_a |   diff_max_d |   diff_mean_d |   diff_max_intensity |\n",
    "+=============+==============+===============+==============+===============+==============+===============+======================+\n",
    "| df1 vs. df2 |        0.451 |         5.409 |        4.006 |        -0.690 |       -0.916 |         4.850 |                2.552 |\n",
    "| df1 vs. df3 |        4.613 |         3.592 |        7.113 |         1.254 |       -0.179 |         3.640 |                6.598 |\n",
    "| df2 vs. df3 |        4.144 |        -2.045 |        3.044 |         2.011 |        0.745 |        -1.361 |                4.120 |\n",
    "+-------------+--------------+---------------+--------------+---------------+--------------+---------------+----------------------+\n",
    "+-------------+--------------+---------------+--------------+---------------+--------------+---------------+----------------------+\n",
    "| pair        |   diff_max_v |   diff_mean_v |   diff_max_a |   diff_mean_a |   diff_max_d |   diff_mean_d |   diff_max_intensity |\n",
    "+=============+==============+===============+==============+===============+==============+===============+======================+\n",
    "| df1 vs. df2 |      0.64554 |       0.00010 |      0.00010 |       0.49785 |      0.35906 |       0.00010 |              0.01000 |\n",
    "| df1 vs. df3 |      0.00010 |       0.00060 |      0.00010 |       0.21158 |      0.86291 |       0.00060 |              0.00010 |\n",
    "| df2 vs. df3 |      0.00030 |       0.03870 |      0.00330 |       0.04330 |      0.44046 |       0.16988 |              0.00020 |\n",
    "+-------------+--------------+---------------+--------------+---------------+--------------+---------------+----------------------+"
   ]
  },
  {
   "cell_type": "code",
   "execution_count": 46,
   "metadata": {},
   "outputs": [
    {
     "data": {
      "text/plain": [
       "0.3173228346456693"
      ]
     },
     "execution_count": 46,
     "metadata": {},
     "output_type": "execute_result"
    }
   ],
   "source": [
    "2538/2540\n",
    "806/2540"
   ]
  },
  {
   "cell_type": "code",
   "execution_count": 45,
   "metadata": {},
   "outputs": [
    {
     "data": {
      "text/plain": [
       "0.1458105011457607"
      ]
     },
     "execution_count": 45,
     "metadata": {},
     "output_type": "execute_result"
    }
   ],
   "source": [
    "2927 / 20074"
   ]
  },
  {
   "cell_type": "code",
   "execution_count": 47,
   "metadata": {},
   "outputs": [
    {
     "data": {
      "text/plain": [
       "0.2209388576878245"
      ]
     },
     "execution_count": 47,
     "metadata": {},
     "output_type": "execute_result"
    }
   ],
   "source": [
    "2085 / 9437"
   ]
  },
  {
   "cell_type": "code",
   "execution_count": 48,
   "metadata": {},
   "outputs": [
    {
     "data": {
      "text/plain": [
       "0.9956692913385827"
      ]
     },
     "execution_count": 48,
     "metadata": {},
     "output_type": "execute_result"
    }
   ],
   "source": [
    "2529/2540"
   ]
  },
  {
   "cell_type": "code",
   "execution_count": 49,
   "metadata": {},
   "outputs": [
    {
     "data": {
      "text/plain": [
       "0.18359697386519944"
      ]
     },
     "execution_count": 49,
     "metadata": {},
     "output_type": "execute_result"
    }
   ],
   "source": [
    "5339 / 29080"
   ]
  },
  {
   "cell_type": "code",
   "execution_count": 50,
   "metadata": {},
   "outputs": [
    {
     "data": {
      "text/plain": [
       "0.3102362204724409"
      ]
     },
     "execution_count": 50,
     "metadata": {},
     "output_type": "execute_result"
    }
   ],
   "source": [
    "788/2540"
   ]
  }
 ],
 "metadata": {
  "kernelspec": {
   "display_name": "nlp",
   "language": "python",
   "name": "python3"
  },
  "language_info": {
   "codemirror_mode": {
    "name": "ipython",
    "version": 3
   },
   "file_extension": ".py",
   "mimetype": "text/x-python",
   "name": "python",
   "nbconvert_exporter": "python",
   "pygments_lexer": "ipython3",
   "version": "3.11.5"
  }
 },
 "nbformat": 4,
 "nbformat_minor": 2
}
